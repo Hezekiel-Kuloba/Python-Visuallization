{
  "nbformat": 4,
  "nbformat_minor": 0,
  "metadata": {
    "colab": {
      "provenance": []
    },
    "kernelspec": {
      "name": "python3",
      "display_name": "Python 3"
    },
    "language_info": {
      "name": "python"
    },
    "widgets": {
      "application/vnd.jupyter.widget-state+json": {
        "560871fb800d4f6fb38dedd86e10b20c": {
          "model_module": "@jupyter-widgets/controls",
          "model_name": "VBoxModel",
          "model_module_version": "1.5.0",
          "state": {
            "_dom_classes": [
              "widget-interact"
            ],
            "_model_module": "@jupyter-widgets/controls",
            "_model_module_version": "1.5.0",
            "_model_name": "VBoxModel",
            "_view_count": null,
            "_view_module": "@jupyter-widgets/controls",
            "_view_module_version": "1.5.0",
            "_view_name": "VBoxView",
            "box_style": "",
            "children": [
              "IPY_MODEL_03b2330527284eaebb80c085322a89ab",
              "IPY_MODEL_c58d6f0e3bd249ee9319922c353cb977",
              "IPY_MODEL_3f6dad8bca654389bee34d1182246422"
            ],
            "layout": "IPY_MODEL_2d87358b04244ca3bb9d703b58b6eb97"
          }
        },
        "03b2330527284eaebb80c085322a89ab": {
          "model_module": "@jupyter-widgets/controls",
          "model_name": "TextModel",
          "model_module_version": "1.5.0",
          "state": {
            "_dom_classes": [],
            "_model_module": "@jupyter-widgets/controls",
            "_model_module_version": "1.5.0",
            "_model_name": "TextModel",
            "_view_count": null,
            "_view_module": "@jupyter-widgets/controls",
            "_view_module_version": "1.5.0",
            "_view_name": "TextView",
            "continuous_update": true,
            "description": "column",
            "description_tooltip": null,
            "disabled": false,
            "layout": "IPY_MODEL_c6df475f93a34dccb41acb1e828fd35f",
            "placeholder": "​",
            "style": "IPY_MODEL_281f43312a114ee2956ca86d524291d3",
            "value": "claps"
          }
        },
        "c58d6f0e3bd249ee9319922c353cb977": {
          "model_module": "@jupyter-widgets/controls",
          "model_name": "IntSliderModel",
          "model_module_version": "1.5.0",
          "state": {
            "_dom_classes": [],
            "_model_module": "@jupyter-widgets/controls",
            "_model_module_version": "1.5.0",
            "_model_name": "IntSliderModel",
            "_view_count": null,
            "_view_module": "@jupyter-widgets/controls",
            "_view_module_version": "1.5.0",
            "_view_name": "IntSliderView",
            "continuous_update": true,
            "description": "x",
            "description_tooltip": null,
            "disabled": false,
            "layout": "IPY_MODEL_19960e51dd0c4bcaa48462af3bcd4d1c",
            "max": 15000,
            "min": -5000,
            "orientation": "horizontal",
            "readout": true,
            "readout_format": "d",
            "step": 1,
            "style": "IPY_MODEL_aebaf3a5d53049a29cd22a959fbd5ffb",
            "value": 5000
          }
        },
        "3f6dad8bca654389bee34d1182246422": {
          "model_module": "@jupyter-widgets/output",
          "model_name": "OutputModel",
          "model_module_version": "1.0.0",
          "state": {
            "_dom_classes": [],
            "_model_module": "@jupyter-widgets/output",
            "_model_module_version": "1.0.0",
            "_model_name": "OutputModel",
            "_view_count": null,
            "_view_module": "@jupyter-widgets/output",
            "_view_module_version": "1.0.0",
            "_view_name": "OutputView",
            "layout": "IPY_MODEL_dd106b7991ef4549827278b7ff87d56e",
            "msg_id": "",
            "outputs": [
              {
                "output_type": "display_data",
                "data": {
                  "text/plain": "<IPython.core.display.HTML object>",
                  "text/html": "<h4>Showing articles with more than 5000 claps<h4>"
                },
                "metadata": {}
              },
              {
                "output_type": "display_data",
                "data": {
                  "text/plain": "                                                 title  claps  \\\n100                         Stock Prediction in Python   7300   \n88          Python is the Perfect Tool for any Problem  12900   \n89                  Markov Chain Monte Carlo in Python   5100   \n83                                 Bayes’ Rule Applied   6000   \n82               Beyond Accuracy: Precision and Recall   7000   \n84                     Controlling the Web with Python   7000   \n75          Introduction to Bayesian Linear Regression   5500   \n65   Web Scraping, Regular Expressions, and Data Vi...   8000   \n69   A Complete Machine Learning Project Walk-Throu...  13600   \n62   Machine Learning Kaggle Competition Part One: ...   6400   \n66             Automated Feature Engineering in Python   8500   \n63   A Feature Selection Tool for Machine Learning ...   5500   \n19      The Next Level of Data Visualization in Python   7600   \n\n         published_date  read_time  \\\n100 2018-01-19 15:30:00         12   \n88  2018-02-04 09:12:00          3   \n89  2018-02-09 22:29:00         12   \n83  2018-02-14 11:27:00          9   \n82  2018-03-03 11:10:00         11   \n84  2018-03-10 16:16:00          9   \n75  2018-04-13 20:38:00         10   \n65  2018-04-28 15:27:00          7   \n69  2018-05-16 12:33:00         15   \n62  2018-05-28 11:39:00         12   \n66  2018-06-02 10:01:00         11   \n63  2018-06-22 10:12:00         10   \n19  2019-01-08 22:09:00          8   \n\n                                                  tags   views  reads  \n100  [Machine Learning, Data Science, Programming, ...  134699  41978  \n88   [Python, Programming, Education, Data Science,...   48157  30099  \n89   [Machine Learning, Data Science, Programming, ...   57830  16735  \n83   [Statistics, Programming, Education, Data Anal...   35505  11491  \n82   [Machine Learning, Data Science, Education, St...  128661  26327  \n84   [Python, Education, Programming, Internet, Tow...   65054  14614  \n75   [Data Science, Education, Statistics, Learning...   58471  19805  \n65   [Data Science, Programming, Education, Compute...   68317  21607  \n69   [Machine Learning, Education, Data Science, Py...  124970  23587  \n62   [Data Science, Machine Learning, Towards Data ...   43577  10398  \n66   [Machine Learning, Towards Data Science, Data ...  114762  25139  \n63   [Machine Learning, Python, Education, Programm...   80618  20592  \n19   [Data Science, Data Visualization, Python, Edu...   71225  24002  ",
                  "text/html": "\n  <div id=\"df-34b193ef-ba8a-45e3-9cf2-d30ac51f2842\" class=\"colab-df-container\">\n    <div>\n<style scoped>\n    .dataframe tbody tr th:only-of-type {\n        vertical-align: middle;\n    }\n\n    .dataframe tbody tr th {\n        vertical-align: top;\n    }\n\n    .dataframe thead th {\n        text-align: right;\n    }\n</style>\n<table border=\"1\" class=\"dataframe\">\n  <thead>\n    <tr style=\"text-align: right;\">\n      <th></th>\n      <th>title</th>\n      <th>claps</th>\n      <th>published_date</th>\n      <th>read_time</th>\n      <th>tags</th>\n      <th>views</th>\n      <th>reads</th>\n    </tr>\n  </thead>\n  <tbody>\n    <tr>\n      <th>100</th>\n      <td>Stock Prediction in Python</td>\n      <td>7300</td>\n      <td>2018-01-19 15:30:00</td>\n      <td>12</td>\n      <td>[Machine Learning, Data Science, Programming, ...</td>\n      <td>134699</td>\n      <td>41978</td>\n    </tr>\n    <tr>\n      <th>88</th>\n      <td>Python is the Perfect Tool for any Problem</td>\n      <td>12900</td>\n      <td>2018-02-04 09:12:00</td>\n      <td>3</td>\n      <td>[Python, Programming, Education, Data Science,...</td>\n      <td>48157</td>\n      <td>30099</td>\n    </tr>\n    <tr>\n      <th>89</th>\n      <td>Markov Chain Monte Carlo in Python</td>\n      <td>5100</td>\n      <td>2018-02-09 22:29:00</td>\n      <td>12</td>\n      <td>[Machine Learning, Data Science, Programming, ...</td>\n      <td>57830</td>\n      <td>16735</td>\n    </tr>\n    <tr>\n      <th>83</th>\n      <td>Bayes’ Rule Applied</td>\n      <td>6000</td>\n      <td>2018-02-14 11:27:00</td>\n      <td>9</td>\n      <td>[Statistics, Programming, Education, Data Anal...</td>\n      <td>35505</td>\n      <td>11491</td>\n    </tr>\n    <tr>\n      <th>82</th>\n      <td>Beyond Accuracy: Precision and Recall</td>\n      <td>7000</td>\n      <td>2018-03-03 11:10:00</td>\n      <td>11</td>\n      <td>[Machine Learning, Data Science, Education, St...</td>\n      <td>128661</td>\n      <td>26327</td>\n    </tr>\n    <tr>\n      <th>84</th>\n      <td>Controlling the Web with Python</td>\n      <td>7000</td>\n      <td>2018-03-10 16:16:00</td>\n      <td>9</td>\n      <td>[Python, Education, Programming, Internet, Tow...</td>\n      <td>65054</td>\n      <td>14614</td>\n    </tr>\n    <tr>\n      <th>75</th>\n      <td>Introduction to Bayesian Linear Regression</td>\n      <td>5500</td>\n      <td>2018-04-13 20:38:00</td>\n      <td>10</td>\n      <td>[Data Science, Education, Statistics, Learning...</td>\n      <td>58471</td>\n      <td>19805</td>\n    </tr>\n    <tr>\n      <th>65</th>\n      <td>Web Scraping, Regular Expressions, and Data Vi...</td>\n      <td>8000</td>\n      <td>2018-04-28 15:27:00</td>\n      <td>7</td>\n      <td>[Data Science, Programming, Education, Compute...</td>\n      <td>68317</td>\n      <td>21607</td>\n    </tr>\n    <tr>\n      <th>69</th>\n      <td>A Complete Machine Learning Project Walk-Throu...</td>\n      <td>13600</td>\n      <td>2018-05-16 12:33:00</td>\n      <td>15</td>\n      <td>[Machine Learning, Education, Data Science, Py...</td>\n      <td>124970</td>\n      <td>23587</td>\n    </tr>\n    <tr>\n      <th>62</th>\n      <td>Machine Learning Kaggle Competition Part One: ...</td>\n      <td>6400</td>\n      <td>2018-05-28 11:39:00</td>\n      <td>12</td>\n      <td>[Data Science, Machine Learning, Towards Data ...</td>\n      <td>43577</td>\n      <td>10398</td>\n    </tr>\n    <tr>\n      <th>66</th>\n      <td>Automated Feature Engineering in Python</td>\n      <td>8500</td>\n      <td>2018-06-02 10:01:00</td>\n      <td>11</td>\n      <td>[Machine Learning, Towards Data Science, Data ...</td>\n      <td>114762</td>\n      <td>25139</td>\n    </tr>\n    <tr>\n      <th>63</th>\n      <td>A Feature Selection Tool for Machine Learning ...</td>\n      <td>5500</td>\n      <td>2018-06-22 10:12:00</td>\n      <td>10</td>\n      <td>[Machine Learning, Python, Education, Programm...</td>\n      <td>80618</td>\n      <td>20592</td>\n    </tr>\n    <tr>\n      <th>19</th>\n      <td>The Next Level of Data Visualization in Python</td>\n      <td>7600</td>\n      <td>2019-01-08 22:09:00</td>\n      <td>8</td>\n      <td>[Data Science, Data Visualization, Python, Edu...</td>\n      <td>71225</td>\n      <td>24002</td>\n    </tr>\n  </tbody>\n</table>\n</div>\n    <div class=\"colab-df-buttons\">\n\n  <div class=\"colab-df-container\">\n    <button class=\"colab-df-convert\" onclick=\"convertToInteractive('df-34b193ef-ba8a-45e3-9cf2-d30ac51f2842')\"\n            title=\"Convert this dataframe to an interactive table.\"\n            style=\"display:none;\">\n\n  <svg xmlns=\"http://www.w3.org/2000/svg\" height=\"24px\" viewBox=\"0 -960 960 960\">\n    <path d=\"M120-120v-720h720v720H120Zm60-500h600v-160H180v160Zm220 220h160v-160H400v160Zm0 220h160v-160H400v160ZM180-400h160v-160H180v160Zm440 0h160v-160H620v160ZM180-180h160v-160H180v160Zm440 0h160v-160H620v160Z\"/>\n  </svg>\n    </button>\n\n  <style>\n    .colab-df-container {\n      display:flex;\n      gap: 12px;\n    }\n\n    .colab-df-convert {\n      background-color: #E8F0FE;\n      border: none;\n      border-radius: 50%;\n      cursor: pointer;\n      display: none;\n      fill: #1967D2;\n      height: 32px;\n      padding: 0 0 0 0;\n      width: 32px;\n    }\n\n    .colab-df-convert:hover {\n      background-color: #E2EBFA;\n      box-shadow: 0px 1px 2px rgba(60, 64, 67, 0.3), 0px 1px 3px 1px rgba(60, 64, 67, 0.15);\n      fill: #174EA6;\n    }\n\n    .colab-df-buttons div {\n      margin-bottom: 4px;\n    }\n\n    [theme=dark] .colab-df-convert {\n      background-color: #3B4455;\n      fill: #D2E3FC;\n    }\n\n    [theme=dark] .colab-df-convert:hover {\n      background-color: #434B5C;\n      box-shadow: 0px 1px 3px 1px rgba(0, 0, 0, 0.15);\n      filter: drop-shadow(0px 1px 2px rgba(0, 0, 0, 0.3));\n      fill: #FFFFFF;\n    }\n  </style>\n\n    <script>\n      const buttonEl =\n        document.querySelector('#df-34b193ef-ba8a-45e3-9cf2-d30ac51f2842 button.colab-df-convert');\n      buttonEl.style.display =\n        google.colab.kernel.accessAllowed ? 'block' : 'none';\n\n      async function convertToInteractive(key) {\n        const element = document.querySelector('#df-34b193ef-ba8a-45e3-9cf2-d30ac51f2842');\n        const dataTable =\n          await google.colab.kernel.invokeFunction('convertToInteractive',\n                                                    [key], {});\n        if (!dataTable) return;\n\n        const docLinkHtml = 'Like what you see? Visit the ' +\n          '<a target=\"_blank\" href=https://colab.research.google.com/notebooks/data_table.ipynb>data table notebook</a>'\n          + ' to learn more about interactive tables.';\n        element.innerHTML = '';\n        dataTable['output_type'] = 'display_data';\n        await google.colab.output.renderOutput(dataTable, element);\n        const docLink = document.createElement('div');\n        docLink.innerHTML = docLinkHtml;\n        element.appendChild(docLink);\n      }\n    </script>\n  </div>\n\n\n<div id=\"df-23948c4d-a9d0-4c0c-a783-45f616d8f2e5\">\n  <button class=\"colab-df-quickchart\" onclick=\"quickchart('df-23948c4d-a9d0-4c0c-a783-45f616d8f2e5')\"\n            title=\"Suggest charts\"\n            style=\"display:none;\">\n\n<svg xmlns=\"http://www.w3.org/2000/svg\" height=\"24px\"viewBox=\"0 0 24 24\"\n     width=\"24px\">\n    <g>\n        <path d=\"M19 3H5c-1.1 0-2 .9-2 2v14c0 1.1.9 2 2 2h14c1.1 0 2-.9 2-2V5c0-1.1-.9-2-2-2zM9 17H7v-7h2v7zm4 0h-2V7h2v10zm4 0h-2v-4h2v4z\"/>\n    </g>\n</svg>\n  </button>\n\n<style>\n  .colab-df-quickchart {\n      --bg-color: #E8F0FE;\n      --fill-color: #1967D2;\n      --hover-bg-color: #E2EBFA;\n      --hover-fill-color: #174EA6;\n      --disabled-fill-color: #AAA;\n      --disabled-bg-color: #DDD;\n  }\n\n  [theme=dark] .colab-df-quickchart {\n      --bg-color: #3B4455;\n      --fill-color: #D2E3FC;\n      --hover-bg-color: #434B5C;\n      --hover-fill-color: #FFFFFF;\n      --disabled-bg-color: #3B4455;\n      --disabled-fill-color: #666;\n  }\n\n  .colab-df-quickchart {\n    background-color: var(--bg-color);\n    border: none;\n    border-radius: 50%;\n    cursor: pointer;\n    display: none;\n    fill: var(--fill-color);\n    height: 32px;\n    padding: 0;\n    width: 32px;\n  }\n\n  .colab-df-quickchart:hover {\n    background-color: var(--hover-bg-color);\n    box-shadow: 0 1px 2px rgba(60, 64, 67, 0.3), 0 1px 3px 1px rgba(60, 64, 67, 0.15);\n    fill: var(--button-hover-fill-color);\n  }\n\n  .colab-df-quickchart-complete:disabled,\n  .colab-df-quickchart-complete:disabled:hover {\n    background-color: var(--disabled-bg-color);\n    fill: var(--disabled-fill-color);\n    box-shadow: none;\n  }\n\n  .colab-df-spinner {\n    border: 2px solid var(--fill-color);\n    border-color: transparent;\n    border-bottom-color: var(--fill-color);\n    animation:\n      spin 1s steps(1) infinite;\n  }\n\n  @keyframes spin {\n    0% {\n      border-color: transparent;\n      border-bottom-color: var(--fill-color);\n      border-left-color: var(--fill-color);\n    }\n    20% {\n      border-color: transparent;\n      border-left-color: var(--fill-color);\n      border-top-color: var(--fill-color);\n    }\n    30% {\n      border-color: transparent;\n      border-left-color: var(--fill-color);\n      border-top-color: var(--fill-color);\n      border-right-color: var(--fill-color);\n    }\n    40% {\n      border-color: transparent;\n      border-right-color: var(--fill-color);\n      border-top-color: var(--fill-color);\n    }\n    60% {\n      border-color: transparent;\n      border-right-color: var(--fill-color);\n    }\n    80% {\n      border-color: transparent;\n      border-right-color: var(--fill-color);\n      border-bottom-color: var(--fill-color);\n    }\n    90% {\n      border-color: transparent;\n      border-bottom-color: var(--fill-color);\n    }\n  }\n</style>\n\n  <script>\n    async function quickchart(key) {\n      const quickchartButtonEl =\n        document.querySelector('#' + key + ' button');\n      quickchartButtonEl.disabled = true;  // To prevent multiple clicks.\n      quickchartButtonEl.classList.add('colab-df-spinner');\n      try {\n        const charts = await google.colab.kernel.invokeFunction(\n            'suggestCharts', [key], {});\n      } catch (error) {\n        console.error('Error during call to suggestCharts:', error);\n      }\n      quickchartButtonEl.classList.remove('colab-df-spinner');\n      quickchartButtonEl.classList.add('colab-df-quickchart-complete');\n    }\n    (() => {\n      let quickchartButtonEl =\n        document.querySelector('#df-23948c4d-a9d0-4c0c-a783-45f616d8f2e5 button');\n      quickchartButtonEl.style.display =\n        google.colab.kernel.accessAllowed ? 'block' : 'none';\n    })();\n  </script>\n</div>\n\n    </div>\n  </div>\n",
                  "application/vnd.google.colaboratory.intrinsic+json": {
                    "type": "dataframe",
                    "summary": "{\n  \"name\": \"    display(df\",\n  \"rows\": 13,\n  \"fields\": [\n    {\n      \"column\": \"title\",\n      \"properties\": {\n        \"dtype\": \"string\",\n        \"num_unique_values\": 13,\n        \"samples\": [\n          \"A Feature Selection Tool for Machine Learning in\\u00a0Python\",\n          \"Machine Learning Kaggle Competition Part One: Getting\\u00a0Started\",\n          \"Stock Prediction in\\u00a0Python\"\n        ],\n        \"semantic_type\": \"\",\n        \"description\": \"\"\n      }\n    },\n    {\n      \"column\": \"claps\",\n      \"properties\": {\n        \"dtype\": \"number\",\n        \"std\": 2657,\n        \"min\": 5100,\n        \"max\": 13600,\n        \"num_unique_values\": 11,\n        \"samples\": [\n          5500,\n          7300,\n          8500\n        ],\n        \"semantic_type\": \"\",\n        \"description\": \"\"\n      }\n    },\n    {\n      \"column\": \"published_date\",\n      \"properties\": {\n        \"dtype\": \"date\",\n        \"min\": \"2018-01-19 15:30:00\",\n        \"max\": \"2019-01-08 22:09:00\",\n        \"num_unique_values\": 13,\n        \"samples\": [\n          \"2018-06-22 10:12:00\",\n          \"2018-05-28 11:39:00\",\n          \"2018-01-19 15:30:00\"\n        ],\n        \"semantic_type\": \"\",\n        \"description\": \"\"\n      }\n    },\n    {\n      \"column\": \"read_time\",\n      \"properties\": {\n        \"dtype\": \"number\",\n        \"std\": 2,\n        \"min\": 3,\n        \"max\": 15,\n        \"num_unique_values\": 8,\n        \"samples\": [\n          3,\n          7,\n          12\n        ],\n        \"semantic_type\": \"\",\n        \"description\": \"\"\n      }\n    },\n    {\n      \"column\": \"tags\",\n      \"properties\": {\n        \"dtype\": \"object\",\n        \"semantic_type\": \"\",\n        \"description\": \"\"\n      }\n    },\n    {\n      \"column\": \"views\",\n      \"properties\": {\n        \"dtype\": \"number\",\n        \"std\": 34518,\n        \"min\": 35505,\n        \"max\": 134699,\n        \"num_unique_values\": 13,\n        \"samples\": [\n          80618,\n          43577,\n          134699\n        ],\n        \"semantic_type\": \"\",\n        \"description\": \"\"\n      }\n    },\n    {\n      \"column\": \"reads\",\n      \"properties\": {\n        \"dtype\": \"number\",\n        \"std\": 8337,\n        \"min\": 10398,\n        \"max\": 41978,\n        \"num_unique_values\": 13,\n        \"samples\": [\n          20592,\n          10398,\n          41978\n        ],\n        \"semantic_type\": \"\",\n        \"description\": \"\"\n      }\n    }\n  ]\n}"
                  }
                },
                "metadata": {}
              }
            ]
          }
        },
        "2d87358b04244ca3bb9d703b58b6eb97": {
          "model_module": "@jupyter-widgets/base",
          "model_name": "LayoutModel",
          "model_module_version": "1.2.0",
          "state": {
            "_model_module": "@jupyter-widgets/base",
            "_model_module_version": "1.2.0",
            "_model_name": "LayoutModel",
            "_view_count": null,
            "_view_module": "@jupyter-widgets/base",
            "_view_module_version": "1.2.0",
            "_view_name": "LayoutView",
            "align_content": null,
            "align_items": null,
            "align_self": null,
            "border": null,
            "bottom": null,
            "display": null,
            "flex": null,
            "flex_flow": null,
            "grid_area": null,
            "grid_auto_columns": null,
            "grid_auto_flow": null,
            "grid_auto_rows": null,
            "grid_column": null,
            "grid_gap": null,
            "grid_row": null,
            "grid_template_areas": null,
            "grid_template_columns": null,
            "grid_template_rows": null,
            "height": null,
            "justify_content": null,
            "justify_items": null,
            "left": null,
            "margin": null,
            "max_height": null,
            "max_width": null,
            "min_height": null,
            "min_width": null,
            "object_fit": null,
            "object_position": null,
            "order": null,
            "overflow": null,
            "overflow_x": null,
            "overflow_y": null,
            "padding": null,
            "right": null,
            "top": null,
            "visibility": null,
            "width": null
          }
        },
        "c6df475f93a34dccb41acb1e828fd35f": {
          "model_module": "@jupyter-widgets/base",
          "model_name": "LayoutModel",
          "model_module_version": "1.2.0",
          "state": {
            "_model_module": "@jupyter-widgets/base",
            "_model_module_version": "1.2.0",
            "_model_name": "LayoutModel",
            "_view_count": null,
            "_view_module": "@jupyter-widgets/base",
            "_view_module_version": "1.2.0",
            "_view_name": "LayoutView",
            "align_content": null,
            "align_items": null,
            "align_self": null,
            "border": null,
            "bottom": null,
            "display": null,
            "flex": null,
            "flex_flow": null,
            "grid_area": null,
            "grid_auto_columns": null,
            "grid_auto_flow": null,
            "grid_auto_rows": null,
            "grid_column": null,
            "grid_gap": null,
            "grid_row": null,
            "grid_template_areas": null,
            "grid_template_columns": null,
            "grid_template_rows": null,
            "height": null,
            "justify_content": null,
            "justify_items": null,
            "left": null,
            "margin": null,
            "max_height": null,
            "max_width": null,
            "min_height": null,
            "min_width": null,
            "object_fit": null,
            "object_position": null,
            "order": null,
            "overflow": null,
            "overflow_x": null,
            "overflow_y": null,
            "padding": null,
            "right": null,
            "top": null,
            "visibility": null,
            "width": null
          }
        },
        "281f43312a114ee2956ca86d524291d3": {
          "model_module": "@jupyter-widgets/controls",
          "model_name": "DescriptionStyleModel",
          "model_module_version": "1.5.0",
          "state": {
            "_model_module": "@jupyter-widgets/controls",
            "_model_module_version": "1.5.0",
            "_model_name": "DescriptionStyleModel",
            "_view_count": null,
            "_view_module": "@jupyter-widgets/base",
            "_view_module_version": "1.2.0",
            "_view_name": "StyleView",
            "description_width": ""
          }
        },
        "19960e51dd0c4bcaa48462af3bcd4d1c": {
          "model_module": "@jupyter-widgets/base",
          "model_name": "LayoutModel",
          "model_module_version": "1.2.0",
          "state": {
            "_model_module": "@jupyter-widgets/base",
            "_model_module_version": "1.2.0",
            "_model_name": "LayoutModel",
            "_view_count": null,
            "_view_module": "@jupyter-widgets/base",
            "_view_module_version": "1.2.0",
            "_view_name": "LayoutView",
            "align_content": null,
            "align_items": null,
            "align_self": null,
            "border": null,
            "bottom": null,
            "display": null,
            "flex": null,
            "flex_flow": null,
            "grid_area": null,
            "grid_auto_columns": null,
            "grid_auto_flow": null,
            "grid_auto_rows": null,
            "grid_column": null,
            "grid_gap": null,
            "grid_row": null,
            "grid_template_areas": null,
            "grid_template_columns": null,
            "grid_template_rows": null,
            "height": null,
            "justify_content": null,
            "justify_items": null,
            "left": null,
            "margin": null,
            "max_height": null,
            "max_width": null,
            "min_height": null,
            "min_width": null,
            "object_fit": null,
            "object_position": null,
            "order": null,
            "overflow": null,
            "overflow_x": null,
            "overflow_y": null,
            "padding": null,
            "right": null,
            "top": null,
            "visibility": null,
            "width": null
          }
        },
        "aebaf3a5d53049a29cd22a959fbd5ffb": {
          "model_module": "@jupyter-widgets/controls",
          "model_name": "SliderStyleModel",
          "model_module_version": "1.5.0",
          "state": {
            "_model_module": "@jupyter-widgets/controls",
            "_model_module_version": "1.5.0",
            "_model_name": "SliderStyleModel",
            "_view_count": null,
            "_view_module": "@jupyter-widgets/base",
            "_view_module_version": "1.2.0",
            "_view_name": "StyleView",
            "description_width": "",
            "handle_color": null
          }
        },
        "dd106b7991ef4549827278b7ff87d56e": {
          "model_module": "@jupyter-widgets/base",
          "model_name": "LayoutModel",
          "model_module_version": "1.2.0",
          "state": {
            "_model_module": "@jupyter-widgets/base",
            "_model_module_version": "1.2.0",
            "_model_name": "LayoutModel",
            "_view_count": null,
            "_view_module": "@jupyter-widgets/base",
            "_view_module_version": "1.2.0",
            "_view_name": "LayoutView",
            "align_content": null,
            "align_items": null,
            "align_self": null,
            "border": null,
            "bottom": null,
            "display": null,
            "flex": null,
            "flex_flow": null,
            "grid_area": null,
            "grid_auto_columns": null,
            "grid_auto_flow": null,
            "grid_auto_rows": null,
            "grid_column": null,
            "grid_gap": null,
            "grid_row": null,
            "grid_template_areas": null,
            "grid_template_columns": null,
            "grid_template_rows": null,
            "height": null,
            "justify_content": null,
            "justify_items": null,
            "left": null,
            "margin": null,
            "max_height": null,
            "max_width": null,
            "min_height": null,
            "min_width": null,
            "object_fit": null,
            "object_position": null,
            "order": null,
            "overflow": null,
            "overflow_x": null,
            "overflow_y": null,
            "padding": null,
            "right": null,
            "top": null,
            "visibility": null,
            "width": null
          }
        },
        "57e536a5b52f4236b4102157247948a1": {
          "model_module": "@jupyter-widgets/controls",
          "model_name": "VBoxModel",
          "model_module_version": "1.5.0",
          "state": {
            "_dom_classes": [
              "widget-interact"
            ],
            "_model_module": "@jupyter-widgets/controls",
            "_model_module_version": "1.5.0",
            "_model_name": "VBoxModel",
            "_view_count": null,
            "_view_module": "@jupyter-widgets/controls",
            "_view_module_version": "1.5.0",
            "_view_name": "VBoxView",
            "box_style": "",
            "children": [
              "IPY_MODEL_a96d32a58a41473a828c0609e36a4925",
              "IPY_MODEL_84a2924d5bfe4367bb0b3ba210f371df",
              "IPY_MODEL_9864673cbfeb4fa4ac5441628615e23e"
            ],
            "layout": "IPY_MODEL_f07b8979016b4871ae1689c5cb57e1f8"
          }
        },
        "a96d32a58a41473a828c0609e36a4925": {
          "model_module": "@jupyter-widgets/controls",
          "model_name": "IntSliderModel",
          "model_module_version": "1.5.0",
          "state": {
            "_dom_classes": [],
            "_model_module": "@jupyter-widgets/controls",
            "_model_module_version": "1.5.0",
            "_model_name": "IntSliderModel",
            "_view_count": null,
            "_view_module": "@jupyter-widgets/controls",
            "_view_module_version": "1.5.0",
            "_view_name": "IntSliderView",
            "continuous_update": true,
            "description": "x",
            "description_tooltip": null,
            "disabled": false,
            "layout": "IPY_MODEL_b682f6f7209749f2b3837519d2168b1d",
            "max": 50000,
            "min": 10,
            "orientation": "horizontal",
            "readout": true,
            "readout_format": "d",
            "step": 10,
            "style": "IPY_MODEL_2e9bf76bca88476985c927a306139da8",
            "value": 40610
          }
        },
        "84a2924d5bfe4367bb0b3ba210f371df": {
          "model_module": "@jupyter-widgets/controls",
          "model_name": "DropdownModel",
          "model_module_version": "1.5.0",
          "state": {
            "_dom_classes": [],
            "_model_module": "@jupyter-widgets/controls",
            "_model_module_version": "1.5.0",
            "_model_name": "DropdownModel",
            "_options_labels": [
              "read_time",
              "views",
              "reads"
            ],
            "_view_count": null,
            "_view_module": "@jupyter-widgets/controls",
            "_view_module_version": "1.5.0",
            "_view_name": "DropdownView",
            "description": "column",
            "description_tooltip": null,
            "disabled": false,
            "index": 1,
            "layout": "IPY_MODEL_1fd0aef5f41e4f0083450cfb37e195a7",
            "style": "IPY_MODEL_44314bbd7fa144edb727260e03333e30"
          }
        },
        "9864673cbfeb4fa4ac5441628615e23e": {
          "model_module": "@jupyter-widgets/output",
          "model_name": "OutputModel",
          "model_module_version": "1.0.0",
          "state": {
            "_dom_classes": [],
            "_model_module": "@jupyter-widgets/output",
            "_model_module_version": "1.0.0",
            "_model_name": "OutputModel",
            "_view_count": null,
            "_view_module": "@jupyter-widgets/output",
            "_view_module_version": "1.0.0",
            "_view_name": "OutputView",
            "layout": "IPY_MODEL_36a355c1186a405b8c6abd165548f3db",
            "msg_id": "",
            "outputs": [
              {
                "output_type": "display_data",
                "data": {
                  "text/plain": "<IPython.core.display.HTML object>",
                  "text/html": "<h4>Showing articles with more than 40610 views<h4>"
                },
                "metadata": {}
              },
              {
                "output_type": "display_data",
                "data": {
                  "text/plain": "                                                 title      published_date  \\\n110                            Random Forest in Python 2017-12-27 11:20:00   \n113                   Random Forest Simple Explanation 2017-12-27 11:22:00   \n108  Hyperparameter Tuning the Random Forest in Python 2018-01-09 21:49:00   \n104    Time Series Analysis in Python: An Introduction 2018-01-12 20:48:00   \n101                           Stock Analysis in Python 2018-01-17 15:24:00   \n100                         Stock Prediction in Python 2018-01-19 15:30:00   \n93                  Statistical Significance Explained 2018-02-02 09:26:00   \n88          Python is the Perfect Tool for any Problem 2018-02-04 09:12:00   \n89                  Markov Chain Monte Carlo in Python 2018-02-09 22:29:00   \n82               Beyond Accuracy: Precision and Recall 2018-03-03 11:10:00   \n84                     Controlling the Web with Python 2018-03-10 16:16:00   \n79   Data Visualization with Bokeh in Python, Part ... 2018-03-17 10:29:00   \n80              Histograms and Density Plots in Python 2018-03-23 12:44:00   \n74   Data Visualization with Bokeh in Python, Part ... 2018-03-31 08:36:00   \n76         Visualizing Data with Pairs Plots in Python 2018-04-06 14:12:00   \n75          Introduction to Bayesian Linear Regression 2018-04-13 20:38:00   \n65   Web Scraping, Regular Expressions, and Data Vi... 2018-04-28 15:27:00   \n69   A Complete Machine Learning Project Walk-Throu... 2018-05-16 12:33:00   \n67   A Complete Machine Learning Walk-Through in Py... 2018-05-17 09:34:00   \n62   Machine Learning Kaggle Competition Part One: ... 2018-05-28 11:39:00   \n66             Automated Feature Engineering in Python 2018-06-02 10:01:00   \n63   A Feature Selection Tool for Machine Learning ... 2018-06-22 10:12:00   \n56   Automated Machine Learning Hyperparameter Tuni... 2018-07-03 11:04:00   \n54   A “Data Science for Good“ Machine Learning Pro... 2018-08-20 09:48:00   \n19      The Next Level of Data Visualization in Python 2019-01-08 22:09:00   \n\n     read_time                                               tags   views  \\\n110         21  [Machine Learning, Data Science, Random Forest...  173714   \n113         11  [Machine Learning, Learning, Data Science, Mod...   88394   \n108         12     [Machine Learning, Python, Data Science, Data]  114637   \n104         14  [Data Science, Data, Programming, Python, Towa...  130417   \n101         11  [Data Science, Programming, Python, Analysis, ...   81609   \n100         12  [Machine Learning, Data Science, Programming, ...  134699   \n93          10  [Data Science, Hypothesis Testing, P Value, St...   50691   \n88           3  [Python, Programming, Education, Data Science,...   48157   \n89          12  [Machine Learning, Data Science, Programming, ...   57830   \n82          11  [Machine Learning, Data Science, Education, St...  128661   \n84           9  [Python, Education, Programming, Internet, Tow...   65054   \n79          11  [Data Science, Python, Education, Visualizatio...   55791   \n80          11  [Data Science, Programming, Education, Python,...  118318   \n74          10  [Python, Data Visualization, Programming, Boke...   56245   \n76           8  [Data Science, Education, Programming, Data Vi...   50184   \n75          10  [Data Science, Education, Statistics, Learning...   58471   \n65           7  [Data Science, Programming, Education, Compute...   68317   \n69          15  [Machine Learning, Education, Data Science, Py...  124970   \n67          13  [Machine Learning, Education, Towards Data Sci...   46238   \n62          12  [Data Science, Machine Learning, Towards Data ...   43577   \n66          11  [Machine Learning, Towards Data Science, Data ...  114762   \n63          10  [Machine Learning, Python, Education, Programm...   80618   \n56          18  [Machine Learning, Data Science, Towards Data ...   48494   \n54          17  [Machine Learning, Data Science, Education, Py...   44201   \n19           8  [Data Science, Data Visualization, Python, Edu...   71225   \n\n     reads  \n110  30709  \n113  37187  \n108  27492  \n104  32752  \n101  21619  \n100  41978  \n93   15106  \n88   30099  \n89   16735  \n82   26327  \n84   14614  \n79   20479  \n80   32075  \n74   18754  \n76   15764  \n75   19805  \n65   21607  \n69   23587  \n67    9629  \n62   10398  \n66   25139  \n63   20592  \n56    6988  \n54    7398  \n19   24002  ",
                  "text/html": "\n  <div id=\"df-3429c41b-50de-4a6a-ae75-4831f536321d\" class=\"colab-df-container\">\n    <div>\n<style scoped>\n    .dataframe tbody tr th:only-of-type {\n        vertical-align: middle;\n    }\n\n    .dataframe tbody tr th {\n        vertical-align: top;\n    }\n\n    .dataframe thead th {\n        text-align: right;\n    }\n</style>\n<table border=\"1\" class=\"dataframe\">\n  <thead>\n    <tr style=\"text-align: right;\">\n      <th></th>\n      <th>title</th>\n      <th>published_date</th>\n      <th>read_time</th>\n      <th>tags</th>\n      <th>views</th>\n      <th>reads</th>\n    </tr>\n  </thead>\n  <tbody>\n    <tr>\n      <th>110</th>\n      <td>Random Forest in Python</td>\n      <td>2017-12-27 11:20:00</td>\n      <td>21</td>\n      <td>[Machine Learning, Data Science, Random Forest...</td>\n      <td>173714</td>\n      <td>30709</td>\n    </tr>\n    <tr>\n      <th>113</th>\n      <td>Random Forest Simple Explanation</td>\n      <td>2017-12-27 11:22:00</td>\n      <td>11</td>\n      <td>[Machine Learning, Learning, Data Science, Mod...</td>\n      <td>88394</td>\n      <td>37187</td>\n    </tr>\n    <tr>\n      <th>108</th>\n      <td>Hyperparameter Tuning the Random Forest in Python</td>\n      <td>2018-01-09 21:49:00</td>\n      <td>12</td>\n      <td>[Machine Learning, Python, Data Science, Data]</td>\n      <td>114637</td>\n      <td>27492</td>\n    </tr>\n    <tr>\n      <th>104</th>\n      <td>Time Series Analysis in Python: An Introduction</td>\n      <td>2018-01-12 20:48:00</td>\n      <td>14</td>\n      <td>[Data Science, Data, Programming, Python, Towa...</td>\n      <td>130417</td>\n      <td>32752</td>\n    </tr>\n    <tr>\n      <th>101</th>\n      <td>Stock Analysis in Python</td>\n      <td>2018-01-17 15:24:00</td>\n      <td>11</td>\n      <td>[Data Science, Programming, Python, Analysis, ...</td>\n      <td>81609</td>\n      <td>21619</td>\n    </tr>\n    <tr>\n      <th>100</th>\n      <td>Stock Prediction in Python</td>\n      <td>2018-01-19 15:30:00</td>\n      <td>12</td>\n      <td>[Machine Learning, Data Science, Programming, ...</td>\n      <td>134699</td>\n      <td>41978</td>\n    </tr>\n    <tr>\n      <th>93</th>\n      <td>Statistical Significance Explained</td>\n      <td>2018-02-02 09:26:00</td>\n      <td>10</td>\n      <td>[Data Science, Hypothesis Testing, P Value, St...</td>\n      <td>50691</td>\n      <td>15106</td>\n    </tr>\n    <tr>\n      <th>88</th>\n      <td>Python is the Perfect Tool for any Problem</td>\n      <td>2018-02-04 09:12:00</td>\n      <td>3</td>\n      <td>[Python, Programming, Education, Data Science,...</td>\n      <td>48157</td>\n      <td>30099</td>\n    </tr>\n    <tr>\n      <th>89</th>\n      <td>Markov Chain Monte Carlo in Python</td>\n      <td>2018-02-09 22:29:00</td>\n      <td>12</td>\n      <td>[Machine Learning, Data Science, Programming, ...</td>\n      <td>57830</td>\n      <td>16735</td>\n    </tr>\n    <tr>\n      <th>82</th>\n      <td>Beyond Accuracy: Precision and Recall</td>\n      <td>2018-03-03 11:10:00</td>\n      <td>11</td>\n      <td>[Machine Learning, Data Science, Education, St...</td>\n      <td>128661</td>\n      <td>26327</td>\n    </tr>\n    <tr>\n      <th>84</th>\n      <td>Controlling the Web with Python</td>\n      <td>2018-03-10 16:16:00</td>\n      <td>9</td>\n      <td>[Python, Education, Programming, Internet, Tow...</td>\n      <td>65054</td>\n      <td>14614</td>\n    </tr>\n    <tr>\n      <th>79</th>\n      <td>Data Visualization with Bokeh in Python, Part ...</td>\n      <td>2018-03-17 10:29:00</td>\n      <td>11</td>\n      <td>[Data Science, Python, Education, Visualizatio...</td>\n      <td>55791</td>\n      <td>20479</td>\n    </tr>\n    <tr>\n      <th>80</th>\n      <td>Histograms and Density Plots in Python</td>\n      <td>2018-03-23 12:44:00</td>\n      <td>11</td>\n      <td>[Data Science, Programming, Education, Python,...</td>\n      <td>118318</td>\n      <td>32075</td>\n    </tr>\n    <tr>\n      <th>74</th>\n      <td>Data Visualization with Bokeh in Python, Part ...</td>\n      <td>2018-03-31 08:36:00</td>\n      <td>10</td>\n      <td>[Python, Data Visualization, Programming, Boke...</td>\n      <td>56245</td>\n      <td>18754</td>\n    </tr>\n    <tr>\n      <th>76</th>\n      <td>Visualizing Data with Pairs Plots in Python</td>\n      <td>2018-04-06 14:12:00</td>\n      <td>8</td>\n      <td>[Data Science, Education, Programming, Data Vi...</td>\n      <td>50184</td>\n      <td>15764</td>\n    </tr>\n    <tr>\n      <th>75</th>\n      <td>Introduction to Bayesian Linear Regression</td>\n      <td>2018-04-13 20:38:00</td>\n      <td>10</td>\n      <td>[Data Science, Education, Statistics, Learning...</td>\n      <td>58471</td>\n      <td>19805</td>\n    </tr>\n    <tr>\n      <th>65</th>\n      <td>Web Scraping, Regular Expressions, and Data Vi...</td>\n      <td>2018-04-28 15:27:00</td>\n      <td>7</td>\n      <td>[Data Science, Programming, Education, Compute...</td>\n      <td>68317</td>\n      <td>21607</td>\n    </tr>\n    <tr>\n      <th>69</th>\n      <td>A Complete Machine Learning Project Walk-Throu...</td>\n      <td>2018-05-16 12:33:00</td>\n      <td>15</td>\n      <td>[Machine Learning, Education, Data Science, Py...</td>\n      <td>124970</td>\n      <td>23587</td>\n    </tr>\n    <tr>\n      <th>67</th>\n      <td>A Complete Machine Learning Walk-Through in Py...</td>\n      <td>2018-05-17 09:34:00</td>\n      <td>13</td>\n      <td>[Machine Learning, Education, Towards Data Sci...</td>\n      <td>46238</td>\n      <td>9629</td>\n    </tr>\n    <tr>\n      <th>62</th>\n      <td>Machine Learning Kaggle Competition Part One: ...</td>\n      <td>2018-05-28 11:39:00</td>\n      <td>12</td>\n      <td>[Data Science, Machine Learning, Towards Data ...</td>\n      <td>43577</td>\n      <td>10398</td>\n    </tr>\n    <tr>\n      <th>66</th>\n      <td>Automated Feature Engineering in Python</td>\n      <td>2018-06-02 10:01:00</td>\n      <td>11</td>\n      <td>[Machine Learning, Towards Data Science, Data ...</td>\n      <td>114762</td>\n      <td>25139</td>\n    </tr>\n    <tr>\n      <th>63</th>\n      <td>A Feature Selection Tool for Machine Learning ...</td>\n      <td>2018-06-22 10:12:00</td>\n      <td>10</td>\n      <td>[Machine Learning, Python, Education, Programm...</td>\n      <td>80618</td>\n      <td>20592</td>\n    </tr>\n    <tr>\n      <th>56</th>\n      <td>Automated Machine Learning Hyperparameter Tuni...</td>\n      <td>2018-07-03 11:04:00</td>\n      <td>18</td>\n      <td>[Machine Learning, Data Science, Towards Data ...</td>\n      <td>48494</td>\n      <td>6988</td>\n    </tr>\n    <tr>\n      <th>54</th>\n      <td>A “Data Science for Good“ Machine Learning Pro...</td>\n      <td>2018-08-20 09:48:00</td>\n      <td>17</td>\n      <td>[Machine Learning, Data Science, Education, Py...</td>\n      <td>44201</td>\n      <td>7398</td>\n    </tr>\n    <tr>\n      <th>19</th>\n      <td>The Next Level of Data Visualization in Python</td>\n      <td>2019-01-08 22:09:00</td>\n      <td>8</td>\n      <td>[Data Science, Data Visualization, Python, Edu...</td>\n      <td>71225</td>\n      <td>24002</td>\n    </tr>\n  </tbody>\n</table>\n</div>\n    <div class=\"colab-df-buttons\">\n\n  <div class=\"colab-df-container\">\n    <button class=\"colab-df-convert\" onclick=\"convertToInteractive('df-3429c41b-50de-4a6a-ae75-4831f536321d')\"\n            title=\"Convert this dataframe to an interactive table.\"\n            style=\"display:none;\">\n\n  <svg xmlns=\"http://www.w3.org/2000/svg\" height=\"24px\" viewBox=\"0 -960 960 960\">\n    <path d=\"M120-120v-720h720v720H120Zm60-500h600v-160H180v160Zm220 220h160v-160H400v160Zm0 220h160v-160H400v160ZM180-400h160v-160H180v160Zm440 0h160v-160H620v160ZM180-180h160v-160H180v160Zm440 0h160v-160H620v160Z\"/>\n  </svg>\n    </button>\n\n  <style>\n    .colab-df-container {\n      display:flex;\n      gap: 12px;\n    }\n\n    .colab-df-convert {\n      background-color: #E8F0FE;\n      border: none;\n      border-radius: 50%;\n      cursor: pointer;\n      display: none;\n      fill: #1967D2;\n      height: 32px;\n      padding: 0 0 0 0;\n      width: 32px;\n    }\n\n    .colab-df-convert:hover {\n      background-color: #E2EBFA;\n      box-shadow: 0px 1px 2px rgba(60, 64, 67, 0.3), 0px 1px 3px 1px rgba(60, 64, 67, 0.15);\n      fill: #174EA6;\n    }\n\n    .colab-df-buttons div {\n      margin-bottom: 4px;\n    }\n\n    [theme=dark] .colab-df-convert {\n      background-color: #3B4455;\n      fill: #D2E3FC;\n    }\n\n    [theme=dark] .colab-df-convert:hover {\n      background-color: #434B5C;\n      box-shadow: 0px 1px 3px 1px rgba(0, 0, 0, 0.15);\n      filter: drop-shadow(0px 1px 2px rgba(0, 0, 0, 0.3));\n      fill: #FFFFFF;\n    }\n  </style>\n\n    <script>\n      const buttonEl =\n        document.querySelector('#df-3429c41b-50de-4a6a-ae75-4831f536321d button.colab-df-convert');\n      buttonEl.style.display =\n        google.colab.kernel.accessAllowed ? 'block' : 'none';\n\n      async function convertToInteractive(key) {\n        const element = document.querySelector('#df-3429c41b-50de-4a6a-ae75-4831f536321d');\n        const dataTable =\n          await google.colab.kernel.invokeFunction('convertToInteractive',\n                                                    [key], {});\n        if (!dataTable) return;\n\n        const docLinkHtml = 'Like what you see? Visit the ' +\n          '<a target=\"_blank\" href=https://colab.research.google.com/notebooks/data_table.ipynb>data table notebook</a>'\n          + ' to learn more about interactive tables.';\n        element.innerHTML = '';\n        dataTable['output_type'] = 'display_data';\n        await google.colab.output.renderOutput(dataTable, element);\n        const docLink = document.createElement('div');\n        docLink.innerHTML = docLinkHtml;\n        element.appendChild(docLink);\n      }\n    </script>\n  </div>\n\n\n<div id=\"df-94d58bc8-67b4-4c3e-a98d-3efc70eda01c\">\n  <button class=\"colab-df-quickchart\" onclick=\"quickchart('df-94d58bc8-67b4-4c3e-a98d-3efc70eda01c')\"\n            title=\"Suggest charts\"\n            style=\"display:none;\">\n\n<svg xmlns=\"http://www.w3.org/2000/svg\" height=\"24px\"viewBox=\"0 0 24 24\"\n     width=\"24px\">\n    <g>\n        <path d=\"M19 3H5c-1.1 0-2 .9-2 2v14c0 1.1.9 2 2 2h14c1.1 0 2-.9 2-2V5c0-1.1-.9-2-2-2zM9 17H7v-7h2v7zm4 0h-2V7h2v10zm4 0h-2v-4h2v4z\"/>\n    </g>\n</svg>\n  </button>\n\n<style>\n  .colab-df-quickchart {\n      --bg-color: #E8F0FE;\n      --fill-color: #1967D2;\n      --hover-bg-color: #E2EBFA;\n      --hover-fill-color: #174EA6;\n      --disabled-fill-color: #AAA;\n      --disabled-bg-color: #DDD;\n  }\n\n  [theme=dark] .colab-df-quickchart {\n      --bg-color: #3B4455;\n      --fill-color: #D2E3FC;\n      --hover-bg-color: #434B5C;\n      --hover-fill-color: #FFFFFF;\n      --disabled-bg-color: #3B4455;\n      --disabled-fill-color: #666;\n  }\n\n  .colab-df-quickchart {\n    background-color: var(--bg-color);\n    border: none;\n    border-radius: 50%;\n    cursor: pointer;\n    display: none;\n    fill: var(--fill-color);\n    height: 32px;\n    padding: 0;\n    width: 32px;\n  }\n\n  .colab-df-quickchart:hover {\n    background-color: var(--hover-bg-color);\n    box-shadow: 0 1px 2px rgba(60, 64, 67, 0.3), 0 1px 3px 1px rgba(60, 64, 67, 0.15);\n    fill: var(--button-hover-fill-color);\n  }\n\n  .colab-df-quickchart-complete:disabled,\n  .colab-df-quickchart-complete:disabled:hover {\n    background-color: var(--disabled-bg-color);\n    fill: var(--disabled-fill-color);\n    box-shadow: none;\n  }\n\n  .colab-df-spinner {\n    border: 2px solid var(--fill-color);\n    border-color: transparent;\n    border-bottom-color: var(--fill-color);\n    animation:\n      spin 1s steps(1) infinite;\n  }\n\n  @keyframes spin {\n    0% {\n      border-color: transparent;\n      border-bottom-color: var(--fill-color);\n      border-left-color: var(--fill-color);\n    }\n    20% {\n      border-color: transparent;\n      border-left-color: var(--fill-color);\n      border-top-color: var(--fill-color);\n    }\n    30% {\n      border-color: transparent;\n      border-left-color: var(--fill-color);\n      border-top-color: var(--fill-color);\n      border-right-color: var(--fill-color);\n    }\n    40% {\n      border-color: transparent;\n      border-right-color: var(--fill-color);\n      border-top-color: var(--fill-color);\n    }\n    60% {\n      border-color: transparent;\n      border-right-color: var(--fill-color);\n    }\n    80% {\n      border-color: transparent;\n      border-right-color: var(--fill-color);\n      border-bottom-color: var(--fill-color);\n    }\n    90% {\n      border-color: transparent;\n      border-bottom-color: var(--fill-color);\n    }\n  }\n</style>\n\n  <script>\n    async function quickchart(key) {\n      const quickchartButtonEl =\n        document.querySelector('#' + key + ' button');\n      quickchartButtonEl.disabled = true;  // To prevent multiple clicks.\n      quickchartButtonEl.classList.add('colab-df-spinner');\n      try {\n        const charts = await google.colab.kernel.invokeFunction(\n            'suggestCharts', [key], {});\n      } catch (error) {\n        console.error('Error during call to suggestCharts:', error);\n      }\n      quickchartButtonEl.classList.remove('colab-df-spinner');\n      quickchartButtonEl.classList.add('colab-df-quickchart-complete');\n    }\n    (() => {\n      let quickchartButtonEl =\n        document.querySelector('#df-94d58bc8-67b4-4c3e-a98d-3efc70eda01c button');\n      quickchartButtonEl.style.display =\n        google.colab.kernel.accessAllowed ? 'block' : 'none';\n    })();\n  </script>\n</div>\n\n    </div>\n  </div>\n",
                  "application/vnd.google.colaboratory.intrinsic+json": {
                    "type": "dataframe",
                    "summary": "{\n  \"name\": \"    display(df\",\n  \"rows\": 25,\n  \"fields\": [\n    {\n      \"column\": \"title\",\n      \"properties\": {\n        \"dtype\": \"string\",\n        \"num_unique_values\": 25,\n        \"samples\": [\n          \"Markov Chain Monte Carlo in\\u00a0Python\",\n          \"Web Scraping, Regular Expressions, and Data Visualization: Doing it all in\\u00a0Python\",\n          \"Random Forest in\\u00a0Python\"\n        ],\n        \"semantic_type\": \"\",\n        \"description\": \"\"\n      }\n    },\n    {\n      \"column\": \"published_date\",\n      \"properties\": {\n        \"dtype\": \"date\",\n        \"min\": \"2017-12-27 11:20:00\",\n        \"max\": \"2019-01-08 22:09:00\",\n        \"num_unique_values\": 25,\n        \"samples\": [\n          \"2018-02-09 22:29:00\",\n          \"2018-04-28 15:27:00\",\n          \"2017-12-27 11:20:00\"\n        ],\n        \"semantic_type\": \"\",\n        \"description\": \"\"\n      }\n    },\n    {\n      \"column\": \"read_time\",\n      \"properties\": {\n        \"dtype\": \"number\",\n        \"std\": 3,\n        \"min\": 3,\n        \"max\": 21,\n        \"num_unique_values\": 13,\n        \"samples\": [\n          18,\n          15,\n          21\n        ],\n        \"semantic_type\": \"\",\n        \"description\": \"\"\n      }\n    },\n    {\n      \"column\": \"tags\",\n      \"properties\": {\n        \"dtype\": \"object\",\n        \"semantic_type\": \"\",\n        \"description\": \"\"\n      }\n    },\n    {\n      \"column\": \"views\",\n      \"properties\": {\n        \"dtype\": \"number\",\n        \"std\": 36843,\n        \"min\": 43577,\n        \"max\": 173714,\n        \"num_unique_values\": 25,\n        \"samples\": [\n          57830,\n          68317,\n          173714\n        ],\n        \"semantic_type\": \"\",\n        \"description\": \"\"\n      }\n    },\n    {\n      \"column\": \"reads\",\n      \"properties\": {\n        \"dtype\": \"number\",\n        \"std\": 9056,\n        \"min\": 6988,\n        \"max\": 41978,\n        \"num_unique_values\": 25,\n        \"samples\": [\n          16735,\n          21607,\n          30709\n        ],\n        \"semantic_type\": \"\",\n        \"description\": \"\"\n      }\n    }\n  ]\n}"
                  }
                },
                "metadata": {}
              }
            ]
          }
        },
        "f07b8979016b4871ae1689c5cb57e1f8": {
          "model_module": "@jupyter-widgets/base",
          "model_name": "LayoutModel",
          "model_module_version": "1.2.0",
          "state": {
            "_model_module": "@jupyter-widgets/base",
            "_model_module_version": "1.2.0",
            "_model_name": "LayoutModel",
            "_view_count": null,
            "_view_module": "@jupyter-widgets/base",
            "_view_module_version": "1.2.0",
            "_view_name": "LayoutView",
            "align_content": null,
            "align_items": null,
            "align_self": null,
            "border": null,
            "bottom": null,
            "display": null,
            "flex": null,
            "flex_flow": null,
            "grid_area": null,
            "grid_auto_columns": null,
            "grid_auto_flow": null,
            "grid_auto_rows": null,
            "grid_column": null,
            "grid_gap": null,
            "grid_row": null,
            "grid_template_areas": null,
            "grid_template_columns": null,
            "grid_template_rows": null,
            "height": null,
            "justify_content": null,
            "justify_items": null,
            "left": null,
            "margin": null,
            "max_height": null,
            "max_width": null,
            "min_height": null,
            "min_width": null,
            "object_fit": null,
            "object_position": null,
            "order": null,
            "overflow": null,
            "overflow_x": null,
            "overflow_y": null,
            "padding": null,
            "right": null,
            "top": null,
            "visibility": null,
            "width": null
          }
        },
        "b682f6f7209749f2b3837519d2168b1d": {
          "model_module": "@jupyter-widgets/base",
          "model_name": "LayoutModel",
          "model_module_version": "1.2.0",
          "state": {
            "_model_module": "@jupyter-widgets/base",
            "_model_module_version": "1.2.0",
            "_model_name": "LayoutModel",
            "_view_count": null,
            "_view_module": "@jupyter-widgets/base",
            "_view_module_version": "1.2.0",
            "_view_name": "LayoutView",
            "align_content": null,
            "align_items": null,
            "align_self": null,
            "border": null,
            "bottom": null,
            "display": null,
            "flex": null,
            "flex_flow": null,
            "grid_area": null,
            "grid_auto_columns": null,
            "grid_auto_flow": null,
            "grid_auto_rows": null,
            "grid_column": null,
            "grid_gap": null,
            "grid_row": null,
            "grid_template_areas": null,
            "grid_template_columns": null,
            "grid_template_rows": null,
            "height": null,
            "justify_content": null,
            "justify_items": null,
            "left": null,
            "margin": null,
            "max_height": null,
            "max_width": null,
            "min_height": null,
            "min_width": null,
            "object_fit": null,
            "object_position": null,
            "order": null,
            "overflow": null,
            "overflow_x": null,
            "overflow_y": null,
            "padding": null,
            "right": null,
            "top": null,
            "visibility": null,
            "width": null
          }
        },
        "2e9bf76bca88476985c927a306139da8": {
          "model_module": "@jupyter-widgets/controls",
          "model_name": "SliderStyleModel",
          "model_module_version": "1.5.0",
          "state": {
            "_model_module": "@jupyter-widgets/controls",
            "_model_module_version": "1.5.0",
            "_model_name": "SliderStyleModel",
            "_view_count": null,
            "_view_module": "@jupyter-widgets/base",
            "_view_module_version": "1.2.0",
            "_view_name": "StyleView",
            "description_width": "",
            "handle_color": null
          }
        },
        "1fd0aef5f41e4f0083450cfb37e195a7": {
          "model_module": "@jupyter-widgets/base",
          "model_name": "LayoutModel",
          "model_module_version": "1.2.0",
          "state": {
            "_model_module": "@jupyter-widgets/base",
            "_model_module_version": "1.2.0",
            "_model_name": "LayoutModel",
            "_view_count": null,
            "_view_module": "@jupyter-widgets/base",
            "_view_module_version": "1.2.0",
            "_view_name": "LayoutView",
            "align_content": null,
            "align_items": null,
            "align_self": null,
            "border": null,
            "bottom": null,
            "display": null,
            "flex": null,
            "flex_flow": null,
            "grid_area": null,
            "grid_auto_columns": null,
            "grid_auto_flow": null,
            "grid_auto_rows": null,
            "grid_column": null,
            "grid_gap": null,
            "grid_row": null,
            "grid_template_areas": null,
            "grid_template_columns": null,
            "grid_template_rows": null,
            "height": null,
            "justify_content": null,
            "justify_items": null,
            "left": null,
            "margin": null,
            "max_height": null,
            "max_width": null,
            "min_height": null,
            "min_width": null,
            "object_fit": null,
            "object_position": null,
            "order": null,
            "overflow": null,
            "overflow_x": null,
            "overflow_y": null,
            "padding": null,
            "right": null,
            "top": null,
            "visibility": null,
            "width": null
          }
        },
        "44314bbd7fa144edb727260e03333e30": {
          "model_module": "@jupyter-widgets/controls",
          "model_name": "DescriptionStyleModel",
          "model_module_version": "1.5.0",
          "state": {
            "_model_module": "@jupyter-widgets/controls",
            "_model_module_version": "1.5.0",
            "_model_name": "DescriptionStyleModel",
            "_view_count": null,
            "_view_module": "@jupyter-widgets/base",
            "_view_module_version": "1.2.0",
            "_view_name": "StyleView",
            "description_width": ""
          }
        },
        "36a355c1186a405b8c6abd165548f3db": {
          "model_module": "@jupyter-widgets/base",
          "model_name": "LayoutModel",
          "model_module_version": "1.2.0",
          "state": {
            "_model_module": "@jupyter-widgets/base",
            "_model_module_version": "1.2.0",
            "_model_name": "LayoutModel",
            "_view_count": null,
            "_view_module": "@jupyter-widgets/base",
            "_view_module_version": "1.2.0",
            "_view_name": "LayoutView",
            "align_content": null,
            "align_items": null,
            "align_self": null,
            "border": null,
            "bottom": null,
            "display": null,
            "flex": null,
            "flex_flow": null,
            "grid_area": null,
            "grid_auto_columns": null,
            "grid_auto_flow": null,
            "grid_auto_rows": null,
            "grid_column": null,
            "grid_gap": null,
            "grid_row": null,
            "grid_template_areas": null,
            "grid_template_columns": null,
            "grid_template_rows": null,
            "height": null,
            "justify_content": null,
            "justify_items": null,
            "left": null,
            "margin": null,
            "max_height": null,
            "max_width": null,
            "min_height": null,
            "min_width": null,
            "object_fit": null,
            "object_position": null,
            "order": null,
            "overflow": null,
            "overflow_x": null,
            "overflow_y": null,
            "padding": null,
            "right": null,
            "top": null,
            "visibility": null,
            "width": null
          }
        },
        "c3613bd58475416b97c7e057c072e463": {
          "model_module": "@jupyter-widgets/controls",
          "model_name": "VBoxModel",
          "model_module_version": "1.5.0",
          "state": {
            "_dom_classes": [
              "widget-interact"
            ],
            "_model_module": "@jupyter-widgets/controls",
            "_model_module_version": "1.5.0",
            "_model_name": "VBoxModel",
            "_view_count": null,
            "_view_module": "@jupyter-widgets/controls",
            "_view_module_version": "1.5.0",
            "_view_name": "VBoxView",
            "box_style": "",
            "children": [
              "IPY_MODEL_c3f168e310544f878fb3f5d730662b8d",
              "IPY_MODEL_d03de4a825a14140a318a185a19478b7",
              "IPY_MODEL_a996ee7f291f40758e42095e7d3025ae"
            ],
            "layout": "IPY_MODEL_624a71d0f5914d27a3b07b5d5c407dd9"
          }
        },
        "c3f168e310544f878fb3f5d730662b8d": {
          "model_module": "@jupyter-widgets/controls",
          "model_name": "DropdownModel",
          "model_module_version": "1.5.0",
          "state": {
            "_dom_classes": [],
            "_model_module": "@jupyter-widgets/controls",
            "_model_module_version": "1.5.0",
            "_model_name": "DropdownModel",
            "_options_labels": [
              "claps",
              "days_since_publication",
              "fans",
              "num_responses",
              "read_ratio",
              "read_time",
              "reads",
              "title_word_count",
              "views",
              "word_count",
              "claps_per_word",
              "editing_days",
              "<tag>Education",
              "<tag>Data Science",
              "<tag>Towards Data Science",
              "<tag>Machine Learning",
              "<tag>Python"
            ],
            "_view_count": null,
            "_view_module": "@jupyter-widgets/controls",
            "_view_module_version": "1.5.0",
            "_view_name": "DropdownView",
            "description": "column1",
            "description_tooltip": null,
            "disabled": false,
            "index": 9,
            "layout": "IPY_MODEL_2cd6d701badf4020ac5015ddcecdc728",
            "style": "IPY_MODEL_a4d255c7f7214d46bc3ad627d92433f4"
          }
        },
        "d03de4a825a14140a318a185a19478b7": {
          "model_module": "@jupyter-widgets/controls",
          "model_name": "DropdownModel",
          "model_module_version": "1.5.0",
          "state": {
            "_dom_classes": [],
            "_model_module": "@jupyter-widgets/controls",
            "_model_module_version": "1.5.0",
            "_model_name": "DropdownModel",
            "_options_labels": [
              "claps",
              "days_since_publication",
              "fans",
              "num_responses",
              "read_ratio",
              "read_time",
              "reads",
              "title_word_count",
              "views",
              "word_count",
              "claps_per_word",
              "editing_days",
              "<tag>Education",
              "<tag>Data Science",
              "<tag>Towards Data Science",
              "<tag>Machine Learning",
              "<tag>Python"
            ],
            "_view_count": null,
            "_view_module": "@jupyter-widgets/controls",
            "_view_module_version": "1.5.0",
            "_view_name": "DropdownView",
            "description": "column2",
            "description_tooltip": null,
            "disabled": false,
            "index": 6,
            "layout": "IPY_MODEL_8b746e4a1f2a4baf8a2f6601efde4544",
            "style": "IPY_MODEL_eedfec12a54c4182a33f73b98ab83fa9"
          }
        },
        "a996ee7f291f40758e42095e7d3025ae": {
          "model_module": "@jupyter-widgets/output",
          "model_name": "OutputModel",
          "model_module_version": "1.0.0",
          "state": {
            "_dom_classes": [],
            "_model_module": "@jupyter-widgets/output",
            "_model_module_version": "1.0.0",
            "_model_name": "OutputModel",
            "_view_count": null,
            "_view_module": "@jupyter-widgets/output",
            "_view_module_version": "1.0.0",
            "_view_name": "OutputView",
            "layout": "IPY_MODEL_4d219e7cf7cd4e58859ab20c121499d5",
            "msg_id": "",
            "outputs": [
              {
                "output_type": "stream",
                "name": "stdout",
                "text": [
                  "Correlation: -0.17462400501279313\n"
                ]
              }
            ]
          }
        },
        "624a71d0f5914d27a3b07b5d5c407dd9": {
          "model_module": "@jupyter-widgets/base",
          "model_name": "LayoutModel",
          "model_module_version": "1.2.0",
          "state": {
            "_model_module": "@jupyter-widgets/base",
            "_model_module_version": "1.2.0",
            "_model_name": "LayoutModel",
            "_view_count": null,
            "_view_module": "@jupyter-widgets/base",
            "_view_module_version": "1.2.0",
            "_view_name": "LayoutView",
            "align_content": null,
            "align_items": null,
            "align_self": null,
            "border": null,
            "bottom": null,
            "display": null,
            "flex": null,
            "flex_flow": null,
            "grid_area": null,
            "grid_auto_columns": null,
            "grid_auto_flow": null,
            "grid_auto_rows": null,
            "grid_column": null,
            "grid_gap": null,
            "grid_row": null,
            "grid_template_areas": null,
            "grid_template_columns": null,
            "grid_template_rows": null,
            "height": null,
            "justify_content": null,
            "justify_items": null,
            "left": null,
            "margin": null,
            "max_height": null,
            "max_width": null,
            "min_height": null,
            "min_width": null,
            "object_fit": null,
            "object_position": null,
            "order": null,
            "overflow": null,
            "overflow_x": null,
            "overflow_y": null,
            "padding": null,
            "right": null,
            "top": null,
            "visibility": null,
            "width": null
          }
        },
        "2cd6d701badf4020ac5015ddcecdc728": {
          "model_module": "@jupyter-widgets/base",
          "model_name": "LayoutModel",
          "model_module_version": "1.2.0",
          "state": {
            "_model_module": "@jupyter-widgets/base",
            "_model_module_version": "1.2.0",
            "_model_name": "LayoutModel",
            "_view_count": null,
            "_view_module": "@jupyter-widgets/base",
            "_view_module_version": "1.2.0",
            "_view_name": "LayoutView",
            "align_content": null,
            "align_items": null,
            "align_self": null,
            "border": null,
            "bottom": null,
            "display": null,
            "flex": null,
            "flex_flow": null,
            "grid_area": null,
            "grid_auto_columns": null,
            "grid_auto_flow": null,
            "grid_auto_rows": null,
            "grid_column": null,
            "grid_gap": null,
            "grid_row": null,
            "grid_template_areas": null,
            "grid_template_columns": null,
            "grid_template_rows": null,
            "height": null,
            "justify_content": null,
            "justify_items": null,
            "left": null,
            "margin": null,
            "max_height": null,
            "max_width": null,
            "min_height": null,
            "min_width": null,
            "object_fit": null,
            "object_position": null,
            "order": null,
            "overflow": null,
            "overflow_x": null,
            "overflow_y": null,
            "padding": null,
            "right": null,
            "top": null,
            "visibility": null,
            "width": null
          }
        },
        "a4d255c7f7214d46bc3ad627d92433f4": {
          "model_module": "@jupyter-widgets/controls",
          "model_name": "DescriptionStyleModel",
          "model_module_version": "1.5.0",
          "state": {
            "_model_module": "@jupyter-widgets/controls",
            "_model_module_version": "1.5.0",
            "_model_name": "DescriptionStyleModel",
            "_view_count": null,
            "_view_module": "@jupyter-widgets/base",
            "_view_module_version": "1.2.0",
            "_view_name": "StyleView",
            "description_width": ""
          }
        },
        "8b746e4a1f2a4baf8a2f6601efde4544": {
          "model_module": "@jupyter-widgets/base",
          "model_name": "LayoutModel",
          "model_module_version": "1.2.0",
          "state": {
            "_model_module": "@jupyter-widgets/base",
            "_model_module_version": "1.2.0",
            "_model_name": "LayoutModel",
            "_view_count": null,
            "_view_module": "@jupyter-widgets/base",
            "_view_module_version": "1.2.0",
            "_view_name": "LayoutView",
            "align_content": null,
            "align_items": null,
            "align_self": null,
            "border": null,
            "bottom": null,
            "display": null,
            "flex": null,
            "flex_flow": null,
            "grid_area": null,
            "grid_auto_columns": null,
            "grid_auto_flow": null,
            "grid_auto_rows": null,
            "grid_column": null,
            "grid_gap": null,
            "grid_row": null,
            "grid_template_areas": null,
            "grid_template_columns": null,
            "grid_template_rows": null,
            "height": null,
            "justify_content": null,
            "justify_items": null,
            "left": null,
            "margin": null,
            "max_height": null,
            "max_width": null,
            "min_height": null,
            "min_width": null,
            "object_fit": null,
            "object_position": null,
            "order": null,
            "overflow": null,
            "overflow_x": null,
            "overflow_y": null,
            "padding": null,
            "right": null,
            "top": null,
            "visibility": null,
            "width": null
          }
        },
        "eedfec12a54c4182a33f73b98ab83fa9": {
          "model_module": "@jupyter-widgets/controls",
          "model_name": "DescriptionStyleModel",
          "model_module_version": "1.5.0",
          "state": {
            "_model_module": "@jupyter-widgets/controls",
            "_model_module_version": "1.5.0",
            "_model_name": "DescriptionStyleModel",
            "_view_count": null,
            "_view_module": "@jupyter-widgets/base",
            "_view_module_version": "1.2.0",
            "_view_name": "StyleView",
            "description_width": ""
          }
        },
        "4d219e7cf7cd4e58859ab20c121499d5": {
          "model_module": "@jupyter-widgets/base",
          "model_name": "LayoutModel",
          "model_module_version": "1.2.0",
          "state": {
            "_model_module": "@jupyter-widgets/base",
            "_model_module_version": "1.2.0",
            "_model_name": "LayoutModel",
            "_view_count": null,
            "_view_module": "@jupyter-widgets/base",
            "_view_module_version": "1.2.0",
            "_view_name": "LayoutView",
            "align_content": null,
            "align_items": null,
            "align_self": null,
            "border": null,
            "bottom": null,
            "display": null,
            "flex": null,
            "flex_flow": null,
            "grid_area": null,
            "grid_auto_columns": null,
            "grid_auto_flow": null,
            "grid_auto_rows": null,
            "grid_column": null,
            "grid_gap": null,
            "grid_row": null,
            "grid_template_areas": null,
            "grid_template_columns": null,
            "grid_template_rows": null,
            "height": null,
            "justify_content": null,
            "justify_items": null,
            "left": null,
            "margin": null,
            "max_height": null,
            "max_width": null,
            "min_height": null,
            "min_width": null,
            "object_fit": null,
            "object_position": null,
            "order": null,
            "overflow": null,
            "overflow_x": null,
            "overflow_y": null,
            "padding": null,
            "right": null,
            "top": null,
            "visibility": null,
            "width": null
          }
        },
        "680efd8175e54d4a8b2e9192e65d7e17": {
          "model_module": "@jupyter-widgets/controls",
          "model_name": "VBoxModel",
          "model_module_version": "1.5.0",
          "state": {
            "_dom_classes": [
              "widget-interact"
            ],
            "_model_module": "@jupyter-widgets/controls",
            "_model_module_version": "1.5.0",
            "_model_name": "VBoxModel",
            "_view_count": null,
            "_view_module": "@jupyter-widgets/controls",
            "_view_module_version": "1.5.0",
            "_view_name": "VBoxView",
            "box_style": "",
            "children": [
              "IPY_MODEL_c05d348b2a5e4680ad02eec3c23bf7d9",
              "IPY_MODEL_ce84e590c6f941d98d7e7560a9fcc09c",
              "IPY_MODEL_f8cdaa6b93f54aee8cf53ee74db77509"
            ],
            "layout": "IPY_MODEL_e8eb4d7386ea46c89323a4fd5d6d95f7"
          }
        },
        "c05d348b2a5e4680ad02eec3c23bf7d9": {
          "model_module": "@jupyter-widgets/controls",
          "model_name": "DropdownModel",
          "model_module_version": "1.5.0",
          "state": {
            "_dom_classes": [],
            "_model_module": "@jupyter-widgets/controls",
            "_model_module_version": "1.5.0",
            "_model_name": "DropdownModel",
            "_options_labels": [
              "claps",
              "days_since_publication",
              "fans",
              "num_responses",
              "read_ratio",
              "read_time",
              "reads",
              "title_word_count",
              "views",
              "word_count",
              "claps_per_word",
              "editing_days",
              "<tag>Education",
              "<tag>Data Science",
              "<tag>Towards Data Science",
              "<tag>Machine Learning",
              "<tag>Python"
            ],
            "_view_count": null,
            "_view_module": "@jupyter-widgets/controls",
            "_view_module_version": "1.5.0",
            "_view_name": "DropdownView",
            "description": "x",
            "description_tooltip": null,
            "disabled": false,
            "index": 0,
            "layout": "IPY_MODEL_92c466167c87406c922d431f1cf06ba9",
            "style": "IPY_MODEL_d88647ccd057469db821fff397bba87a"
          }
        },
        "ce84e590c6f941d98d7e7560a9fcc09c": {
          "model_module": "@jupyter-widgets/controls",
          "model_name": "DropdownModel",
          "model_module_version": "1.5.0",
          "state": {
            "_dom_classes": [],
            "_model_module": "@jupyter-widgets/controls",
            "_model_module_version": "1.5.0",
            "_model_name": "DropdownModel",
            "_options_labels": [
              "days_since_publication",
              "fans",
              "num_responses",
              "read_ratio",
              "read_time",
              "reads",
              "title_word_count",
              "views",
              "word_count",
              "claps_per_word",
              "editing_days",
              "<tag>Education",
              "<tag>Data Science",
              "<tag>Towards Data Science",
              "<tag>Machine Learning",
              "<tag>Python"
            ],
            "_view_count": null,
            "_view_module": "@jupyter-widgets/controls",
            "_view_module_version": "1.5.0",
            "_view_name": "DropdownView",
            "description": "y",
            "description_tooltip": null,
            "disabled": false,
            "index": 0,
            "layout": "IPY_MODEL_80071c13353541feadfe57aa037e9fd2",
            "style": "IPY_MODEL_c1f441edc2fd4688846b14531497fad3"
          }
        },
        "f8cdaa6b93f54aee8cf53ee74db77509": {
          "model_module": "@jupyter-widgets/output",
          "model_name": "OutputModel",
          "model_module_version": "1.0.0",
          "state": {
            "_dom_classes": [],
            "_model_module": "@jupyter-widgets/output",
            "_model_module_version": "1.0.0",
            "_model_name": "OutputModel",
            "_view_count": null,
            "_view_module": "@jupyter-widgets/output",
            "_view_module_version": "1.0.0",
            "_view_name": "OutputView",
            "layout": "IPY_MODEL_1d05dac7d86a4df0add1adb3aec9dc50",
            "msg_id": "",
            "outputs": [
              {
                "output_type": "display_data",
                "data": {
                  "text/html": "<html>\n<head><meta charset=\"utf-8\" /></head>\n<body>\n    <div>            <script src=\"https://cdnjs.cloudflare.com/ajax/libs/mathjax/2.7.5/MathJax.js?config=TeX-AMS-MML_SVG\"></script><script type=\"text/javascript\">if (window.MathJax && window.MathJax.Hub && window.MathJax.Hub.Config) {window.MathJax.Hub.Config({SVG: {font: \"STIX-Web\"}});}</script>                <script type=\"text/javascript\">window.PlotlyConfig = {MathJaxConfig: 'local'};</script>\n        <script charset=\"utf-8\" src=\"https://cdn.plot.ly/plotly-2.24.1.min.js\"></script>                <div id=\"fd2c6ad2-900e-4489-9a6d-016c5d064dd3\" class=\"plotly-graph-div\" style=\"height:525px; width:100%;\"></div>            <script type=\"text/javascript\">                                    window.PLOTLYENV=window.PLOTLYENV || {};                                    if (document.getElementById(\"fd2c6ad2-900e-4489-9a6d-016c5d064dd3\")) {                    Plotly.newPlot(                        \"fd2c6ad2-900e-4489-9a6d-016c5d064dd3\",                        [{\"hovertemplate\":\"claps=%{x}\\u003cbr\\u003edays_since_publication=%{y}\\u003cextra\\u003e\\u003c\\u002fextra\\u003e\",\"legendgroup\":\"\",\"marker\":{\"color\":\"#636efa\",\"symbol\":\"circle\"},\"mode\":\"markers\",\"name\":\"\",\"orientation\":\"v\",\"showlegend\":false,\"x\":[2,18,51,0,0,0,73,240,2,0,704,58,5,7,87,23,5,167,8,17,9,4900,3000,72,123,865,186,11,120,2100,4100,59,2800,82,21,7300,1200,285,1600,1600,1100,4300,4970,12900,225,5100,101,6000,647,977,7000,7000,2700,1100,3000,2600,2900,5500,1300,1000,8000,363,13600,4100,2200,3900,6400,8500,1300,5500,2400,2800,2400,715,717,3300,4400,844,906,3800,662,658,1100,2900,3100,797,246,3400,347,2600,981,2100,966,3300,710,2500,815,755,603,940,2300,1400,787,2800,2100,3800,547,856,1000,205,730,121,418,31,0,24,5,0,6,0,539,730,582,453,626,386,7600,1800,370,315,2000,53,901],\"xaxis\":\"x\",\"y\":[597.3011234928935,589.9831678934722,577.3632923185879,576.5206880427894,572.5330352605787,558.0200849386921,552.1556248098611,550.0150101095486,547.1585928973843,545.3034809904862,539.3015251376505,538.3616333815626,538.3616308881944,536.0693024557986,534.2649433761227,534.1913703218287,531.3165667823959,526.1891594631713,524.2700156780787,493.27377432550924,408.4711316033102,397.4293953507986,397.4277877258797,395.11609148437503,392.3287214495833,387.0576305824537,386.0425008728935,385.4954133210764,385.1945411716667,383.9926222874884,381.0352299594097,380.49090689327545,376.26001103743056,376.08059837900464,375.5302295332639,374.25597562319444,374.057076269838,371.30287774083337,369.1330005642593,366.05627657653935,365.5400972110185,362.41502231988426,360.50850330781253,358.51825893546294,355.52055696855325,352.9647862130903,351.1118723947454,348.4246294948727,342.3672663808449,338.5035495385648,331.4365996720949,324.2237845179977,317.4644109924653,314.49385861916664,311.37095904774304,303.5431680369791,297.31014599925925,290.0418619020949,283.33863078045135,283.33590105774306,275.2574436720486,273.4401389939236,257.37869697715274,256.5031338793634,255.49303694083335,252.30707613392363,245.41612982315974,240.48394241055556,223.04379871745368,220.4763571140278,218.55013955496528,214.54560088826392,209.44029542083334,192.52871201636574,186.50202452077545,172.5235798258449,170.65633337769677,165.28853490334492,163.07584995606481,161.4928592507176,161.4909019917708,152.1039705243287,151.37068348711804,147.1741579396412,140.50823078605325,134.46337733312498,134.1546791284375,127.46704148513888,124.33105608341435,119.0234442440625,116.35277775572916,108.38023233480325,103.46704841506943,94.25432953921296,88.03775204251157,85.00553926068287,82.47490355932871,82.47320225390047,77.52644544283565,74.5438217130787,71.98887388260417,71.06999180240742,63.34277000334491,61.469023250590276,58.40827168365741,52.2235387972801,51.289980235289356,50.015705424664354,44.37431741674769,43.02407055767361,42.06569560732639,35.0521156375,34.25713649174769,34.01111164185185,34.00981653321759,34.009006550671295,34.00856147113426,34.00809835439815,34.007692483854164,32.568144913657406,32.38009209974537,30.417934632164354,28.156351569837963,26.557568693715275,26.506609918437498,23.02377654986111,19.978734082060186,18.266623060266202,16.337141827581018,12.204313545636573,8.215424677094907,3.547005433310185,1.2186292689930556],\"yaxis\":\"y\",\"type\":\"scatter\"}],                        {\"template\":{\"data\":{\"histogram2dcontour\":[{\"type\":\"histogram2dcontour\",\"colorbar\":{\"outlinewidth\":0,\"ticks\":\"\"},\"colorscale\":[[0.0,\"#0d0887\"],[0.1111111111111111,\"#46039f\"],[0.2222222222222222,\"#7201a8\"],[0.3333333333333333,\"#9c179e\"],[0.4444444444444444,\"#bd3786\"],[0.5555555555555556,\"#d8576b\"],[0.6666666666666666,\"#ed7953\"],[0.7777777777777778,\"#fb9f3a\"],[0.8888888888888888,\"#fdca26\"],[1.0,\"#f0f921\"]]}],\"choropleth\":[{\"type\":\"choropleth\",\"colorbar\":{\"outlinewidth\":0,\"ticks\":\"\"}}],\"histogram2d\":[{\"type\":\"histogram2d\",\"colorbar\":{\"outlinewidth\":0,\"ticks\":\"\"},\"colorscale\":[[0.0,\"#0d0887\"],[0.1111111111111111,\"#46039f\"],[0.2222222222222222,\"#7201a8\"],[0.3333333333333333,\"#9c179e\"],[0.4444444444444444,\"#bd3786\"],[0.5555555555555556,\"#d8576b\"],[0.6666666666666666,\"#ed7953\"],[0.7777777777777778,\"#fb9f3a\"],[0.8888888888888888,\"#fdca26\"],[1.0,\"#f0f921\"]]}],\"heatmap\":[{\"type\":\"heatmap\",\"colorbar\":{\"outlinewidth\":0,\"ticks\":\"\"},\"colorscale\":[[0.0,\"#0d0887\"],[0.1111111111111111,\"#46039f\"],[0.2222222222222222,\"#7201a8\"],[0.3333333333333333,\"#9c179e\"],[0.4444444444444444,\"#bd3786\"],[0.5555555555555556,\"#d8576b\"],[0.6666666666666666,\"#ed7953\"],[0.7777777777777778,\"#fb9f3a\"],[0.8888888888888888,\"#fdca26\"],[1.0,\"#f0f921\"]]}],\"heatmapgl\":[{\"type\":\"heatmapgl\",\"colorbar\":{\"outlinewidth\":0,\"ticks\":\"\"},\"colorscale\":[[0.0,\"#0d0887\"],[0.1111111111111111,\"#46039f\"],[0.2222222222222222,\"#7201a8\"],[0.3333333333333333,\"#9c179e\"],[0.4444444444444444,\"#bd3786\"],[0.5555555555555556,\"#d8576b\"],[0.6666666666666666,\"#ed7953\"],[0.7777777777777778,\"#fb9f3a\"],[0.8888888888888888,\"#fdca26\"],[1.0,\"#f0f921\"]]}],\"contourcarpet\":[{\"type\":\"contourcarpet\",\"colorbar\":{\"outlinewidth\":0,\"ticks\":\"\"}}],\"contour\":[{\"type\":\"contour\",\"colorbar\":{\"outlinewidth\":0,\"ticks\":\"\"},\"colorscale\":[[0.0,\"#0d0887\"],[0.1111111111111111,\"#46039f\"],[0.2222222222222222,\"#7201a8\"],[0.3333333333333333,\"#9c179e\"],[0.4444444444444444,\"#bd3786\"],[0.5555555555555556,\"#d8576b\"],[0.6666666666666666,\"#ed7953\"],[0.7777777777777778,\"#fb9f3a\"],[0.8888888888888888,\"#fdca26\"],[1.0,\"#f0f921\"]]}],\"surface\":[{\"type\":\"surface\",\"colorbar\":{\"outlinewidth\":0,\"ticks\":\"\"},\"colorscale\":[[0.0,\"#0d0887\"],[0.1111111111111111,\"#46039f\"],[0.2222222222222222,\"#7201a8\"],[0.3333333333333333,\"#9c179e\"],[0.4444444444444444,\"#bd3786\"],[0.5555555555555556,\"#d8576b\"],[0.6666666666666666,\"#ed7953\"],[0.7777777777777778,\"#fb9f3a\"],[0.8888888888888888,\"#fdca26\"],[1.0,\"#f0f921\"]]}],\"mesh3d\":[{\"type\":\"mesh3d\",\"colorbar\":{\"outlinewidth\":0,\"ticks\":\"\"}}],\"scatter\":[{\"fillpattern\":{\"fillmode\":\"overlay\",\"size\":10,\"solidity\":0.2},\"type\":\"scatter\"}],\"parcoords\":[{\"type\":\"parcoords\",\"line\":{\"colorbar\":{\"outlinewidth\":0,\"ticks\":\"\"}}}],\"scatterpolargl\":[{\"type\":\"scatterpolargl\",\"marker\":{\"colorbar\":{\"outlinewidth\":0,\"ticks\":\"\"}}}],\"bar\":[{\"error_x\":{\"color\":\"#2a3f5f\"},\"error_y\":{\"color\":\"#2a3f5f\"},\"marker\":{\"line\":{\"color\":\"#E5ECF6\",\"width\":0.5},\"pattern\":{\"fillmode\":\"overlay\",\"size\":10,\"solidity\":0.2}},\"type\":\"bar\"}],\"scattergeo\":[{\"type\":\"scattergeo\",\"marker\":{\"colorbar\":{\"outlinewidth\":0,\"ticks\":\"\"}}}],\"scatterpolar\":[{\"type\":\"scatterpolar\",\"marker\":{\"colorbar\":{\"outlinewidth\":0,\"ticks\":\"\"}}}],\"histogram\":[{\"marker\":{\"pattern\":{\"fillmode\":\"overlay\",\"size\":10,\"solidity\":0.2}},\"type\":\"histogram\"}],\"scattergl\":[{\"type\":\"scattergl\",\"marker\":{\"colorbar\":{\"outlinewidth\":0,\"ticks\":\"\"}}}],\"scatter3d\":[{\"type\":\"scatter3d\",\"line\":{\"colorbar\":{\"outlinewidth\":0,\"ticks\":\"\"}},\"marker\":{\"colorbar\":{\"outlinewidth\":0,\"ticks\":\"\"}}}],\"scattermapbox\":[{\"type\":\"scattermapbox\",\"marker\":{\"colorbar\":{\"outlinewidth\":0,\"ticks\":\"\"}}}],\"scatterternary\":[{\"type\":\"scatterternary\",\"marker\":{\"colorbar\":{\"outlinewidth\":0,\"ticks\":\"\"}}}],\"scattercarpet\":[{\"type\":\"scattercarpet\",\"marker\":{\"colorbar\":{\"outlinewidth\":0,\"ticks\":\"\"}}}],\"carpet\":[{\"aaxis\":{\"endlinecolor\":\"#2a3f5f\",\"gridcolor\":\"white\",\"linecolor\":\"white\",\"minorgridcolor\":\"white\",\"startlinecolor\":\"#2a3f5f\"},\"baxis\":{\"endlinecolor\":\"#2a3f5f\",\"gridcolor\":\"white\",\"linecolor\":\"white\",\"minorgridcolor\":\"white\",\"startlinecolor\":\"#2a3f5f\"},\"type\":\"carpet\"}],\"table\":[{\"cells\":{\"fill\":{\"color\":\"#EBF0F8\"},\"line\":{\"color\":\"white\"}},\"header\":{\"fill\":{\"color\":\"#C8D4E3\"},\"line\":{\"color\":\"white\"}},\"type\":\"table\"}],\"barpolar\":[{\"marker\":{\"line\":{\"color\":\"#E5ECF6\",\"width\":0.5},\"pattern\":{\"fillmode\":\"overlay\",\"size\":10,\"solidity\":0.2}},\"type\":\"barpolar\"}],\"pie\":[{\"automargin\":true,\"type\":\"pie\"}]},\"layout\":{\"autotypenumbers\":\"strict\",\"colorway\":[\"#636efa\",\"#EF553B\",\"#00cc96\",\"#ab63fa\",\"#FFA15A\",\"#19d3f3\",\"#FF6692\",\"#B6E880\",\"#FF97FF\",\"#FECB52\"],\"font\":{\"color\":\"#2a3f5f\"},\"hovermode\":\"closest\",\"hoverlabel\":{\"align\":\"left\"},\"paper_bgcolor\":\"white\",\"plot_bgcolor\":\"#E5ECF6\",\"polar\":{\"bgcolor\":\"#E5ECF6\",\"angularaxis\":{\"gridcolor\":\"white\",\"linecolor\":\"white\",\"ticks\":\"\"},\"radialaxis\":{\"gridcolor\":\"white\",\"linecolor\":\"white\",\"ticks\":\"\"}},\"ternary\":{\"bgcolor\":\"#E5ECF6\",\"aaxis\":{\"gridcolor\":\"white\",\"linecolor\":\"white\",\"ticks\":\"\"},\"baxis\":{\"gridcolor\":\"white\",\"linecolor\":\"white\",\"ticks\":\"\"},\"caxis\":{\"gridcolor\":\"white\",\"linecolor\":\"white\",\"ticks\":\"\"}},\"coloraxis\":{\"colorbar\":{\"outlinewidth\":0,\"ticks\":\"\"}},\"colorscale\":{\"sequential\":[[0.0,\"#0d0887\"],[0.1111111111111111,\"#46039f\"],[0.2222222222222222,\"#7201a8\"],[0.3333333333333333,\"#9c179e\"],[0.4444444444444444,\"#bd3786\"],[0.5555555555555556,\"#d8576b\"],[0.6666666666666666,\"#ed7953\"],[0.7777777777777778,\"#fb9f3a\"],[0.8888888888888888,\"#fdca26\"],[1.0,\"#f0f921\"]],\"sequentialminus\":[[0.0,\"#0d0887\"],[0.1111111111111111,\"#46039f\"],[0.2222222222222222,\"#7201a8\"],[0.3333333333333333,\"#9c179e\"],[0.4444444444444444,\"#bd3786\"],[0.5555555555555556,\"#d8576b\"],[0.6666666666666666,\"#ed7953\"],[0.7777777777777778,\"#fb9f3a\"],[0.8888888888888888,\"#fdca26\"],[1.0,\"#f0f921\"]],\"diverging\":[[0,\"#8e0152\"],[0.1,\"#c51b7d\"],[0.2,\"#de77ae\"],[0.3,\"#f1b6da\"],[0.4,\"#fde0ef\"],[0.5,\"#f7f7f7\"],[0.6,\"#e6f5d0\"],[0.7,\"#b8e186\"],[0.8,\"#7fbc41\"],[0.9,\"#4d9221\"],[1,\"#276419\"]]},\"xaxis\":{\"gridcolor\":\"white\",\"linecolor\":\"white\",\"ticks\":\"\",\"title\":{\"standoff\":15},\"zerolinecolor\":\"white\",\"automargin\":true,\"zerolinewidth\":2},\"yaxis\":{\"gridcolor\":\"white\",\"linecolor\":\"white\",\"ticks\":\"\",\"title\":{\"standoff\":15},\"zerolinecolor\":\"white\",\"automargin\":true,\"zerolinewidth\":2},\"scene\":{\"xaxis\":{\"backgroundcolor\":\"#E5ECF6\",\"gridcolor\":\"white\",\"linecolor\":\"white\",\"showbackground\":true,\"ticks\":\"\",\"zerolinecolor\":\"white\",\"gridwidth\":2},\"yaxis\":{\"backgroundcolor\":\"#E5ECF6\",\"gridcolor\":\"white\",\"linecolor\":\"white\",\"showbackground\":true,\"ticks\":\"\",\"zerolinecolor\":\"white\",\"gridwidth\":2},\"zaxis\":{\"backgroundcolor\":\"#E5ECF6\",\"gridcolor\":\"white\",\"linecolor\":\"white\",\"showbackground\":true,\"ticks\":\"\",\"zerolinecolor\":\"white\",\"gridwidth\":2}},\"shapedefaults\":{\"line\":{\"color\":\"#2a3f5f\"}},\"annotationdefaults\":{\"arrowcolor\":\"#2a3f5f\",\"arrowhead\":0,\"arrowwidth\":1},\"geo\":{\"bgcolor\":\"white\",\"landcolor\":\"#E5ECF6\",\"subunitcolor\":\"white\",\"showland\":true,\"showlakes\":true,\"lakecolor\":\"white\"},\"title\":{\"x\":0.05},\"mapbox\":{\"style\":\"light\"}}},\"xaxis\":{\"anchor\":\"y\",\"domain\":[0.0,1.0],\"title\":{\"text\":\"claps\"}},\"yaxis\":{\"anchor\":\"x\",\"domain\":[0.0,1.0],\"title\":{\"text\":\"days_since_publication\"}},\"legend\":{\"tracegroupgap\":0},\"title\":{\"text\":\"Days_Since_Publication vs Claps\"}},                        {\"responsive\": true}                    ).then(function(){\n                            \nvar gd = document.getElementById('fd2c6ad2-900e-4489-9a6d-016c5d064dd3');\nvar x = new MutationObserver(function (mutations, observer) {{\n        var display = window.getComputedStyle(gd).display;\n        if (!display || display === 'none') {{\n            console.log([gd, 'removed!']);\n            Plotly.purge(gd);\n            observer.disconnect();\n        }}\n}});\n\n// Listen for the removal of the full notebook cells\nvar notebookContainer = gd.closest('#notebook-container');\nif (notebookContainer) {{\n    x.observe(notebookContainer, {childList: true});\n}}\n\n// Listen for the clearing of the current output cell\nvar outputEl = gd.closest('.output');\nif (outputEl) {{\n    x.observe(outputEl, {childList: true});\n}}\n\n                        })                };                            </script>        </div>\n</body>\n</html>"
                },
                "metadata": {}
              }
            ]
          }
        },
        "e8eb4d7386ea46c89323a4fd5d6d95f7": {
          "model_module": "@jupyter-widgets/base",
          "model_name": "LayoutModel",
          "model_module_version": "1.2.0",
          "state": {
            "_model_module": "@jupyter-widgets/base",
            "_model_module_version": "1.2.0",
            "_model_name": "LayoutModel",
            "_view_count": null,
            "_view_module": "@jupyter-widgets/base",
            "_view_module_version": "1.2.0",
            "_view_name": "LayoutView",
            "align_content": null,
            "align_items": null,
            "align_self": null,
            "border": null,
            "bottom": null,
            "display": null,
            "flex": null,
            "flex_flow": null,
            "grid_area": null,
            "grid_auto_columns": null,
            "grid_auto_flow": null,
            "grid_auto_rows": null,
            "grid_column": null,
            "grid_gap": null,
            "grid_row": null,
            "grid_template_areas": null,
            "grid_template_columns": null,
            "grid_template_rows": null,
            "height": null,
            "justify_content": null,
            "justify_items": null,
            "left": null,
            "margin": null,
            "max_height": null,
            "max_width": null,
            "min_height": null,
            "min_width": null,
            "object_fit": null,
            "object_position": null,
            "order": null,
            "overflow": null,
            "overflow_x": null,
            "overflow_y": null,
            "padding": null,
            "right": null,
            "top": null,
            "visibility": null,
            "width": null
          }
        },
        "92c466167c87406c922d431f1cf06ba9": {
          "model_module": "@jupyter-widgets/base",
          "model_name": "LayoutModel",
          "model_module_version": "1.2.0",
          "state": {
            "_model_module": "@jupyter-widgets/base",
            "_model_module_version": "1.2.0",
            "_model_name": "LayoutModel",
            "_view_count": null,
            "_view_module": "@jupyter-widgets/base",
            "_view_module_version": "1.2.0",
            "_view_name": "LayoutView",
            "align_content": null,
            "align_items": null,
            "align_self": null,
            "border": null,
            "bottom": null,
            "display": null,
            "flex": null,
            "flex_flow": null,
            "grid_area": null,
            "grid_auto_columns": null,
            "grid_auto_flow": null,
            "grid_auto_rows": null,
            "grid_column": null,
            "grid_gap": null,
            "grid_row": null,
            "grid_template_areas": null,
            "grid_template_columns": null,
            "grid_template_rows": null,
            "height": null,
            "justify_content": null,
            "justify_items": null,
            "left": null,
            "margin": null,
            "max_height": null,
            "max_width": null,
            "min_height": null,
            "min_width": null,
            "object_fit": null,
            "object_position": null,
            "order": null,
            "overflow": null,
            "overflow_x": null,
            "overflow_y": null,
            "padding": null,
            "right": null,
            "top": null,
            "visibility": null,
            "width": null
          }
        },
        "d88647ccd057469db821fff397bba87a": {
          "model_module": "@jupyter-widgets/controls",
          "model_name": "DescriptionStyleModel",
          "model_module_version": "1.5.0",
          "state": {
            "_model_module": "@jupyter-widgets/controls",
            "_model_module_version": "1.5.0",
            "_model_name": "DescriptionStyleModel",
            "_view_count": null,
            "_view_module": "@jupyter-widgets/base",
            "_view_module_version": "1.2.0",
            "_view_name": "StyleView",
            "description_width": ""
          }
        },
        "80071c13353541feadfe57aa037e9fd2": {
          "model_module": "@jupyter-widgets/base",
          "model_name": "LayoutModel",
          "model_module_version": "1.2.0",
          "state": {
            "_model_module": "@jupyter-widgets/base",
            "_model_module_version": "1.2.0",
            "_model_name": "LayoutModel",
            "_view_count": null,
            "_view_module": "@jupyter-widgets/base",
            "_view_module_version": "1.2.0",
            "_view_name": "LayoutView",
            "align_content": null,
            "align_items": null,
            "align_self": null,
            "border": null,
            "bottom": null,
            "display": null,
            "flex": null,
            "flex_flow": null,
            "grid_area": null,
            "grid_auto_columns": null,
            "grid_auto_flow": null,
            "grid_auto_rows": null,
            "grid_column": null,
            "grid_gap": null,
            "grid_row": null,
            "grid_template_areas": null,
            "grid_template_columns": null,
            "grid_template_rows": null,
            "height": null,
            "justify_content": null,
            "justify_items": null,
            "left": null,
            "margin": null,
            "max_height": null,
            "max_width": null,
            "min_height": null,
            "min_width": null,
            "object_fit": null,
            "object_position": null,
            "order": null,
            "overflow": null,
            "overflow_x": null,
            "overflow_y": null,
            "padding": null,
            "right": null,
            "top": null,
            "visibility": null,
            "width": null
          }
        },
        "c1f441edc2fd4688846b14531497fad3": {
          "model_module": "@jupyter-widgets/controls",
          "model_name": "DescriptionStyleModel",
          "model_module_version": "1.5.0",
          "state": {
            "_model_module": "@jupyter-widgets/controls",
            "_model_module_version": "1.5.0",
            "_model_name": "DescriptionStyleModel",
            "_view_count": null,
            "_view_module": "@jupyter-widgets/base",
            "_view_module_version": "1.2.0",
            "_view_name": "StyleView",
            "description_width": ""
          }
        },
        "1d05dac7d86a4df0add1adb3aec9dc50": {
          "model_module": "@jupyter-widgets/base",
          "model_name": "LayoutModel",
          "model_module_version": "1.2.0",
          "state": {
            "_model_module": "@jupyter-widgets/base",
            "_model_module_version": "1.2.0",
            "_model_name": "LayoutModel",
            "_view_count": null,
            "_view_module": "@jupyter-widgets/base",
            "_view_module_version": "1.2.0",
            "_view_name": "LayoutView",
            "align_content": null,
            "align_items": null,
            "align_self": null,
            "border": null,
            "bottom": null,
            "display": null,
            "flex": null,
            "flex_flow": null,
            "grid_area": null,
            "grid_auto_columns": null,
            "grid_auto_flow": null,
            "grid_auto_rows": null,
            "grid_column": null,
            "grid_gap": null,
            "grid_row": null,
            "grid_template_areas": null,
            "grid_template_columns": null,
            "grid_template_rows": null,
            "height": null,
            "justify_content": null,
            "justify_items": null,
            "left": null,
            "margin": null,
            "max_height": null,
            "max_width": null,
            "min_height": null,
            "min_width": null,
            "object_fit": null,
            "object_position": null,
            "order": null,
            "overflow": null,
            "overflow_x": null,
            "overflow_y": null,
            "padding": null,
            "right": null,
            "top": null,
            "visibility": null,
            "width": null
          }
        },
        "19722b72f37841688c89b3c148a07899": {
          "model_module": "@jupyter-widgets/controls",
          "model_name": "VBoxModel",
          "model_module_version": "1.5.0",
          "state": {
            "_dom_classes": [
              "widget-interact"
            ],
            "_model_module": "@jupyter-widgets/controls",
            "_model_module_version": "1.5.0",
            "_model_name": "VBoxModel",
            "_view_count": null,
            "_view_module": "@jupyter-widgets/controls",
            "_view_module_version": "1.5.0",
            "_view_name": "VBoxView",
            "box_style": "",
            "children": [
              "IPY_MODEL_477d11c0092942aeb2ed5d10ba403c3b",
              "IPY_MODEL_a4f689614d954cc4bb1fe1fb92103cd3"
            ],
            "layout": "IPY_MODEL_3ef893d906034198bf5eb0aa24adf4a4"
          }
        },
        "477d11c0092942aeb2ed5d10ba403c3b": {
          "model_module": "@jupyter-widgets/controls",
          "model_name": "DropdownModel",
          "model_module_version": "1.5.0",
          "state": {
            "_dom_classes": [],
            "_model_module": "@jupyter-widgets/controls",
            "_model_module_version": "1.5.0",
            "_model_name": "DropdownModel",
            "_options_labels": [
              "Greys",
              "YlGnBu",
              "Greens",
              "YlOrRd",
              "Bluered",
              "RdBu",
              "Reds",
              "Blues",
              "Picnic",
              "Rainbow",
              "Portland",
              "Jet",
              "Hot",
              "Blackbody",
              "Earth",
              "Electric",
              "Viridis",
              "Cividis"
            ],
            "_view_count": null,
            "_view_module": "@jupyter-widgets/controls",
            "_view_module_version": "1.5.0",
            "_view_name": "DropdownView",
            "description": "colorscale",
            "description_tooltip": null,
            "disabled": false,
            "index": 12,
            "layout": "IPY_MODEL_95e9d3a3fe744c00bb3efc484cd3137d",
            "style": "IPY_MODEL_9b15f9a77a4a42ca9e4a2f43cb27cb86"
          }
        },
        "a4f689614d954cc4bb1fe1fb92103cd3": {
          "model_module": "@jupyter-widgets/output",
          "model_name": "OutputModel",
          "model_module_version": "1.0.0",
          "state": {
            "_dom_classes": [],
            "_model_module": "@jupyter-widgets/output",
            "_model_module_version": "1.0.0",
            "_model_name": "OutputModel",
            "_view_count": null,
            "_view_module": "@jupyter-widgets/output",
            "_view_module_version": "1.0.0",
            "_view_name": "OutputView",
            "layout": "IPY_MODEL_46374ea0513e449db27e6ff7dfeb8e0c",
            "msg_id": "",
            "outputs": [
              {
                "output_type": "display_data",
                "data": {
                  "text/html": "<html>\n<head><meta charset=\"utf-8\" /></head>\n<body>\n    <div>            <script src=\"https://cdnjs.cloudflare.com/ajax/libs/mathjax/2.7.5/MathJax.js?config=TeX-AMS-MML_SVG\"></script><script type=\"text/javascript\">if (window.MathJax && window.MathJax.Hub && window.MathJax.Hub.Config) {window.MathJax.Hub.Config({SVG: {font: \"STIX-Web\"}});}</script>                <script type=\"text/javascript\">window.PlotlyConfig = {MathJaxConfig: 'local'};</script>\n        <script charset=\"utf-8\" src=\"https://cdn.plot.ly/plotly-2.24.1.min.js\"></script>                <div id=\"8d4ae4ab-5eff-4e3b-8bab-36303f451fec\" class=\"plotly-graph-div\" style=\"height:525px; width:100%;\"></div>            <script type=\"text/javascript\">                                    window.PLOTLYENV=window.PLOTLYENV || {};                                    if (document.getElementById(\"8d4ae4ab-5eff-4e3b-8bab-36303f451fec\")) {                    Plotly.newPlot(                        \"8d4ae4ab-5eff-4e3b-8bab-36303f451fec\",                        [{\"colorscale\":[[0.0,\"rgb(0,0,0)\"],[0.3333333333333333,\"rgb(230,0,0)\"],[0.6666666666666666,\"rgb(255,210,0)\"],[1.0,\"rgb(255,255,255)\"]],\"reversescale\":false,\"showscale\":false,\"x\":[\"claps\",\"days_since_publication\",\"fans\",\"num_responses\",\"read_ratio\",\"read_time\",\"reads\",\"title_word_count\",\"views\",\"word_count\",\"claps_per_word\",\"editing_days\",\"\\u003ctag\\u003eEducation\",\"\\u003ctag\\u003eData Science\",\"\\u003ctag\\u003eTowards Data Science\",\"\\u003ctag\\u003eMachine Learning\",\"\\u003ctag\\u003ePython\"],\"y\":[\"claps\",\"days_since_publication\",\"fans\",\"num_responses\",\"read_ratio\",\"read_time\",\"reads\",\"title_word_count\",\"views\",\"word_count\",\"claps_per_word\",\"editing_days\",\"\\u003ctag\\u003eEducation\",\"\\u003ctag\\u003eData Science\",\"\\u003ctag\\u003eTowards Data Science\",\"\\u003ctag\\u003eMachine Learning\",\"\\u003ctag\\u003ePython\"],\"z\":[[1.0,-0.03,0.99,0.9,0.01,-0.18,0.76,0.12,0.74,-0.18,0.78,-0.17,0.21,0.35,0.56,0.15,0.31],[-0.03,1.0,-0.03,0.01,0.11,0.14,0.14,-0.19,0.13,0.1,-0.02,-0.29,-0.76,-0.3,-0.23,-0.05,0.13],[0.99,-0.03,1.0,0.87,0.0,-0.18,0.78,0.14,0.76,-0.18,0.75,-0.17,0.21,0.36,0.57,0.17,0.32],[0.9,0.01,0.87,1.0,0.1,-0.2,0.76,0.08,0.71,-0.21,0.8,-0.19,0.15,0.32,0.52,0.08,0.31],[0.01,0.11,0.0,0.1,1.0,-0.61,0.05,0.05,-0.11,-0.56,0.29,-0.17,0.05,-0.02,-0.05,-0.28,-0.18],[-0.18,0.14,-0.18,-0.2,-0.61,1.0,-0.15,-0.15,-0.07,0.96,-0.25,0.45,-0.28,-0.08,-0.22,0.21,0.09],[0.76,0.14,0.78,0.76,0.05,-0.15,1.0,0.05,0.94,-0.17,0.56,-0.17,-0.06,0.34,0.36,0.2,0.42],[0.12,-0.19,0.14,0.08,0.05,-0.15,0.05,1.0,0.05,-0.15,0.11,-0.1,0.28,0.13,0.32,0.24,0.26],[0.74,0.13,0.76,0.71,-0.11,-0.07,0.94,0.05,1.0,-0.1,0.4,-0.16,-0.07,0.32,0.34,0.28,0.45],[-0.18,0.1,-0.18,-0.21,-0.56,0.96,-0.17,-0.15,-0.1,1.0,-0.25,0.46,-0.23,-0.09,-0.21,0.19,0.02],[0.78,-0.02,0.75,0.8,0.29,-0.25,0.56,0.11,0.4,-0.25,1.0,-0.13,0.2,0.27,0.38,-0.03,0.24],[-0.17,-0.29,-0.17,-0.19,-0.17,0.45,-0.17,-0.1,-0.16,0.46,-0.13,1.0,0.16,0.14,-0.19,0.26,-0.16],[0.21,-0.76,0.21,0.15,0.05,-0.28,-0.06,0.28,-0.07,-0.23,0.2,0.16,1.0,0.31,0.37,0.1,-0.1],[0.35,-0.3,0.36,0.32,-0.02,-0.08,0.34,0.13,0.32,-0.09,0.27,0.14,0.31,1.0,0.36,0.31,0.08],[0.56,-0.23,0.57,0.52,-0.05,-0.22,0.36,0.32,0.34,-0.21,0.38,-0.19,0.37,0.36,1.0,0.15,0.25],[0.15,-0.05,0.17,0.08,-0.28,0.21,0.2,0.24,0.28,0.19,-0.03,0.26,0.1,0.31,0.15,1.0,0.26],[0.31,0.13,0.32,0.31,-0.18,0.09,0.42,0.26,0.45,0.02,0.24,-0.16,-0.1,0.08,0.25,0.26,1.0]],\"type\":\"heatmap\"}],                        {\"annotations\":[{\"font\":{\"color\":\"#000000\"},\"showarrow\":false,\"text\":\"1.0\",\"x\":\"claps\",\"xref\":\"x\",\"y\":\"claps\",\"yref\":\"y\"},{\"font\":{\"color\":\"#FFFFFF\"},\"showarrow\":false,\"text\":\"-0.03\",\"x\":\"days_since_publication\",\"xref\":\"x\",\"y\":\"claps\",\"yref\":\"y\"},{\"font\":{\"color\":\"#000000\"},\"showarrow\":false,\"text\":\"0.99\",\"x\":\"fans\",\"xref\":\"x\",\"y\":\"claps\",\"yref\":\"y\"},{\"font\":{\"color\":\"#000000\"},\"showarrow\":false,\"text\":\"0.9\",\"x\":\"num_responses\",\"xref\":\"x\",\"y\":\"claps\",\"yref\":\"y\"},{\"font\":{\"color\":\"#FFFFFF\"},\"showarrow\":false,\"text\":\"0.01\",\"x\":\"read_ratio\",\"xref\":\"x\",\"y\":\"claps\",\"yref\":\"y\"},{\"font\":{\"color\":\"#FFFFFF\"},\"showarrow\":false,\"text\":\"-0.18\",\"x\":\"read_time\",\"xref\":\"x\",\"y\":\"claps\",\"yref\":\"y\"},{\"font\":{\"color\":\"#000000\"},\"showarrow\":false,\"text\":\"0.76\",\"x\":\"reads\",\"xref\":\"x\",\"y\":\"claps\",\"yref\":\"y\"},{\"font\":{\"color\":\"#000000\"},\"showarrow\":false,\"text\":\"0.12\",\"x\":\"title_word_count\",\"xref\":\"x\",\"y\":\"claps\",\"yref\":\"y\"},{\"font\":{\"color\":\"#000000\"},\"showarrow\":false,\"text\":\"0.74\",\"x\":\"views\",\"xref\":\"x\",\"y\":\"claps\",\"yref\":\"y\"},{\"font\":{\"color\":\"#FFFFFF\"},\"showarrow\":false,\"text\":\"-0.18\",\"x\":\"word_count\",\"xref\":\"x\",\"y\":\"claps\",\"yref\":\"y\"},{\"font\":{\"color\":\"#000000\"},\"showarrow\":false,\"text\":\"0.78\",\"x\":\"claps_per_word\",\"xref\":\"x\",\"y\":\"claps\",\"yref\":\"y\"},{\"font\":{\"color\":\"#FFFFFF\"},\"showarrow\":false,\"text\":\"-0.17\",\"x\":\"editing_days\",\"xref\":\"x\",\"y\":\"claps\",\"yref\":\"y\"},{\"font\":{\"color\":\"#000000\"},\"showarrow\":false,\"text\":\"0.21\",\"x\":\"\\u003ctag\\u003eEducation\",\"xref\":\"x\",\"y\":\"claps\",\"yref\":\"y\"},{\"font\":{\"color\":\"#000000\"},\"showarrow\":false,\"text\":\"0.35\",\"x\":\"\\u003ctag\\u003eData Science\",\"xref\":\"x\",\"y\":\"claps\",\"yref\":\"y\"},{\"font\":{\"color\":\"#000000\"},\"showarrow\":false,\"text\":\"0.56\",\"x\":\"\\u003ctag\\u003eTowards Data Science\",\"xref\":\"x\",\"y\":\"claps\",\"yref\":\"y\"},{\"font\":{\"color\":\"#000000\"},\"showarrow\":false,\"text\":\"0.15\",\"x\":\"\\u003ctag\\u003eMachine Learning\",\"xref\":\"x\",\"y\":\"claps\",\"yref\":\"y\"},{\"font\":{\"color\":\"#000000\"},\"showarrow\":false,\"text\":\"0.31\",\"x\":\"\\u003ctag\\u003ePython\",\"xref\":\"x\",\"y\":\"claps\",\"yref\":\"y\"},{\"font\":{\"color\":\"#FFFFFF\"},\"showarrow\":false,\"text\":\"-0.03\",\"x\":\"claps\",\"xref\":\"x\",\"y\":\"days_since_publication\",\"yref\":\"y\"},{\"font\":{\"color\":\"#000000\"},\"showarrow\":false,\"text\":\"1.0\",\"x\":\"days_since_publication\",\"xref\":\"x\",\"y\":\"days_since_publication\",\"yref\":\"y\"},{\"font\":{\"color\":\"#FFFFFF\"},\"showarrow\":false,\"text\":\"-0.03\",\"x\":\"fans\",\"xref\":\"x\",\"y\":\"days_since_publication\",\"yref\":\"y\"},{\"font\":{\"color\":\"#FFFFFF\"},\"showarrow\":false,\"text\":\"0.01\",\"x\":\"num_responses\",\"xref\":\"x\",\"y\":\"days_since_publication\",\"yref\":\"y\"},{\"font\":{\"color\":\"#FFFFFF\"},\"showarrow\":false,\"text\":\"0.11\",\"x\":\"read_ratio\",\"xref\":\"x\",\"y\":\"days_since_publication\",\"yref\":\"y\"},{\"font\":{\"color\":\"#000000\"},\"showarrow\":false,\"text\":\"0.14\",\"x\":\"read_time\",\"xref\":\"x\",\"y\":\"days_since_publication\",\"yref\":\"y\"},{\"font\":{\"color\":\"#000000\"},\"showarrow\":false,\"text\":\"0.14\",\"x\":\"reads\",\"xref\":\"x\",\"y\":\"days_since_publication\",\"yref\":\"y\"},{\"font\":{\"color\":\"#FFFFFF\"},\"showarrow\":false,\"text\":\"-0.19\",\"x\":\"title_word_count\",\"xref\":\"x\",\"y\":\"days_since_publication\",\"yref\":\"y\"},{\"font\":{\"color\":\"#000000\"},\"showarrow\":false,\"text\":\"0.13\",\"x\":\"views\",\"xref\":\"x\",\"y\":\"days_since_publication\",\"yref\":\"y\"},{\"font\":{\"color\":\"#FFFFFF\"},\"showarrow\":false,\"text\":\"0.1\",\"x\":\"word_count\",\"xref\":\"x\",\"y\":\"days_since_publication\",\"yref\":\"y\"},{\"font\":{\"color\":\"#FFFFFF\"},\"showarrow\":false,\"text\":\"-0.02\",\"x\":\"claps_per_word\",\"xref\":\"x\",\"y\":\"days_since_publication\",\"yref\":\"y\"},{\"font\":{\"color\":\"#FFFFFF\"},\"showarrow\":false,\"text\":\"-0.29\",\"x\":\"editing_days\",\"xref\":\"x\",\"y\":\"days_since_publication\",\"yref\":\"y\"},{\"font\":{\"color\":\"#FFFFFF\"},\"showarrow\":false,\"text\":\"-0.76\",\"x\":\"\\u003ctag\\u003eEducation\",\"xref\":\"x\",\"y\":\"days_since_publication\",\"yref\":\"y\"},{\"font\":{\"color\":\"#FFFFFF\"},\"showarrow\":false,\"text\":\"-0.3\",\"x\":\"\\u003ctag\\u003eData Science\",\"xref\":\"x\",\"y\":\"days_since_publication\",\"yref\":\"y\"},{\"font\":{\"color\":\"#FFFFFF\"},\"showarrow\":false,\"text\":\"-0.23\",\"x\":\"\\u003ctag\\u003eTowards Data Science\",\"xref\":\"x\",\"y\":\"days_since_publication\",\"yref\":\"y\"},{\"font\":{\"color\":\"#FFFFFF\"},\"showarrow\":false,\"text\":\"-0.05\",\"x\":\"\\u003ctag\\u003eMachine Learning\",\"xref\":\"x\",\"y\":\"days_since_publication\",\"yref\":\"y\"},{\"font\":{\"color\":\"#000000\"},\"showarrow\":false,\"text\":\"0.13\",\"x\":\"\\u003ctag\\u003ePython\",\"xref\":\"x\",\"y\":\"days_since_publication\",\"yref\":\"y\"},{\"font\":{\"color\":\"#000000\"},\"showarrow\":false,\"text\":\"0.99\",\"x\":\"claps\",\"xref\":\"x\",\"y\":\"fans\",\"yref\":\"y\"},{\"font\":{\"color\":\"#FFFFFF\"},\"showarrow\":false,\"text\":\"-0.03\",\"x\":\"days_since_publication\",\"xref\":\"x\",\"y\":\"fans\",\"yref\":\"y\"},{\"font\":{\"color\":\"#000000\"},\"showarrow\":false,\"text\":\"1.0\",\"x\":\"fans\",\"xref\":\"x\",\"y\":\"fans\",\"yref\":\"y\"},{\"font\":{\"color\":\"#000000\"},\"showarrow\":false,\"text\":\"0.87\",\"x\":\"num_responses\",\"xref\":\"x\",\"y\":\"fans\",\"yref\":\"y\"},{\"font\":{\"color\":\"#FFFFFF\"},\"showarrow\":false,\"text\":\"0.0\",\"x\":\"read_ratio\",\"xref\":\"x\",\"y\":\"fans\",\"yref\":\"y\"},{\"font\":{\"color\":\"#FFFFFF\"},\"showarrow\":false,\"text\":\"-0.18\",\"x\":\"read_time\",\"xref\":\"x\",\"y\":\"fans\",\"yref\":\"y\"},{\"font\":{\"color\":\"#000000\"},\"showarrow\":false,\"text\":\"0.78\",\"x\":\"reads\",\"xref\":\"x\",\"y\":\"fans\",\"yref\":\"y\"},{\"font\":{\"color\":\"#000000\"},\"showarrow\":false,\"text\":\"0.14\",\"x\":\"title_word_count\",\"xref\":\"x\",\"y\":\"fans\",\"yref\":\"y\"},{\"font\":{\"color\":\"#000000\"},\"showarrow\":false,\"text\":\"0.76\",\"x\":\"views\",\"xref\":\"x\",\"y\":\"fans\",\"yref\":\"y\"},{\"font\":{\"color\":\"#FFFFFF\"},\"showarrow\":false,\"text\":\"-0.18\",\"x\":\"word_count\",\"xref\":\"x\",\"y\":\"fans\",\"yref\":\"y\"},{\"font\":{\"color\":\"#000000\"},\"showarrow\":false,\"text\":\"0.75\",\"x\":\"claps_per_word\",\"xref\":\"x\",\"y\":\"fans\",\"yref\":\"y\"},{\"font\":{\"color\":\"#FFFFFF\"},\"showarrow\":false,\"text\":\"-0.17\",\"x\":\"editing_days\",\"xref\":\"x\",\"y\":\"fans\",\"yref\":\"y\"},{\"font\":{\"color\":\"#000000\"},\"showarrow\":false,\"text\":\"0.21\",\"x\":\"\\u003ctag\\u003eEducation\",\"xref\":\"x\",\"y\":\"fans\",\"yref\":\"y\"},{\"font\":{\"color\":\"#000000\"},\"showarrow\":false,\"text\":\"0.36\",\"x\":\"\\u003ctag\\u003eData Science\",\"xref\":\"x\",\"y\":\"fans\",\"yref\":\"y\"},{\"font\":{\"color\":\"#000000\"},\"showarrow\":false,\"text\":\"0.57\",\"x\":\"\\u003ctag\\u003eTowards Data Science\",\"xref\":\"x\",\"y\":\"fans\",\"yref\":\"y\"},{\"font\":{\"color\":\"#000000\"},\"showarrow\":false,\"text\":\"0.17\",\"x\":\"\\u003ctag\\u003eMachine Learning\",\"xref\":\"x\",\"y\":\"fans\",\"yref\":\"y\"},{\"font\":{\"color\":\"#000000\"},\"showarrow\":false,\"text\":\"0.32\",\"x\":\"\\u003ctag\\u003ePython\",\"xref\":\"x\",\"y\":\"fans\",\"yref\":\"y\"},{\"font\":{\"color\":\"#000000\"},\"showarrow\":false,\"text\":\"0.9\",\"x\":\"claps\",\"xref\":\"x\",\"y\":\"num_responses\",\"yref\":\"y\"},{\"font\":{\"color\":\"#FFFFFF\"},\"showarrow\":false,\"text\":\"0.01\",\"x\":\"days_since_publication\",\"xref\":\"x\",\"y\":\"num_responses\",\"yref\":\"y\"},{\"font\":{\"color\":\"#000000\"},\"showarrow\":false,\"text\":\"0.87\",\"x\":\"fans\",\"xref\":\"x\",\"y\":\"num_responses\",\"yref\":\"y\"},{\"font\":{\"color\":\"#000000\"},\"showarrow\":false,\"text\":\"1.0\",\"x\":\"num_responses\",\"xref\":\"x\",\"y\":\"num_responses\",\"yref\":\"y\"},{\"font\":{\"color\":\"#FFFFFF\"},\"showarrow\":false,\"text\":\"0.1\",\"x\":\"read_ratio\",\"xref\":\"x\",\"y\":\"num_responses\",\"yref\":\"y\"},{\"font\":{\"color\":\"#FFFFFF\"},\"showarrow\":false,\"text\":\"-0.2\",\"x\":\"read_time\",\"xref\":\"x\",\"y\":\"num_responses\",\"yref\":\"y\"},{\"font\":{\"color\":\"#000000\"},\"showarrow\":false,\"text\":\"0.76\",\"x\":\"reads\",\"xref\":\"x\",\"y\":\"num_responses\",\"yref\":\"y\"},{\"font\":{\"color\":\"#FFFFFF\"},\"showarrow\":false,\"text\":\"0.08\",\"x\":\"title_word_count\",\"xref\":\"x\",\"y\":\"num_responses\",\"yref\":\"y\"},{\"font\":{\"color\":\"#000000\"},\"showarrow\":false,\"text\":\"0.71\",\"x\":\"views\",\"xref\":\"x\",\"y\":\"num_responses\",\"yref\":\"y\"},{\"font\":{\"color\":\"#FFFFFF\"},\"showarrow\":false,\"text\":\"-0.21\",\"x\":\"word_count\",\"xref\":\"x\",\"y\":\"num_responses\",\"yref\":\"y\"},{\"font\":{\"color\":\"#000000\"},\"showarrow\":false,\"text\":\"0.8\",\"x\":\"claps_per_word\",\"xref\":\"x\",\"y\":\"num_responses\",\"yref\":\"y\"},{\"font\":{\"color\":\"#FFFFFF\"},\"showarrow\":false,\"text\":\"-0.19\",\"x\":\"editing_days\",\"xref\":\"x\",\"y\":\"num_responses\",\"yref\":\"y\"},{\"font\":{\"color\":\"#000000\"},\"showarrow\":false,\"text\":\"0.15\",\"x\":\"\\u003ctag\\u003eEducation\",\"xref\":\"x\",\"y\":\"num_responses\",\"yref\":\"y\"},{\"font\":{\"color\":\"#000000\"},\"showarrow\":false,\"text\":\"0.32\",\"x\":\"\\u003ctag\\u003eData Science\",\"xref\":\"x\",\"y\":\"num_responses\",\"yref\":\"y\"},{\"font\":{\"color\":\"#000000\"},\"showarrow\":false,\"text\":\"0.52\",\"x\":\"\\u003ctag\\u003eTowards Data Science\",\"xref\":\"x\",\"y\":\"num_responses\",\"yref\":\"y\"},{\"font\":{\"color\":\"#FFFFFF\"},\"showarrow\":false,\"text\":\"0.08\",\"x\":\"\\u003ctag\\u003eMachine Learning\",\"xref\":\"x\",\"y\":\"num_responses\",\"yref\":\"y\"},{\"font\":{\"color\":\"#000000\"},\"showarrow\":false,\"text\":\"0.31\",\"x\":\"\\u003ctag\\u003ePython\",\"xref\":\"x\",\"y\":\"num_responses\",\"yref\":\"y\"},{\"font\":{\"color\":\"#FFFFFF\"},\"showarrow\":false,\"text\":\"0.01\",\"x\":\"claps\",\"xref\":\"x\",\"y\":\"read_ratio\",\"yref\":\"y\"},{\"font\":{\"color\":\"#FFFFFF\"},\"showarrow\":false,\"text\":\"0.11\",\"x\":\"days_since_publication\",\"xref\":\"x\",\"y\":\"read_ratio\",\"yref\":\"y\"},{\"font\":{\"color\":\"#FFFFFF\"},\"showarrow\":false,\"text\":\"0.0\",\"x\":\"fans\",\"xref\":\"x\",\"y\":\"read_ratio\",\"yref\":\"y\"},{\"font\":{\"color\":\"#FFFFFF\"},\"showarrow\":false,\"text\":\"0.1\",\"x\":\"num_responses\",\"xref\":\"x\",\"y\":\"read_ratio\",\"yref\":\"y\"},{\"font\":{\"color\":\"#000000\"},\"showarrow\":false,\"text\":\"1.0\",\"x\":\"read_ratio\",\"xref\":\"x\",\"y\":\"read_ratio\",\"yref\":\"y\"},{\"font\":{\"color\":\"#FFFFFF\"},\"showarrow\":false,\"text\":\"-0.61\",\"x\":\"read_time\",\"xref\":\"x\",\"y\":\"read_ratio\",\"yref\":\"y\"},{\"font\":{\"color\":\"#FFFFFF\"},\"showarrow\":false,\"text\":\"0.05\",\"x\":\"reads\",\"xref\":\"x\",\"y\":\"read_ratio\",\"yref\":\"y\"},{\"font\":{\"color\":\"#FFFFFF\"},\"showarrow\":false,\"text\":\"0.05\",\"x\":\"title_word_count\",\"xref\":\"x\",\"y\":\"read_ratio\",\"yref\":\"y\"},{\"font\":{\"color\":\"#FFFFFF\"},\"showarrow\":false,\"text\":\"-0.11\",\"x\":\"views\",\"xref\":\"x\",\"y\":\"read_ratio\",\"yref\":\"y\"},{\"font\":{\"color\":\"#FFFFFF\"},\"showarrow\":false,\"text\":\"-0.56\",\"x\":\"word_count\",\"xref\":\"x\",\"y\":\"read_ratio\",\"yref\":\"y\"},{\"font\":{\"color\":\"#000000\"},\"showarrow\":false,\"text\":\"0.29\",\"x\":\"claps_per_word\",\"xref\":\"x\",\"y\":\"read_ratio\",\"yref\":\"y\"},{\"font\":{\"color\":\"#FFFFFF\"},\"showarrow\":false,\"text\":\"-0.17\",\"x\":\"editing_days\",\"xref\":\"x\",\"y\":\"read_ratio\",\"yref\":\"y\"},{\"font\":{\"color\":\"#FFFFFF\"},\"showarrow\":false,\"text\":\"0.05\",\"x\":\"\\u003ctag\\u003eEducation\",\"xref\":\"x\",\"y\":\"read_ratio\",\"yref\":\"y\"},{\"font\":{\"color\":\"#FFFFFF\"},\"showarrow\":false,\"text\":\"-0.02\",\"x\":\"\\u003ctag\\u003eData Science\",\"xref\":\"x\",\"y\":\"read_ratio\",\"yref\":\"y\"},{\"font\":{\"color\":\"#FFFFFF\"},\"showarrow\":false,\"text\":\"-0.05\",\"x\":\"\\u003ctag\\u003eTowards Data Science\",\"xref\":\"x\",\"y\":\"read_ratio\",\"yref\":\"y\"},{\"font\":{\"color\":\"#FFFFFF\"},\"showarrow\":false,\"text\":\"-0.28\",\"x\":\"\\u003ctag\\u003eMachine Learning\",\"xref\":\"x\",\"y\":\"read_ratio\",\"yref\":\"y\"},{\"font\":{\"color\":\"#FFFFFF\"},\"showarrow\":false,\"text\":\"-0.18\",\"x\":\"\\u003ctag\\u003ePython\",\"xref\":\"x\",\"y\":\"read_ratio\",\"yref\":\"y\"},{\"font\":{\"color\":\"#FFFFFF\"},\"showarrow\":false,\"text\":\"-0.18\",\"x\":\"claps\",\"xref\":\"x\",\"y\":\"read_time\",\"yref\":\"y\"},{\"font\":{\"color\":\"#000000\"},\"showarrow\":false,\"text\":\"0.14\",\"x\":\"days_since_publication\",\"xref\":\"x\",\"y\":\"read_time\",\"yref\":\"y\"},{\"font\":{\"color\":\"#FFFFFF\"},\"showarrow\":false,\"text\":\"-0.18\",\"x\":\"fans\",\"xref\":\"x\",\"y\":\"read_time\",\"yref\":\"y\"},{\"font\":{\"color\":\"#FFFFFF\"},\"showarrow\":false,\"text\":\"-0.2\",\"x\":\"num_responses\",\"xref\":\"x\",\"y\":\"read_time\",\"yref\":\"y\"},{\"font\":{\"color\":\"#FFFFFF\"},\"showarrow\":false,\"text\":\"-0.61\",\"x\":\"read_ratio\",\"xref\":\"x\",\"y\":\"read_time\",\"yref\":\"y\"},{\"font\":{\"color\":\"#000000\"},\"showarrow\":false,\"text\":\"1.0\",\"x\":\"read_time\",\"xref\":\"x\",\"y\":\"read_time\",\"yref\":\"y\"},{\"font\":{\"color\":\"#FFFFFF\"},\"showarrow\":false,\"text\":\"-0.15\",\"x\":\"reads\",\"xref\":\"x\",\"y\":\"read_time\",\"yref\":\"y\"},{\"font\":{\"color\":\"#FFFFFF\"},\"showarrow\":false,\"text\":\"-0.15\",\"x\":\"title_word_count\",\"xref\":\"x\",\"y\":\"read_time\",\"yref\":\"y\"},{\"font\":{\"color\":\"#FFFFFF\"},\"showarrow\":false,\"text\":\"-0.07\",\"x\":\"views\",\"xref\":\"x\",\"y\":\"read_time\",\"yref\":\"y\"},{\"font\":{\"color\":\"#000000\"},\"showarrow\":false,\"text\":\"0.96\",\"x\":\"word_count\",\"xref\":\"x\",\"y\":\"read_time\",\"yref\":\"y\"},{\"font\":{\"color\":\"#FFFFFF\"},\"showarrow\":false,\"text\":\"-0.25\",\"x\":\"claps_per_word\",\"xref\":\"x\",\"y\":\"read_time\",\"yref\":\"y\"},{\"font\":{\"color\":\"#000000\"},\"showarrow\":false,\"text\":\"0.45\",\"x\":\"editing_days\",\"xref\":\"x\",\"y\":\"read_time\",\"yref\":\"y\"},{\"font\":{\"color\":\"#FFFFFF\"},\"showarrow\":false,\"text\":\"-0.28\",\"x\":\"\\u003ctag\\u003eEducation\",\"xref\":\"x\",\"y\":\"read_time\",\"yref\":\"y\"},{\"font\":{\"color\":\"#FFFFFF\"},\"showarrow\":false,\"text\":\"-0.08\",\"x\":\"\\u003ctag\\u003eData Science\",\"xref\":\"x\",\"y\":\"read_time\",\"yref\":\"y\"},{\"font\":{\"color\":\"#FFFFFF\"},\"showarrow\":false,\"text\":\"-0.22\",\"x\":\"\\u003ctag\\u003eTowards Data Science\",\"xref\":\"x\",\"y\":\"read_time\",\"yref\":\"y\"},{\"font\":{\"color\":\"#000000\"},\"showarrow\":false,\"text\":\"0.21\",\"x\":\"\\u003ctag\\u003eMachine Learning\",\"xref\":\"x\",\"y\":\"read_time\",\"yref\":\"y\"},{\"font\":{\"color\":\"#FFFFFF\"},\"showarrow\":false,\"text\":\"0.09\",\"x\":\"\\u003ctag\\u003ePython\",\"xref\":\"x\",\"y\":\"read_time\",\"yref\":\"y\"},{\"font\":{\"color\":\"#000000\"},\"showarrow\":false,\"text\":\"0.76\",\"x\":\"claps\",\"xref\":\"x\",\"y\":\"reads\",\"yref\":\"y\"},{\"font\":{\"color\":\"#000000\"},\"showarrow\":false,\"text\":\"0.14\",\"x\":\"days_since_publication\",\"xref\":\"x\",\"y\":\"reads\",\"yref\":\"y\"},{\"font\":{\"color\":\"#000000\"},\"showarrow\":false,\"text\":\"0.78\",\"x\":\"fans\",\"xref\":\"x\",\"y\":\"reads\",\"yref\":\"y\"},{\"font\":{\"color\":\"#000000\"},\"showarrow\":false,\"text\":\"0.76\",\"x\":\"num_responses\",\"xref\":\"x\",\"y\":\"reads\",\"yref\":\"y\"},{\"font\":{\"color\":\"#FFFFFF\"},\"showarrow\":false,\"text\":\"0.05\",\"x\":\"read_ratio\",\"xref\":\"x\",\"y\":\"reads\",\"yref\":\"y\"},{\"font\":{\"color\":\"#FFFFFF\"},\"showarrow\":false,\"text\":\"-0.15\",\"x\":\"read_time\",\"xref\":\"x\",\"y\":\"reads\",\"yref\":\"y\"},{\"font\":{\"color\":\"#000000\"},\"showarrow\":false,\"text\":\"1.0\",\"x\":\"reads\",\"xref\":\"x\",\"y\":\"reads\",\"yref\":\"y\"},{\"font\":{\"color\":\"#FFFFFF\"},\"showarrow\":false,\"text\":\"0.05\",\"x\":\"title_word_count\",\"xref\":\"x\",\"y\":\"reads\",\"yref\":\"y\"},{\"font\":{\"color\":\"#000000\"},\"showarrow\":false,\"text\":\"0.94\",\"x\":\"views\",\"xref\":\"x\",\"y\":\"reads\",\"yref\":\"y\"},{\"font\":{\"color\":\"#FFFFFF\"},\"showarrow\":false,\"text\":\"-0.17\",\"x\":\"word_count\",\"xref\":\"x\",\"y\":\"reads\",\"yref\":\"y\"},{\"font\":{\"color\":\"#000000\"},\"showarrow\":false,\"text\":\"0.56\",\"x\":\"claps_per_word\",\"xref\":\"x\",\"y\":\"reads\",\"yref\":\"y\"},{\"font\":{\"color\":\"#FFFFFF\"},\"showarrow\":false,\"text\":\"-0.17\",\"x\":\"editing_days\",\"xref\":\"x\",\"y\":\"reads\",\"yref\":\"y\"},{\"font\":{\"color\":\"#FFFFFF\"},\"showarrow\":false,\"text\":\"-0.06\",\"x\":\"\\u003ctag\\u003eEducation\",\"xref\":\"x\",\"y\":\"reads\",\"yref\":\"y\"},{\"font\":{\"color\":\"#000000\"},\"showarrow\":false,\"text\":\"0.34\",\"x\":\"\\u003ctag\\u003eData Science\",\"xref\":\"x\",\"y\":\"reads\",\"yref\":\"y\"},{\"font\":{\"color\":\"#000000\"},\"showarrow\":false,\"text\":\"0.36\",\"x\":\"\\u003ctag\\u003eTowards Data Science\",\"xref\":\"x\",\"y\":\"reads\",\"yref\":\"y\"},{\"font\":{\"color\":\"#000000\"},\"showarrow\":false,\"text\":\"0.2\",\"x\":\"\\u003ctag\\u003eMachine Learning\",\"xref\":\"x\",\"y\":\"reads\",\"yref\":\"y\"},{\"font\":{\"color\":\"#000000\"},\"showarrow\":false,\"text\":\"0.42\",\"x\":\"\\u003ctag\\u003ePython\",\"xref\":\"x\",\"y\":\"reads\",\"yref\":\"y\"},{\"font\":{\"color\":\"#000000\"},\"showarrow\":false,\"text\":\"0.12\",\"x\":\"claps\",\"xref\":\"x\",\"y\":\"title_word_count\",\"yref\":\"y\"},{\"font\":{\"color\":\"#FFFFFF\"},\"showarrow\":false,\"text\":\"-0.19\",\"x\":\"days_since_publication\",\"xref\":\"x\",\"y\":\"title_word_count\",\"yref\":\"y\"},{\"font\":{\"color\":\"#000000\"},\"showarrow\":false,\"text\":\"0.14\",\"x\":\"fans\",\"xref\":\"x\",\"y\":\"title_word_count\",\"yref\":\"y\"},{\"font\":{\"color\":\"#FFFFFF\"},\"showarrow\":false,\"text\":\"0.08\",\"x\":\"num_responses\",\"xref\":\"x\",\"y\":\"title_word_count\",\"yref\":\"y\"},{\"font\":{\"color\":\"#FFFFFF\"},\"showarrow\":false,\"text\":\"0.05\",\"x\":\"read_ratio\",\"xref\":\"x\",\"y\":\"title_word_count\",\"yref\":\"y\"},{\"font\":{\"color\":\"#FFFFFF\"},\"showarrow\":false,\"text\":\"-0.15\",\"x\":\"read_time\",\"xref\":\"x\",\"y\":\"title_word_count\",\"yref\":\"y\"},{\"font\":{\"color\":\"#FFFFFF\"},\"showarrow\":false,\"text\":\"0.05\",\"x\":\"reads\",\"xref\":\"x\",\"y\":\"title_word_count\",\"yref\":\"y\"},{\"font\":{\"color\":\"#000000\"},\"showarrow\":false,\"text\":\"1.0\",\"x\":\"title_word_count\",\"xref\":\"x\",\"y\":\"title_word_count\",\"yref\":\"y\"},{\"font\":{\"color\":\"#FFFFFF\"},\"showarrow\":false,\"text\":\"0.05\",\"x\":\"views\",\"xref\":\"x\",\"y\":\"title_word_count\",\"yref\":\"y\"},{\"font\":{\"color\":\"#FFFFFF\"},\"showarrow\":false,\"text\":\"-0.15\",\"x\":\"word_count\",\"xref\":\"x\",\"y\":\"title_word_count\",\"yref\":\"y\"},{\"font\":{\"color\":\"#FFFFFF\"},\"showarrow\":false,\"text\":\"0.11\",\"x\":\"claps_per_word\",\"xref\":\"x\",\"y\":\"title_word_count\",\"yref\":\"y\"},{\"font\":{\"color\":\"#FFFFFF\"},\"showarrow\":false,\"text\":\"-0.1\",\"x\":\"editing_days\",\"xref\":\"x\",\"y\":\"title_word_count\",\"yref\":\"y\"},{\"font\":{\"color\":\"#000000\"},\"showarrow\":false,\"text\":\"0.28\",\"x\":\"\\u003ctag\\u003eEducation\",\"xref\":\"x\",\"y\":\"title_word_count\",\"yref\":\"y\"},{\"font\":{\"color\":\"#000000\"},\"showarrow\":false,\"text\":\"0.13\",\"x\":\"\\u003ctag\\u003eData Science\",\"xref\":\"x\",\"y\":\"title_word_count\",\"yref\":\"y\"},{\"font\":{\"color\":\"#000000\"},\"showarrow\":false,\"text\":\"0.32\",\"x\":\"\\u003ctag\\u003eTowards Data Science\",\"xref\":\"x\",\"y\":\"title_word_count\",\"yref\":\"y\"},{\"font\":{\"color\":\"#000000\"},\"showarrow\":false,\"text\":\"0.24\",\"x\":\"\\u003ctag\\u003eMachine Learning\",\"xref\":\"x\",\"y\":\"title_word_count\",\"yref\":\"y\"},{\"font\":{\"color\":\"#000000\"},\"showarrow\":false,\"text\":\"0.26\",\"x\":\"\\u003ctag\\u003ePython\",\"xref\":\"x\",\"y\":\"title_word_count\",\"yref\":\"y\"},{\"font\":{\"color\":\"#000000\"},\"showarrow\":false,\"text\":\"0.74\",\"x\":\"claps\",\"xref\":\"x\",\"y\":\"views\",\"yref\":\"y\"},{\"font\":{\"color\":\"#000000\"},\"showarrow\":false,\"text\":\"0.13\",\"x\":\"days_since_publication\",\"xref\":\"x\",\"y\":\"views\",\"yref\":\"y\"},{\"font\":{\"color\":\"#000000\"},\"showarrow\":false,\"text\":\"0.76\",\"x\":\"fans\",\"xref\":\"x\",\"y\":\"views\",\"yref\":\"y\"},{\"font\":{\"color\":\"#000000\"},\"showarrow\":false,\"text\":\"0.71\",\"x\":\"num_responses\",\"xref\":\"x\",\"y\":\"views\",\"yref\":\"y\"},{\"font\":{\"color\":\"#FFFFFF\"},\"showarrow\":false,\"text\":\"-0.11\",\"x\":\"read_ratio\",\"xref\":\"x\",\"y\":\"views\",\"yref\":\"y\"},{\"font\":{\"color\":\"#FFFFFF\"},\"showarrow\":false,\"text\":\"-0.07\",\"x\":\"read_time\",\"xref\":\"x\",\"y\":\"views\",\"yref\":\"y\"},{\"font\":{\"color\":\"#000000\"},\"showarrow\":false,\"text\":\"0.94\",\"x\":\"reads\",\"xref\":\"x\",\"y\":\"views\",\"yref\":\"y\"},{\"font\":{\"color\":\"#FFFFFF\"},\"showarrow\":false,\"text\":\"0.05\",\"x\":\"title_word_count\",\"xref\":\"x\",\"y\":\"views\",\"yref\":\"y\"},{\"font\":{\"color\":\"#000000\"},\"showarrow\":false,\"text\":\"1.0\",\"x\":\"views\",\"xref\":\"x\",\"y\":\"views\",\"yref\":\"y\"},{\"font\":{\"color\":\"#FFFFFF\"},\"showarrow\":false,\"text\":\"-0.1\",\"x\":\"word_count\",\"xref\":\"x\",\"y\":\"views\",\"yref\":\"y\"},{\"font\":{\"color\":\"#000000\"},\"showarrow\":false,\"text\":\"0.4\",\"x\":\"claps_per_word\",\"xref\":\"x\",\"y\":\"views\",\"yref\":\"y\"},{\"font\":{\"color\":\"#FFFFFF\"},\"showarrow\":false,\"text\":\"-0.16\",\"x\":\"editing_days\",\"xref\":\"x\",\"y\":\"views\",\"yref\":\"y\"},{\"font\":{\"color\":\"#FFFFFF\"},\"showarrow\":false,\"text\":\"-0.07\",\"x\":\"\\u003ctag\\u003eEducation\",\"xref\":\"x\",\"y\":\"views\",\"yref\":\"y\"},{\"font\":{\"color\":\"#000000\"},\"showarrow\":false,\"text\":\"0.32\",\"x\":\"\\u003ctag\\u003eData Science\",\"xref\":\"x\",\"y\":\"views\",\"yref\":\"y\"},{\"font\":{\"color\":\"#000000\"},\"showarrow\":false,\"text\":\"0.34\",\"x\":\"\\u003ctag\\u003eTowards Data Science\",\"xref\":\"x\",\"y\":\"views\",\"yref\":\"y\"},{\"font\":{\"color\":\"#000000\"},\"showarrow\":false,\"text\":\"0.28\",\"x\":\"\\u003ctag\\u003eMachine Learning\",\"xref\":\"x\",\"y\":\"views\",\"yref\":\"y\"},{\"font\":{\"color\":\"#000000\"},\"showarrow\":false,\"text\":\"0.45\",\"x\":\"\\u003ctag\\u003ePython\",\"xref\":\"x\",\"y\":\"views\",\"yref\":\"y\"},{\"font\":{\"color\":\"#FFFFFF\"},\"showarrow\":false,\"text\":\"-0.18\",\"x\":\"claps\",\"xref\":\"x\",\"y\":\"word_count\",\"yref\":\"y\"},{\"font\":{\"color\":\"#FFFFFF\"},\"showarrow\":false,\"text\":\"0.1\",\"x\":\"days_since_publication\",\"xref\":\"x\",\"y\":\"word_count\",\"yref\":\"y\"},{\"font\":{\"color\":\"#FFFFFF\"},\"showarrow\":false,\"text\":\"-0.18\",\"x\":\"fans\",\"xref\":\"x\",\"y\":\"word_count\",\"yref\":\"y\"},{\"font\":{\"color\":\"#FFFFFF\"},\"showarrow\":false,\"text\":\"-0.21\",\"x\":\"num_responses\",\"xref\":\"x\",\"y\":\"word_count\",\"yref\":\"y\"},{\"font\":{\"color\":\"#FFFFFF\"},\"showarrow\":false,\"text\":\"-0.56\",\"x\":\"read_ratio\",\"xref\":\"x\",\"y\":\"word_count\",\"yref\":\"y\"},{\"font\":{\"color\":\"#000000\"},\"showarrow\":false,\"text\":\"0.96\",\"x\":\"read_time\",\"xref\":\"x\",\"y\":\"word_count\",\"yref\":\"y\"},{\"font\":{\"color\":\"#FFFFFF\"},\"showarrow\":false,\"text\":\"-0.17\",\"x\":\"reads\",\"xref\":\"x\",\"y\":\"word_count\",\"yref\":\"y\"},{\"font\":{\"color\":\"#FFFFFF\"},\"showarrow\":false,\"text\":\"-0.15\",\"x\":\"title_word_count\",\"xref\":\"x\",\"y\":\"word_count\",\"yref\":\"y\"},{\"font\":{\"color\":\"#FFFFFF\"},\"showarrow\":false,\"text\":\"-0.1\",\"x\":\"views\",\"xref\":\"x\",\"y\":\"word_count\",\"yref\":\"y\"},{\"font\":{\"color\":\"#000000\"},\"showarrow\":false,\"text\":\"1.0\",\"x\":\"word_count\",\"xref\":\"x\",\"y\":\"word_count\",\"yref\":\"y\"},{\"font\":{\"color\":\"#FFFFFF\"},\"showarrow\":false,\"text\":\"-0.25\",\"x\":\"claps_per_word\",\"xref\":\"x\",\"y\":\"word_count\",\"yref\":\"y\"},{\"font\":{\"color\":\"#000000\"},\"showarrow\":false,\"text\":\"0.46\",\"x\":\"editing_days\",\"xref\":\"x\",\"y\":\"word_count\",\"yref\":\"y\"},{\"font\":{\"color\":\"#FFFFFF\"},\"showarrow\":false,\"text\":\"-0.23\",\"x\":\"\\u003ctag\\u003eEducation\",\"xref\":\"x\",\"y\":\"word_count\",\"yref\":\"y\"},{\"font\":{\"color\":\"#FFFFFF\"},\"showarrow\":false,\"text\":\"-0.09\",\"x\":\"\\u003ctag\\u003eData Science\",\"xref\":\"x\",\"y\":\"word_count\",\"yref\":\"y\"},{\"font\":{\"color\":\"#FFFFFF\"},\"showarrow\":false,\"text\":\"-0.21\",\"x\":\"\\u003ctag\\u003eTowards Data Science\",\"xref\":\"x\",\"y\":\"word_count\",\"yref\":\"y\"},{\"font\":{\"color\":\"#000000\"},\"showarrow\":false,\"text\":\"0.19\",\"x\":\"\\u003ctag\\u003eMachine Learning\",\"xref\":\"x\",\"y\":\"word_count\",\"yref\":\"y\"},{\"font\":{\"color\":\"#FFFFFF\"},\"showarrow\":false,\"text\":\"0.02\",\"x\":\"\\u003ctag\\u003ePython\",\"xref\":\"x\",\"y\":\"word_count\",\"yref\":\"y\"},{\"font\":{\"color\":\"#000000\"},\"showarrow\":false,\"text\":\"0.78\",\"x\":\"claps\",\"xref\":\"x\",\"y\":\"claps_per_word\",\"yref\":\"y\"},{\"font\":{\"color\":\"#FFFFFF\"},\"showarrow\":false,\"text\":\"-0.02\",\"x\":\"days_since_publication\",\"xref\":\"x\",\"y\":\"claps_per_word\",\"yref\":\"y\"},{\"font\":{\"color\":\"#000000\"},\"showarrow\":false,\"text\":\"0.75\",\"x\":\"fans\",\"xref\":\"x\",\"y\":\"claps_per_word\",\"yref\":\"y\"},{\"font\":{\"color\":\"#000000\"},\"showarrow\":false,\"text\":\"0.8\",\"x\":\"num_responses\",\"xref\":\"x\",\"y\":\"claps_per_word\",\"yref\":\"y\"},{\"font\":{\"color\":\"#000000\"},\"showarrow\":false,\"text\":\"0.29\",\"x\":\"read_ratio\",\"xref\":\"x\",\"y\":\"claps_per_word\",\"yref\":\"y\"},{\"font\":{\"color\":\"#FFFFFF\"},\"showarrow\":false,\"text\":\"-0.25\",\"x\":\"read_time\",\"xref\":\"x\",\"y\":\"claps_per_word\",\"yref\":\"y\"},{\"font\":{\"color\":\"#000000\"},\"showarrow\":false,\"text\":\"0.56\",\"x\":\"reads\",\"xref\":\"x\",\"y\":\"claps_per_word\",\"yref\":\"y\"},{\"font\":{\"color\":\"#FFFFFF\"},\"showarrow\":false,\"text\":\"0.11\",\"x\":\"title_word_count\",\"xref\":\"x\",\"y\":\"claps_per_word\",\"yref\":\"y\"},{\"font\":{\"color\":\"#000000\"},\"showarrow\":false,\"text\":\"0.4\",\"x\":\"views\",\"xref\":\"x\",\"y\":\"claps_per_word\",\"yref\":\"y\"},{\"font\":{\"color\":\"#FFFFFF\"},\"showarrow\":false,\"text\":\"-0.25\",\"x\":\"word_count\",\"xref\":\"x\",\"y\":\"claps_per_word\",\"yref\":\"y\"},{\"font\":{\"color\":\"#000000\"},\"showarrow\":false,\"text\":\"1.0\",\"x\":\"claps_per_word\",\"xref\":\"x\",\"y\":\"claps_per_word\",\"yref\":\"y\"},{\"font\":{\"color\":\"#FFFFFF\"},\"showarrow\":false,\"text\":\"-0.13\",\"x\":\"editing_days\",\"xref\":\"x\",\"y\":\"claps_per_word\",\"yref\":\"y\"},{\"font\":{\"color\":\"#000000\"},\"showarrow\":false,\"text\":\"0.2\",\"x\":\"\\u003ctag\\u003eEducation\",\"xref\":\"x\",\"y\":\"claps_per_word\",\"yref\":\"y\"},{\"font\":{\"color\":\"#000000\"},\"showarrow\":false,\"text\":\"0.27\",\"x\":\"\\u003ctag\\u003eData Science\",\"xref\":\"x\",\"y\":\"claps_per_word\",\"yref\":\"y\"},{\"font\":{\"color\":\"#000000\"},\"showarrow\":false,\"text\":\"0.38\",\"x\":\"\\u003ctag\\u003eTowards Data Science\",\"xref\":\"x\",\"y\":\"claps_per_word\",\"yref\":\"y\"},{\"font\":{\"color\":\"#FFFFFF\"},\"showarrow\":false,\"text\":\"-0.03\",\"x\":\"\\u003ctag\\u003eMachine Learning\",\"xref\":\"x\",\"y\":\"claps_per_word\",\"yref\":\"y\"},{\"font\":{\"color\":\"#000000\"},\"showarrow\":false,\"text\":\"0.24\",\"x\":\"\\u003ctag\\u003ePython\",\"xref\":\"x\",\"y\":\"claps_per_word\",\"yref\":\"y\"},{\"font\":{\"color\":\"#FFFFFF\"},\"showarrow\":false,\"text\":\"-0.17\",\"x\":\"claps\",\"xref\":\"x\",\"y\":\"editing_days\",\"yref\":\"y\"},{\"font\":{\"color\":\"#FFFFFF\"},\"showarrow\":false,\"text\":\"-0.29\",\"x\":\"days_since_publication\",\"xref\":\"x\",\"y\":\"editing_days\",\"yref\":\"y\"},{\"font\":{\"color\":\"#FFFFFF\"},\"showarrow\":false,\"text\":\"-0.17\",\"x\":\"fans\",\"xref\":\"x\",\"y\":\"editing_days\",\"yref\":\"y\"},{\"font\":{\"color\":\"#FFFFFF\"},\"showarrow\":false,\"text\":\"-0.19\",\"x\":\"num_responses\",\"xref\":\"x\",\"y\":\"editing_days\",\"yref\":\"y\"},{\"font\":{\"color\":\"#FFFFFF\"},\"showarrow\":false,\"text\":\"-0.17\",\"x\":\"read_ratio\",\"xref\":\"x\",\"y\":\"editing_days\",\"yref\":\"y\"},{\"font\":{\"color\":\"#000000\"},\"showarrow\":false,\"text\":\"0.45\",\"x\":\"read_time\",\"xref\":\"x\",\"y\":\"editing_days\",\"yref\":\"y\"},{\"font\":{\"color\":\"#FFFFFF\"},\"showarrow\":false,\"text\":\"-0.17\",\"x\":\"reads\",\"xref\":\"x\",\"y\":\"editing_days\",\"yref\":\"y\"},{\"font\":{\"color\":\"#FFFFFF\"},\"showarrow\":false,\"text\":\"-0.1\",\"x\":\"title_word_count\",\"xref\":\"x\",\"y\":\"editing_days\",\"yref\":\"y\"},{\"font\":{\"color\":\"#FFFFFF\"},\"showarrow\":false,\"text\":\"-0.16\",\"x\":\"views\",\"xref\":\"x\",\"y\":\"editing_days\",\"yref\":\"y\"},{\"font\":{\"color\":\"#000000\"},\"showarrow\":false,\"text\":\"0.46\",\"x\":\"word_count\",\"xref\":\"x\",\"y\":\"editing_days\",\"yref\":\"y\"},{\"font\":{\"color\":\"#FFFFFF\"},\"showarrow\":false,\"text\":\"-0.13\",\"x\":\"claps_per_word\",\"xref\":\"x\",\"y\":\"editing_days\",\"yref\":\"y\"},{\"font\":{\"color\":\"#000000\"},\"showarrow\":false,\"text\":\"1.0\",\"x\":\"editing_days\",\"xref\":\"x\",\"y\":\"editing_days\",\"yref\":\"y\"},{\"font\":{\"color\":\"#000000\"},\"showarrow\":false,\"text\":\"0.16\",\"x\":\"\\u003ctag\\u003eEducation\",\"xref\":\"x\",\"y\":\"editing_days\",\"yref\":\"y\"},{\"font\":{\"color\":\"#000000\"},\"showarrow\":false,\"text\":\"0.14\",\"x\":\"\\u003ctag\\u003eData Science\",\"xref\":\"x\",\"y\":\"editing_days\",\"yref\":\"y\"},{\"font\":{\"color\":\"#FFFFFF\"},\"showarrow\":false,\"text\":\"-0.19\",\"x\":\"\\u003ctag\\u003eTowards Data Science\",\"xref\":\"x\",\"y\":\"editing_days\",\"yref\":\"y\"},{\"font\":{\"color\":\"#000000\"},\"showarrow\":false,\"text\":\"0.26\",\"x\":\"\\u003ctag\\u003eMachine Learning\",\"xref\":\"x\",\"y\":\"editing_days\",\"yref\":\"y\"},{\"font\":{\"color\":\"#FFFFFF\"},\"showarrow\":false,\"text\":\"-0.16\",\"x\":\"\\u003ctag\\u003ePython\",\"xref\":\"x\",\"y\":\"editing_days\",\"yref\":\"y\"},{\"font\":{\"color\":\"#000000\"},\"showarrow\":false,\"text\":\"0.21\",\"x\":\"claps\",\"xref\":\"x\",\"y\":\"\\u003ctag\\u003eEducation\",\"yref\":\"y\"},{\"font\":{\"color\":\"#FFFFFF\"},\"showarrow\":false,\"text\":\"-0.76\",\"x\":\"days_since_publication\",\"xref\":\"x\",\"y\":\"\\u003ctag\\u003eEducation\",\"yref\":\"y\"},{\"font\":{\"color\":\"#000000\"},\"showarrow\":false,\"text\":\"0.21\",\"x\":\"fans\",\"xref\":\"x\",\"y\":\"\\u003ctag\\u003eEducation\",\"yref\":\"y\"},{\"font\":{\"color\":\"#000000\"},\"showarrow\":false,\"text\":\"0.15\",\"x\":\"num_responses\",\"xref\":\"x\",\"y\":\"\\u003ctag\\u003eEducation\",\"yref\":\"y\"},{\"font\":{\"color\":\"#FFFFFF\"},\"showarrow\":false,\"text\":\"0.05\",\"x\":\"read_ratio\",\"xref\":\"x\",\"y\":\"\\u003ctag\\u003eEducation\",\"yref\":\"y\"},{\"font\":{\"color\":\"#FFFFFF\"},\"showarrow\":false,\"text\":\"-0.28\",\"x\":\"read_time\",\"xref\":\"x\",\"y\":\"\\u003ctag\\u003eEducation\",\"yref\":\"y\"},{\"font\":{\"color\":\"#FFFFFF\"},\"showarrow\":false,\"text\":\"-0.06\",\"x\":\"reads\",\"xref\":\"x\",\"y\":\"\\u003ctag\\u003eEducation\",\"yref\":\"y\"},{\"font\":{\"color\":\"#000000\"},\"showarrow\":false,\"text\":\"0.28\",\"x\":\"title_word_count\",\"xref\":\"x\",\"y\":\"\\u003ctag\\u003eEducation\",\"yref\":\"y\"},{\"font\":{\"color\":\"#FFFFFF\"},\"showarrow\":false,\"text\":\"-0.07\",\"x\":\"views\",\"xref\":\"x\",\"y\":\"\\u003ctag\\u003eEducation\",\"yref\":\"y\"},{\"font\":{\"color\":\"#FFFFFF\"},\"showarrow\":false,\"text\":\"-0.23\",\"x\":\"word_count\",\"xref\":\"x\",\"y\":\"\\u003ctag\\u003eEducation\",\"yref\":\"y\"},{\"font\":{\"color\":\"#000000\"},\"showarrow\":false,\"text\":\"0.2\",\"x\":\"claps_per_word\",\"xref\":\"x\",\"y\":\"\\u003ctag\\u003eEducation\",\"yref\":\"y\"},{\"font\":{\"color\":\"#000000\"},\"showarrow\":false,\"text\":\"0.16\",\"x\":\"editing_days\",\"xref\":\"x\",\"y\":\"\\u003ctag\\u003eEducation\",\"yref\":\"y\"},{\"font\":{\"color\":\"#000000\"},\"showarrow\":false,\"text\":\"1.0\",\"x\":\"\\u003ctag\\u003eEducation\",\"xref\":\"x\",\"y\":\"\\u003ctag\\u003eEducation\",\"yref\":\"y\"},{\"font\":{\"color\":\"#000000\"},\"showarrow\":false,\"text\":\"0.31\",\"x\":\"\\u003ctag\\u003eData Science\",\"xref\":\"x\",\"y\":\"\\u003ctag\\u003eEducation\",\"yref\":\"y\"},{\"font\":{\"color\":\"#000000\"},\"showarrow\":false,\"text\":\"0.37\",\"x\":\"\\u003ctag\\u003eTowards Data Science\",\"xref\":\"x\",\"y\":\"\\u003ctag\\u003eEducation\",\"yref\":\"y\"},{\"font\":{\"color\":\"#FFFFFF\"},\"showarrow\":false,\"text\":\"0.1\",\"x\":\"\\u003ctag\\u003eMachine Learning\",\"xref\":\"x\",\"y\":\"\\u003ctag\\u003eEducation\",\"yref\":\"y\"},{\"font\":{\"color\":\"#FFFFFF\"},\"showarrow\":false,\"text\":\"-0.1\",\"x\":\"\\u003ctag\\u003ePython\",\"xref\":\"x\",\"y\":\"\\u003ctag\\u003eEducation\",\"yref\":\"y\"},{\"font\":{\"color\":\"#000000\"},\"showarrow\":false,\"text\":\"0.35\",\"x\":\"claps\",\"xref\":\"x\",\"y\":\"\\u003ctag\\u003eData Science\",\"yref\":\"y\"},{\"font\":{\"color\":\"#FFFFFF\"},\"showarrow\":false,\"text\":\"-0.3\",\"x\":\"days_since_publication\",\"xref\":\"x\",\"y\":\"\\u003ctag\\u003eData Science\",\"yref\":\"y\"},{\"font\":{\"color\":\"#000000\"},\"showarrow\":false,\"text\":\"0.36\",\"x\":\"fans\",\"xref\":\"x\",\"y\":\"\\u003ctag\\u003eData Science\",\"yref\":\"y\"},{\"font\":{\"color\":\"#000000\"},\"showarrow\":false,\"text\":\"0.32\",\"x\":\"num_responses\",\"xref\":\"x\",\"y\":\"\\u003ctag\\u003eData Science\",\"yref\":\"y\"},{\"font\":{\"color\":\"#FFFFFF\"},\"showarrow\":false,\"text\":\"-0.02\",\"x\":\"read_ratio\",\"xref\":\"x\",\"y\":\"\\u003ctag\\u003eData Science\",\"yref\":\"y\"},{\"font\":{\"color\":\"#FFFFFF\"},\"showarrow\":false,\"text\":\"-0.08\",\"x\":\"read_time\",\"xref\":\"x\",\"y\":\"\\u003ctag\\u003eData Science\",\"yref\":\"y\"},{\"font\":{\"color\":\"#000000\"},\"showarrow\":false,\"text\":\"0.34\",\"x\":\"reads\",\"xref\":\"x\",\"y\":\"\\u003ctag\\u003eData Science\",\"yref\":\"y\"},{\"font\":{\"color\":\"#000000\"},\"showarrow\":false,\"text\":\"0.13\",\"x\":\"title_word_count\",\"xref\":\"x\",\"y\":\"\\u003ctag\\u003eData Science\",\"yref\":\"y\"},{\"font\":{\"color\":\"#000000\"},\"showarrow\":false,\"text\":\"0.32\",\"x\":\"views\",\"xref\":\"x\",\"y\":\"\\u003ctag\\u003eData Science\",\"yref\":\"y\"},{\"font\":{\"color\":\"#FFFFFF\"},\"showarrow\":false,\"text\":\"-0.09\",\"x\":\"word_count\",\"xref\":\"x\",\"y\":\"\\u003ctag\\u003eData Science\",\"yref\":\"y\"},{\"font\":{\"color\":\"#000000\"},\"showarrow\":false,\"text\":\"0.27\",\"x\":\"claps_per_word\",\"xref\":\"x\",\"y\":\"\\u003ctag\\u003eData Science\",\"yref\":\"y\"},{\"font\":{\"color\":\"#000000\"},\"showarrow\":false,\"text\":\"0.14\",\"x\":\"editing_days\",\"xref\":\"x\",\"y\":\"\\u003ctag\\u003eData Science\",\"yref\":\"y\"},{\"font\":{\"color\":\"#000000\"},\"showarrow\":false,\"text\":\"0.31\",\"x\":\"\\u003ctag\\u003eEducation\",\"xref\":\"x\",\"y\":\"\\u003ctag\\u003eData Science\",\"yref\":\"y\"},{\"font\":{\"color\":\"#000000\"},\"showarrow\":false,\"text\":\"1.0\",\"x\":\"\\u003ctag\\u003eData Science\",\"xref\":\"x\",\"y\":\"\\u003ctag\\u003eData Science\",\"yref\":\"y\"},{\"font\":{\"color\":\"#000000\"},\"showarrow\":false,\"text\":\"0.36\",\"x\":\"\\u003ctag\\u003eTowards Data Science\",\"xref\":\"x\",\"y\":\"\\u003ctag\\u003eData Science\",\"yref\":\"y\"},{\"font\":{\"color\":\"#000000\"},\"showarrow\":false,\"text\":\"0.31\",\"x\":\"\\u003ctag\\u003eMachine Learning\",\"xref\":\"x\",\"y\":\"\\u003ctag\\u003eData Science\",\"yref\":\"y\"},{\"font\":{\"color\":\"#FFFFFF\"},\"showarrow\":false,\"text\":\"0.08\",\"x\":\"\\u003ctag\\u003ePython\",\"xref\":\"x\",\"y\":\"\\u003ctag\\u003eData Science\",\"yref\":\"y\"},{\"font\":{\"color\":\"#000000\"},\"showarrow\":false,\"text\":\"0.56\",\"x\":\"claps\",\"xref\":\"x\",\"y\":\"\\u003ctag\\u003eTowards Data Science\",\"yref\":\"y\"},{\"font\":{\"color\":\"#FFFFFF\"},\"showarrow\":false,\"text\":\"-0.23\",\"x\":\"days_since_publication\",\"xref\":\"x\",\"y\":\"\\u003ctag\\u003eTowards Data Science\",\"yref\":\"y\"},{\"font\":{\"color\":\"#000000\"},\"showarrow\":false,\"text\":\"0.57\",\"x\":\"fans\",\"xref\":\"x\",\"y\":\"\\u003ctag\\u003eTowards Data Science\",\"yref\":\"y\"},{\"font\":{\"color\":\"#000000\"},\"showarrow\":false,\"text\":\"0.52\",\"x\":\"num_responses\",\"xref\":\"x\",\"y\":\"\\u003ctag\\u003eTowards Data Science\",\"yref\":\"y\"},{\"font\":{\"color\":\"#FFFFFF\"},\"showarrow\":false,\"text\":\"-0.05\",\"x\":\"read_ratio\",\"xref\":\"x\",\"y\":\"\\u003ctag\\u003eTowards Data Science\",\"yref\":\"y\"},{\"font\":{\"color\":\"#FFFFFF\"},\"showarrow\":false,\"text\":\"-0.22\",\"x\":\"read_time\",\"xref\":\"x\",\"y\":\"\\u003ctag\\u003eTowards Data Science\",\"yref\":\"y\"},{\"font\":{\"color\":\"#000000\"},\"showarrow\":false,\"text\":\"0.36\",\"x\":\"reads\",\"xref\":\"x\",\"y\":\"\\u003ctag\\u003eTowards Data Science\",\"yref\":\"y\"},{\"font\":{\"color\":\"#000000\"},\"showarrow\":false,\"text\":\"0.32\",\"x\":\"title_word_count\",\"xref\":\"x\",\"y\":\"\\u003ctag\\u003eTowards Data Science\",\"yref\":\"y\"},{\"font\":{\"color\":\"#000000\"},\"showarrow\":false,\"text\":\"0.34\",\"x\":\"views\",\"xref\":\"x\",\"y\":\"\\u003ctag\\u003eTowards Data Science\",\"yref\":\"y\"},{\"font\":{\"color\":\"#FFFFFF\"},\"showarrow\":false,\"text\":\"-0.21\",\"x\":\"word_count\",\"xref\":\"x\",\"y\":\"\\u003ctag\\u003eTowards Data Science\",\"yref\":\"y\"},{\"font\":{\"color\":\"#000000\"},\"showarrow\":false,\"text\":\"0.38\",\"x\":\"claps_per_word\",\"xref\":\"x\",\"y\":\"\\u003ctag\\u003eTowards Data Science\",\"yref\":\"y\"},{\"font\":{\"color\":\"#FFFFFF\"},\"showarrow\":false,\"text\":\"-0.19\",\"x\":\"editing_days\",\"xref\":\"x\",\"y\":\"\\u003ctag\\u003eTowards Data Science\",\"yref\":\"y\"},{\"font\":{\"color\":\"#000000\"},\"showarrow\":false,\"text\":\"0.37\",\"x\":\"\\u003ctag\\u003eEducation\",\"xref\":\"x\",\"y\":\"\\u003ctag\\u003eTowards Data Science\",\"yref\":\"y\"},{\"font\":{\"color\":\"#000000\"},\"showarrow\":false,\"text\":\"0.36\",\"x\":\"\\u003ctag\\u003eData Science\",\"xref\":\"x\",\"y\":\"\\u003ctag\\u003eTowards Data Science\",\"yref\":\"y\"},{\"font\":{\"color\":\"#000000\"},\"showarrow\":false,\"text\":\"1.0\",\"x\":\"\\u003ctag\\u003eTowards Data Science\",\"xref\":\"x\",\"y\":\"\\u003ctag\\u003eTowards Data Science\",\"yref\":\"y\"},{\"font\":{\"color\":\"#000000\"},\"showarrow\":false,\"text\":\"0.15\",\"x\":\"\\u003ctag\\u003eMachine Learning\",\"xref\":\"x\",\"y\":\"\\u003ctag\\u003eTowards Data Science\",\"yref\":\"y\"},{\"font\":{\"color\":\"#000000\"},\"showarrow\":false,\"text\":\"0.25\",\"x\":\"\\u003ctag\\u003ePython\",\"xref\":\"x\",\"y\":\"\\u003ctag\\u003eTowards Data Science\",\"yref\":\"y\"},{\"font\":{\"color\":\"#000000\"},\"showarrow\":false,\"text\":\"0.15\",\"x\":\"claps\",\"xref\":\"x\",\"y\":\"\\u003ctag\\u003eMachine Learning\",\"yref\":\"y\"},{\"font\":{\"color\":\"#FFFFFF\"},\"showarrow\":false,\"text\":\"-0.05\",\"x\":\"days_since_publication\",\"xref\":\"x\",\"y\":\"\\u003ctag\\u003eMachine Learning\",\"yref\":\"y\"},{\"font\":{\"color\":\"#000000\"},\"showarrow\":false,\"text\":\"0.17\",\"x\":\"fans\",\"xref\":\"x\",\"y\":\"\\u003ctag\\u003eMachine Learning\",\"yref\":\"y\"},{\"font\":{\"color\":\"#FFFFFF\"},\"showarrow\":false,\"text\":\"0.08\",\"x\":\"num_responses\",\"xref\":\"x\",\"y\":\"\\u003ctag\\u003eMachine Learning\",\"yref\":\"y\"},{\"font\":{\"color\":\"#FFFFFF\"},\"showarrow\":false,\"text\":\"-0.28\",\"x\":\"read_ratio\",\"xref\":\"x\",\"y\":\"\\u003ctag\\u003eMachine Learning\",\"yref\":\"y\"},{\"font\":{\"color\":\"#000000\"},\"showarrow\":false,\"text\":\"0.21\",\"x\":\"read_time\",\"xref\":\"x\",\"y\":\"\\u003ctag\\u003eMachine Learning\",\"yref\":\"y\"},{\"font\":{\"color\":\"#000000\"},\"showarrow\":false,\"text\":\"0.2\",\"x\":\"reads\",\"xref\":\"x\",\"y\":\"\\u003ctag\\u003eMachine Learning\",\"yref\":\"y\"},{\"font\":{\"color\":\"#000000\"},\"showarrow\":false,\"text\":\"0.24\",\"x\":\"title_word_count\",\"xref\":\"x\",\"y\":\"\\u003ctag\\u003eMachine Learning\",\"yref\":\"y\"},{\"font\":{\"color\":\"#000000\"},\"showarrow\":false,\"text\":\"0.28\",\"x\":\"views\",\"xref\":\"x\",\"y\":\"\\u003ctag\\u003eMachine Learning\",\"yref\":\"y\"},{\"font\":{\"color\":\"#000000\"},\"showarrow\":false,\"text\":\"0.19\",\"x\":\"word_count\",\"xref\":\"x\",\"y\":\"\\u003ctag\\u003eMachine Learning\",\"yref\":\"y\"},{\"font\":{\"color\":\"#FFFFFF\"},\"showarrow\":false,\"text\":\"-0.03\",\"x\":\"claps_per_word\",\"xref\":\"x\",\"y\":\"\\u003ctag\\u003eMachine Learning\",\"yref\":\"y\"},{\"font\":{\"color\":\"#000000\"},\"showarrow\":false,\"text\":\"0.26\",\"x\":\"editing_days\",\"xref\":\"x\",\"y\":\"\\u003ctag\\u003eMachine Learning\",\"yref\":\"y\"},{\"font\":{\"color\":\"#FFFFFF\"},\"showarrow\":false,\"text\":\"0.1\",\"x\":\"\\u003ctag\\u003eEducation\",\"xref\":\"x\",\"y\":\"\\u003ctag\\u003eMachine Learning\",\"yref\":\"y\"},{\"font\":{\"color\":\"#000000\"},\"showarrow\":false,\"text\":\"0.31\",\"x\":\"\\u003ctag\\u003eData Science\",\"xref\":\"x\",\"y\":\"\\u003ctag\\u003eMachine Learning\",\"yref\":\"y\"},{\"font\":{\"color\":\"#000000\"},\"showarrow\":false,\"text\":\"0.15\",\"x\":\"\\u003ctag\\u003eTowards Data Science\",\"xref\":\"x\",\"y\":\"\\u003ctag\\u003eMachine Learning\",\"yref\":\"y\"},{\"font\":{\"color\":\"#000000\"},\"showarrow\":false,\"text\":\"1.0\",\"x\":\"\\u003ctag\\u003eMachine Learning\",\"xref\":\"x\",\"y\":\"\\u003ctag\\u003eMachine Learning\",\"yref\":\"y\"},{\"font\":{\"color\":\"#000000\"},\"showarrow\":false,\"text\":\"0.26\",\"x\":\"\\u003ctag\\u003ePython\",\"xref\":\"x\",\"y\":\"\\u003ctag\\u003eMachine Learning\",\"yref\":\"y\"},{\"font\":{\"color\":\"#000000\"},\"showarrow\":false,\"text\":\"0.31\",\"x\":\"claps\",\"xref\":\"x\",\"y\":\"\\u003ctag\\u003ePython\",\"yref\":\"y\"},{\"font\":{\"color\":\"#000000\"},\"showarrow\":false,\"text\":\"0.13\",\"x\":\"days_since_publication\",\"xref\":\"x\",\"y\":\"\\u003ctag\\u003ePython\",\"yref\":\"y\"},{\"font\":{\"color\":\"#000000\"},\"showarrow\":false,\"text\":\"0.32\",\"x\":\"fans\",\"xref\":\"x\",\"y\":\"\\u003ctag\\u003ePython\",\"yref\":\"y\"},{\"font\":{\"color\":\"#000000\"},\"showarrow\":false,\"text\":\"0.31\",\"x\":\"num_responses\",\"xref\":\"x\",\"y\":\"\\u003ctag\\u003ePython\",\"yref\":\"y\"},{\"font\":{\"color\":\"#FFFFFF\"},\"showarrow\":false,\"text\":\"-0.18\",\"x\":\"read_ratio\",\"xref\":\"x\",\"y\":\"\\u003ctag\\u003ePython\",\"yref\":\"y\"},{\"font\":{\"color\":\"#FFFFFF\"},\"showarrow\":false,\"text\":\"0.09\",\"x\":\"read_time\",\"xref\":\"x\",\"y\":\"\\u003ctag\\u003ePython\",\"yref\":\"y\"},{\"font\":{\"color\":\"#000000\"},\"showarrow\":false,\"text\":\"0.42\",\"x\":\"reads\",\"xref\":\"x\",\"y\":\"\\u003ctag\\u003ePython\",\"yref\":\"y\"},{\"font\":{\"color\":\"#000000\"},\"showarrow\":false,\"text\":\"0.26\",\"x\":\"title_word_count\",\"xref\":\"x\",\"y\":\"\\u003ctag\\u003ePython\",\"yref\":\"y\"},{\"font\":{\"color\":\"#000000\"},\"showarrow\":false,\"text\":\"0.45\",\"x\":\"views\",\"xref\":\"x\",\"y\":\"\\u003ctag\\u003ePython\",\"yref\":\"y\"},{\"font\":{\"color\":\"#FFFFFF\"},\"showarrow\":false,\"text\":\"0.02\",\"x\":\"word_count\",\"xref\":\"x\",\"y\":\"\\u003ctag\\u003ePython\",\"yref\":\"y\"},{\"font\":{\"color\":\"#000000\"},\"showarrow\":false,\"text\":\"0.24\",\"x\":\"claps_per_word\",\"xref\":\"x\",\"y\":\"\\u003ctag\\u003ePython\",\"yref\":\"y\"},{\"font\":{\"color\":\"#FFFFFF\"},\"showarrow\":false,\"text\":\"-0.16\",\"x\":\"editing_days\",\"xref\":\"x\",\"y\":\"\\u003ctag\\u003ePython\",\"yref\":\"y\"},{\"font\":{\"color\":\"#FFFFFF\"},\"showarrow\":false,\"text\":\"-0.1\",\"x\":\"\\u003ctag\\u003eEducation\",\"xref\":\"x\",\"y\":\"\\u003ctag\\u003ePython\",\"yref\":\"y\"},{\"font\":{\"color\":\"#FFFFFF\"},\"showarrow\":false,\"text\":\"0.08\",\"x\":\"\\u003ctag\\u003eData Science\",\"xref\":\"x\",\"y\":\"\\u003ctag\\u003ePython\",\"yref\":\"y\"},{\"font\":{\"color\":\"#000000\"},\"showarrow\":false,\"text\":\"0.25\",\"x\":\"\\u003ctag\\u003eTowards Data Science\",\"xref\":\"x\",\"y\":\"\\u003ctag\\u003ePython\",\"yref\":\"y\"},{\"font\":{\"color\":\"#000000\"},\"showarrow\":false,\"text\":\"0.26\",\"x\":\"\\u003ctag\\u003eMachine Learning\",\"xref\":\"x\",\"y\":\"\\u003ctag\\u003ePython\",\"yref\":\"y\"},{\"font\":{\"color\":\"#000000\"},\"showarrow\":false,\"text\":\"1.0\",\"x\":\"\\u003ctag\\u003ePython\",\"xref\":\"x\",\"y\":\"\\u003ctag\\u003ePython\",\"yref\":\"y\"}],\"xaxis\":{\"dtick\":1,\"gridcolor\":\"rgb(0, 0, 0)\",\"side\":\"top\",\"ticks\":\"\"},\"yaxis\":{\"dtick\":1,\"ticks\":\"\",\"ticksuffix\":\"  \"},\"template\":{\"data\":{\"histogram2dcontour\":[{\"type\":\"histogram2dcontour\",\"colorbar\":{\"outlinewidth\":0,\"ticks\":\"\"},\"colorscale\":[[0.0,\"#0d0887\"],[0.1111111111111111,\"#46039f\"],[0.2222222222222222,\"#7201a8\"],[0.3333333333333333,\"#9c179e\"],[0.4444444444444444,\"#bd3786\"],[0.5555555555555556,\"#d8576b\"],[0.6666666666666666,\"#ed7953\"],[0.7777777777777778,\"#fb9f3a\"],[0.8888888888888888,\"#fdca26\"],[1.0,\"#f0f921\"]]}],\"choropleth\":[{\"type\":\"choropleth\",\"colorbar\":{\"outlinewidth\":0,\"ticks\":\"\"}}],\"histogram2d\":[{\"type\":\"histogram2d\",\"colorbar\":{\"outlinewidth\":0,\"ticks\":\"\"},\"colorscale\":[[0.0,\"#0d0887\"],[0.1111111111111111,\"#46039f\"],[0.2222222222222222,\"#7201a8\"],[0.3333333333333333,\"#9c179e\"],[0.4444444444444444,\"#bd3786\"],[0.5555555555555556,\"#d8576b\"],[0.6666666666666666,\"#ed7953\"],[0.7777777777777778,\"#fb9f3a\"],[0.8888888888888888,\"#fdca26\"],[1.0,\"#f0f921\"]]}],\"heatmap\":[{\"type\":\"heatmap\",\"colorbar\":{\"outlinewidth\":0,\"ticks\":\"\"},\"colorscale\":[[0.0,\"#0d0887\"],[0.1111111111111111,\"#46039f\"],[0.2222222222222222,\"#7201a8\"],[0.3333333333333333,\"#9c179e\"],[0.4444444444444444,\"#bd3786\"],[0.5555555555555556,\"#d8576b\"],[0.6666666666666666,\"#ed7953\"],[0.7777777777777778,\"#fb9f3a\"],[0.8888888888888888,\"#fdca26\"],[1.0,\"#f0f921\"]]}],\"heatmapgl\":[{\"type\":\"heatmapgl\",\"colorbar\":{\"outlinewidth\":0,\"ticks\":\"\"},\"colorscale\":[[0.0,\"#0d0887\"],[0.1111111111111111,\"#46039f\"],[0.2222222222222222,\"#7201a8\"],[0.3333333333333333,\"#9c179e\"],[0.4444444444444444,\"#bd3786\"],[0.5555555555555556,\"#d8576b\"],[0.6666666666666666,\"#ed7953\"],[0.7777777777777778,\"#fb9f3a\"],[0.8888888888888888,\"#fdca26\"],[1.0,\"#f0f921\"]]}],\"contourcarpet\":[{\"type\":\"contourcarpet\",\"colorbar\":{\"outlinewidth\":0,\"ticks\":\"\"}}],\"contour\":[{\"type\":\"contour\",\"colorbar\":{\"outlinewidth\":0,\"ticks\":\"\"},\"colorscale\":[[0.0,\"#0d0887\"],[0.1111111111111111,\"#46039f\"],[0.2222222222222222,\"#7201a8\"],[0.3333333333333333,\"#9c179e\"],[0.4444444444444444,\"#bd3786\"],[0.5555555555555556,\"#d8576b\"],[0.6666666666666666,\"#ed7953\"],[0.7777777777777778,\"#fb9f3a\"],[0.8888888888888888,\"#fdca26\"],[1.0,\"#f0f921\"]]}],\"surface\":[{\"type\":\"surface\",\"colorbar\":{\"outlinewidth\":0,\"ticks\":\"\"},\"colorscale\":[[0.0,\"#0d0887\"],[0.1111111111111111,\"#46039f\"],[0.2222222222222222,\"#7201a8\"],[0.3333333333333333,\"#9c179e\"],[0.4444444444444444,\"#bd3786\"],[0.5555555555555556,\"#d8576b\"],[0.6666666666666666,\"#ed7953\"],[0.7777777777777778,\"#fb9f3a\"],[0.8888888888888888,\"#fdca26\"],[1.0,\"#f0f921\"]]}],\"mesh3d\":[{\"type\":\"mesh3d\",\"colorbar\":{\"outlinewidth\":0,\"ticks\":\"\"}}],\"scatter\":[{\"fillpattern\":{\"fillmode\":\"overlay\",\"size\":10,\"solidity\":0.2},\"type\":\"scatter\"}],\"parcoords\":[{\"type\":\"parcoords\",\"line\":{\"colorbar\":{\"outlinewidth\":0,\"ticks\":\"\"}}}],\"scatterpolargl\":[{\"type\":\"scatterpolargl\",\"marker\":{\"colorbar\":{\"outlinewidth\":0,\"ticks\":\"\"}}}],\"bar\":[{\"error_x\":{\"color\":\"#2a3f5f\"},\"error_y\":{\"color\":\"#2a3f5f\"},\"marker\":{\"line\":{\"color\":\"#E5ECF6\",\"width\":0.5},\"pattern\":{\"fillmode\":\"overlay\",\"size\":10,\"solidity\":0.2}},\"type\":\"bar\"}],\"scattergeo\":[{\"type\":\"scattergeo\",\"marker\":{\"colorbar\":{\"outlinewidth\":0,\"ticks\":\"\"}}}],\"scatterpolar\":[{\"type\":\"scatterpolar\",\"marker\":{\"colorbar\":{\"outlinewidth\":0,\"ticks\":\"\"}}}],\"histogram\":[{\"marker\":{\"pattern\":{\"fillmode\":\"overlay\",\"size\":10,\"solidity\":0.2}},\"type\":\"histogram\"}],\"scattergl\":[{\"type\":\"scattergl\",\"marker\":{\"colorbar\":{\"outlinewidth\":0,\"ticks\":\"\"}}}],\"scatter3d\":[{\"type\":\"scatter3d\",\"line\":{\"colorbar\":{\"outlinewidth\":0,\"ticks\":\"\"}},\"marker\":{\"colorbar\":{\"outlinewidth\":0,\"ticks\":\"\"}}}],\"scattermapbox\":[{\"type\":\"scattermapbox\",\"marker\":{\"colorbar\":{\"outlinewidth\":0,\"ticks\":\"\"}}}],\"scatterternary\":[{\"type\":\"scatterternary\",\"marker\":{\"colorbar\":{\"outlinewidth\":0,\"ticks\":\"\"}}}],\"scattercarpet\":[{\"type\":\"scattercarpet\",\"marker\":{\"colorbar\":{\"outlinewidth\":0,\"ticks\":\"\"}}}],\"carpet\":[{\"aaxis\":{\"endlinecolor\":\"#2a3f5f\",\"gridcolor\":\"white\",\"linecolor\":\"white\",\"minorgridcolor\":\"white\",\"startlinecolor\":\"#2a3f5f\"},\"baxis\":{\"endlinecolor\":\"#2a3f5f\",\"gridcolor\":\"white\",\"linecolor\":\"white\",\"minorgridcolor\":\"white\",\"startlinecolor\":\"#2a3f5f\"},\"type\":\"carpet\"}],\"table\":[{\"cells\":{\"fill\":{\"color\":\"#EBF0F8\"},\"line\":{\"color\":\"white\"}},\"header\":{\"fill\":{\"color\":\"#C8D4E3\"},\"line\":{\"color\":\"white\"}},\"type\":\"table\"}],\"barpolar\":[{\"marker\":{\"line\":{\"color\":\"#E5ECF6\",\"width\":0.5},\"pattern\":{\"fillmode\":\"overlay\",\"size\":10,\"solidity\":0.2}},\"type\":\"barpolar\"}],\"pie\":[{\"automargin\":true,\"type\":\"pie\"}]},\"layout\":{\"autotypenumbers\":\"strict\",\"colorway\":[\"#636efa\",\"#EF553B\",\"#00cc96\",\"#ab63fa\",\"#FFA15A\",\"#19d3f3\",\"#FF6692\",\"#B6E880\",\"#FF97FF\",\"#FECB52\"],\"font\":{\"color\":\"#2a3f5f\"},\"hovermode\":\"closest\",\"hoverlabel\":{\"align\":\"left\"},\"paper_bgcolor\":\"white\",\"plot_bgcolor\":\"#E5ECF6\",\"polar\":{\"bgcolor\":\"#E5ECF6\",\"angularaxis\":{\"gridcolor\":\"white\",\"linecolor\":\"white\",\"ticks\":\"\"},\"radialaxis\":{\"gridcolor\":\"white\",\"linecolor\":\"white\",\"ticks\":\"\"}},\"ternary\":{\"bgcolor\":\"#E5ECF6\",\"aaxis\":{\"gridcolor\":\"white\",\"linecolor\":\"white\",\"ticks\":\"\"},\"baxis\":{\"gridcolor\":\"white\",\"linecolor\":\"white\",\"ticks\":\"\"},\"caxis\":{\"gridcolor\":\"white\",\"linecolor\":\"white\",\"ticks\":\"\"}},\"coloraxis\":{\"colorbar\":{\"outlinewidth\":0,\"ticks\":\"\"}},\"colorscale\":{\"sequential\":[[0.0,\"#0d0887\"],[0.1111111111111111,\"#46039f\"],[0.2222222222222222,\"#7201a8\"],[0.3333333333333333,\"#9c179e\"],[0.4444444444444444,\"#bd3786\"],[0.5555555555555556,\"#d8576b\"],[0.6666666666666666,\"#ed7953\"],[0.7777777777777778,\"#fb9f3a\"],[0.8888888888888888,\"#fdca26\"],[1.0,\"#f0f921\"]],\"sequentialminus\":[[0.0,\"#0d0887\"],[0.1111111111111111,\"#46039f\"],[0.2222222222222222,\"#7201a8\"],[0.3333333333333333,\"#9c179e\"],[0.4444444444444444,\"#bd3786\"],[0.5555555555555556,\"#d8576b\"],[0.6666666666666666,\"#ed7953\"],[0.7777777777777778,\"#fb9f3a\"],[0.8888888888888888,\"#fdca26\"],[1.0,\"#f0f921\"]],\"diverging\":[[0,\"#8e0152\"],[0.1,\"#c51b7d\"],[0.2,\"#de77ae\"],[0.3,\"#f1b6da\"],[0.4,\"#fde0ef\"],[0.5,\"#f7f7f7\"],[0.6,\"#e6f5d0\"],[0.7,\"#b8e186\"],[0.8,\"#7fbc41\"],[0.9,\"#4d9221\"],[1,\"#276419\"]]},\"xaxis\":{\"gridcolor\":\"white\",\"linecolor\":\"white\",\"ticks\":\"\",\"title\":{\"standoff\":15},\"zerolinecolor\":\"white\",\"automargin\":true,\"zerolinewidth\":2},\"yaxis\":{\"gridcolor\":\"white\",\"linecolor\":\"white\",\"ticks\":\"\",\"title\":{\"standoff\":15},\"zerolinecolor\":\"white\",\"automargin\":true,\"zerolinewidth\":2},\"scene\":{\"xaxis\":{\"backgroundcolor\":\"#E5ECF6\",\"gridcolor\":\"white\",\"linecolor\":\"white\",\"showbackground\":true,\"ticks\":\"\",\"zerolinecolor\":\"white\",\"gridwidth\":2},\"yaxis\":{\"backgroundcolor\":\"#E5ECF6\",\"gridcolor\":\"white\",\"linecolor\":\"white\",\"showbackground\":true,\"ticks\":\"\",\"zerolinecolor\":\"white\",\"gridwidth\":2},\"zaxis\":{\"backgroundcolor\":\"#E5ECF6\",\"gridcolor\":\"white\",\"linecolor\":\"white\",\"showbackground\":true,\"ticks\":\"\",\"zerolinecolor\":\"white\",\"gridwidth\":2}},\"shapedefaults\":{\"line\":{\"color\":\"#2a3f5f\"}},\"annotationdefaults\":{\"arrowcolor\":\"#2a3f5f\",\"arrowhead\":0,\"arrowwidth\":1},\"geo\":{\"bgcolor\":\"white\",\"landcolor\":\"#E5ECF6\",\"subunitcolor\":\"white\",\"showland\":true,\"showlakes\":true,\"lakecolor\":\"white\"},\"title\":{\"x\":0.05},\"mapbox\":{\"style\":\"light\"}}}},                        {\"responsive\": true}                    ).then(function(){\n                            \nvar gd = document.getElementById('8d4ae4ab-5eff-4e3b-8bab-36303f451fec');\nvar x = new MutationObserver(function (mutations, observer) {{\n        var display = window.getComputedStyle(gd).display;\n        if (!display || display === 'none') {{\n            console.log([gd, 'removed!']);\n            Plotly.purge(gd);\n            observer.disconnect();\n        }}\n}});\n\n// Listen for the removal of the full notebook cells\nvar notebookContainer = gd.closest('#notebook-container');\nif (notebookContainer) {{\n    x.observe(notebookContainer, {childList: true});\n}}\n\n// Listen for the clearing of the current output cell\nvar outputEl = gd.closest('.output');\nif (outputEl) {{\n    x.observe(outputEl, {childList: true});\n}}\n\n                        })                };                            </script>        </div>\n</body>\n</html>"
                },
                "metadata": {}
              }
            ]
          }
        },
        "3ef893d906034198bf5eb0aa24adf4a4": {
          "model_module": "@jupyter-widgets/base",
          "model_name": "LayoutModel",
          "model_module_version": "1.2.0",
          "state": {
            "_model_module": "@jupyter-widgets/base",
            "_model_module_version": "1.2.0",
            "_model_name": "LayoutModel",
            "_view_count": null,
            "_view_module": "@jupyter-widgets/base",
            "_view_module_version": "1.2.0",
            "_view_name": "LayoutView",
            "align_content": null,
            "align_items": null,
            "align_self": null,
            "border": null,
            "bottom": null,
            "display": null,
            "flex": null,
            "flex_flow": null,
            "grid_area": null,
            "grid_auto_columns": null,
            "grid_auto_flow": null,
            "grid_auto_rows": null,
            "grid_column": null,
            "grid_gap": null,
            "grid_row": null,
            "grid_template_areas": null,
            "grid_template_columns": null,
            "grid_template_rows": null,
            "height": null,
            "justify_content": null,
            "justify_items": null,
            "left": null,
            "margin": null,
            "max_height": null,
            "max_width": null,
            "min_height": null,
            "min_width": null,
            "object_fit": null,
            "object_position": null,
            "order": null,
            "overflow": null,
            "overflow_x": null,
            "overflow_y": null,
            "padding": null,
            "right": null,
            "top": null,
            "visibility": null,
            "width": null
          }
        },
        "95e9d3a3fe744c00bb3efc484cd3137d": {
          "model_module": "@jupyter-widgets/base",
          "model_name": "LayoutModel",
          "model_module_version": "1.2.0",
          "state": {
            "_model_module": "@jupyter-widgets/base",
            "_model_module_version": "1.2.0",
            "_model_name": "LayoutModel",
            "_view_count": null,
            "_view_module": "@jupyter-widgets/base",
            "_view_module_version": "1.2.0",
            "_view_name": "LayoutView",
            "align_content": null,
            "align_items": null,
            "align_self": null,
            "border": null,
            "bottom": null,
            "display": null,
            "flex": null,
            "flex_flow": null,
            "grid_area": null,
            "grid_auto_columns": null,
            "grid_auto_flow": null,
            "grid_auto_rows": null,
            "grid_column": null,
            "grid_gap": null,
            "grid_row": null,
            "grid_template_areas": null,
            "grid_template_columns": null,
            "grid_template_rows": null,
            "height": null,
            "justify_content": null,
            "justify_items": null,
            "left": null,
            "margin": null,
            "max_height": null,
            "max_width": null,
            "min_height": null,
            "min_width": null,
            "object_fit": null,
            "object_position": null,
            "order": null,
            "overflow": null,
            "overflow_x": null,
            "overflow_y": null,
            "padding": null,
            "right": null,
            "top": null,
            "visibility": null,
            "width": null
          }
        },
        "9b15f9a77a4a42ca9e4a2f43cb27cb86": {
          "model_module": "@jupyter-widgets/controls",
          "model_name": "DescriptionStyleModel",
          "model_module_version": "1.5.0",
          "state": {
            "_model_module": "@jupyter-widgets/controls",
            "_model_module_version": "1.5.0",
            "_model_name": "DescriptionStyleModel",
            "_view_count": null,
            "_view_module": "@jupyter-widgets/base",
            "_view_module_version": "1.2.0",
            "_view_name": "StyleView",
            "description_width": ""
          }
        },
        "46374ea0513e449db27e6ff7dfeb8e0c": {
          "model_module": "@jupyter-widgets/base",
          "model_name": "LayoutModel",
          "model_module_version": "1.2.0",
          "state": {
            "_model_module": "@jupyter-widgets/base",
            "_model_module_version": "1.2.0",
            "_model_name": "LayoutModel",
            "_view_count": null,
            "_view_module": "@jupyter-widgets/base",
            "_view_module_version": "1.2.0",
            "_view_name": "LayoutView",
            "align_content": null,
            "align_items": null,
            "align_self": null,
            "border": null,
            "bottom": null,
            "display": null,
            "flex": null,
            "flex_flow": null,
            "grid_area": null,
            "grid_auto_columns": null,
            "grid_auto_flow": null,
            "grid_auto_rows": null,
            "grid_column": null,
            "grid_gap": null,
            "grid_row": null,
            "grid_template_areas": null,
            "grid_template_columns": null,
            "grid_template_rows": null,
            "height": null,
            "justify_content": null,
            "justify_items": null,
            "left": null,
            "margin": null,
            "max_height": null,
            "max_width": null,
            "min_height": null,
            "min_width": null,
            "object_fit": null,
            "object_position": null,
            "order": null,
            "overflow": null,
            "overflow_x": null,
            "overflow_y": null,
            "padding": null,
            "right": null,
            "top": null,
            "visibility": null,
            "width": null
          }
        },
        "a5bc097195b3497ca9a6909e53f9ce04": {
          "model_module": "@jupyter-widgets/controls",
          "model_name": "VBoxModel",
          "model_module_version": "1.5.0",
          "state": {
            "_dom_classes": [
              "widget-interact"
            ],
            "_model_module": "@jupyter-widgets/controls",
            "_model_module_version": "1.5.0",
            "_model_name": "VBoxModel",
            "_view_count": null,
            "_view_module": "@jupyter-widgets/controls",
            "_view_module_version": "1.5.0",
            "_view_name": "VBoxView",
            "box_style": "",
            "children": [
              "IPY_MODEL_ea10396f012a470a95ad087484aeb281",
              "IPY_MODEL_fd97a1b2d9c949f09053c5b0480aaf4a",
              "IPY_MODEL_8c00c18d752e4afd97564e30b294ccbc"
            ],
            "layout": "IPY_MODEL_eaa61e16455748c0848a583a2754c617"
          }
        },
        "ea10396f012a470a95ad087484aeb281": {
          "model_module": "@jupyter-widgets/controls",
          "model_name": "DatePickerModel",
          "model_module_version": "1.5.0",
          "state": {
            "_dom_classes": [],
            "_model_module": "@jupyter-widgets/controls",
            "_model_module_version": "1.5.0",
            "_model_name": "DatePickerModel",
            "_view_count": null,
            "_view_module": "@jupyter-widgets/controls",
            "_view_module_version": "1.5.0",
            "_view_name": "DatePickerView",
            "description": "start_date",
            "description_tooltip": null,
            "disabled": false,
            "layout": "IPY_MODEL_ffb85e59c49f478aa6bfad5e79565e2e",
            "style": "IPY_MODEL_1a54e83afa714c2285388a7d8323ef6f",
            "value": {
              "year": 2018,
              "month": 0,
              "date": 1
            }
          }
        },
        "fd97a1b2d9c949f09053c5b0480aaf4a": {
          "model_module": "@jupyter-widgets/controls",
          "model_name": "DatePickerModel",
          "model_module_version": "1.5.0",
          "state": {
            "_dom_classes": [],
            "_model_module": "@jupyter-widgets/controls",
            "_model_module_version": "1.5.0",
            "_model_name": "DatePickerModel",
            "_view_count": null,
            "_view_module": "@jupyter-widgets/controls",
            "_view_module_version": "1.5.0",
            "_view_name": "DatePickerView",
            "description": "end_date",
            "description_tooltip": null,
            "disabled": false,
            "layout": "IPY_MODEL_a922932673094245acb3a3d4013213ac",
            "style": "IPY_MODEL_e3d31ac58dc7404d92569fce33f49e19",
            "value": {
              "year": 2019,
              "month": 0,
              "date": 1
            }
          }
        },
        "8c00c18d752e4afd97564e30b294ccbc": {
          "model_module": "@jupyter-widgets/output",
          "model_name": "OutputModel",
          "model_module_version": "1.0.0",
          "state": {
            "_dom_classes": [],
            "_model_module": "@jupyter-widgets/output",
            "_model_module_version": "1.0.0",
            "_model_name": "OutputModel",
            "_view_count": null,
            "_view_module": "@jupyter-widgets/output",
            "_view_module_version": "1.0.0",
            "_view_name": "OutputView",
            "layout": "IPY_MODEL_311dd888566245fdaf002b9fbb37ce27",
            "msg_id": "",
            "outputs": [
              {
                "output_type": "stream",
                "name": "stdout",
                "text": [
                  "According to our dataset, published by Medium.com, there are 99 articles between 2018-01-01 and 2019-01-01.\n",
                  "These articles totalled 267,707 words and 18.85 hours to read.\n"
                ]
              }
            ]
          }
        },
        "eaa61e16455748c0848a583a2754c617": {
          "model_module": "@jupyter-widgets/base",
          "model_name": "LayoutModel",
          "model_module_version": "1.2.0",
          "state": {
            "_model_module": "@jupyter-widgets/base",
            "_model_module_version": "1.2.0",
            "_model_name": "LayoutModel",
            "_view_count": null,
            "_view_module": "@jupyter-widgets/base",
            "_view_module_version": "1.2.0",
            "_view_name": "LayoutView",
            "align_content": null,
            "align_items": null,
            "align_self": null,
            "border": null,
            "bottom": null,
            "display": null,
            "flex": null,
            "flex_flow": null,
            "grid_area": null,
            "grid_auto_columns": null,
            "grid_auto_flow": null,
            "grid_auto_rows": null,
            "grid_column": null,
            "grid_gap": null,
            "grid_row": null,
            "grid_template_areas": null,
            "grid_template_columns": null,
            "grid_template_rows": null,
            "height": null,
            "justify_content": null,
            "justify_items": null,
            "left": null,
            "margin": null,
            "max_height": null,
            "max_width": null,
            "min_height": null,
            "min_width": null,
            "object_fit": null,
            "object_position": null,
            "order": null,
            "overflow": null,
            "overflow_x": null,
            "overflow_y": null,
            "padding": null,
            "right": null,
            "top": null,
            "visibility": null,
            "width": null
          }
        },
        "ffb85e59c49f478aa6bfad5e79565e2e": {
          "model_module": "@jupyter-widgets/base",
          "model_name": "LayoutModel",
          "model_module_version": "1.2.0",
          "state": {
            "_model_module": "@jupyter-widgets/base",
            "_model_module_version": "1.2.0",
            "_model_name": "LayoutModel",
            "_view_count": null,
            "_view_module": "@jupyter-widgets/base",
            "_view_module_version": "1.2.0",
            "_view_name": "LayoutView",
            "align_content": null,
            "align_items": null,
            "align_self": null,
            "border": null,
            "bottom": null,
            "display": null,
            "flex": null,
            "flex_flow": null,
            "grid_area": null,
            "grid_auto_columns": null,
            "grid_auto_flow": null,
            "grid_auto_rows": null,
            "grid_column": null,
            "grid_gap": null,
            "grid_row": null,
            "grid_template_areas": null,
            "grid_template_columns": null,
            "grid_template_rows": null,
            "height": null,
            "justify_content": null,
            "justify_items": null,
            "left": null,
            "margin": null,
            "max_height": null,
            "max_width": null,
            "min_height": null,
            "min_width": null,
            "object_fit": null,
            "object_position": null,
            "order": null,
            "overflow": null,
            "overflow_x": null,
            "overflow_y": null,
            "padding": null,
            "right": null,
            "top": null,
            "visibility": null,
            "width": null
          }
        },
        "1a54e83afa714c2285388a7d8323ef6f": {
          "model_module": "@jupyter-widgets/controls",
          "model_name": "DescriptionStyleModel",
          "model_module_version": "1.5.0",
          "state": {
            "_model_module": "@jupyter-widgets/controls",
            "_model_module_version": "1.5.0",
            "_model_name": "DescriptionStyleModel",
            "_view_count": null,
            "_view_module": "@jupyter-widgets/base",
            "_view_module_version": "1.2.0",
            "_view_name": "StyleView",
            "description_width": ""
          }
        },
        "a922932673094245acb3a3d4013213ac": {
          "model_module": "@jupyter-widgets/base",
          "model_name": "LayoutModel",
          "model_module_version": "1.2.0",
          "state": {
            "_model_module": "@jupyter-widgets/base",
            "_model_module_version": "1.2.0",
            "_model_name": "LayoutModel",
            "_view_count": null,
            "_view_module": "@jupyter-widgets/base",
            "_view_module_version": "1.2.0",
            "_view_name": "LayoutView",
            "align_content": null,
            "align_items": null,
            "align_self": null,
            "border": null,
            "bottom": null,
            "display": null,
            "flex": null,
            "flex_flow": null,
            "grid_area": null,
            "grid_auto_columns": null,
            "grid_auto_flow": null,
            "grid_auto_rows": null,
            "grid_column": null,
            "grid_gap": null,
            "grid_row": null,
            "grid_template_areas": null,
            "grid_template_columns": null,
            "grid_template_rows": null,
            "height": null,
            "justify_content": null,
            "justify_items": null,
            "left": null,
            "margin": null,
            "max_height": null,
            "max_width": null,
            "min_height": null,
            "min_width": null,
            "object_fit": null,
            "object_position": null,
            "order": null,
            "overflow": null,
            "overflow_x": null,
            "overflow_y": null,
            "padding": null,
            "right": null,
            "top": null,
            "visibility": null,
            "width": null
          }
        },
        "e3d31ac58dc7404d92569fce33f49e19": {
          "model_module": "@jupyter-widgets/controls",
          "model_name": "DescriptionStyleModel",
          "model_module_version": "1.5.0",
          "state": {
            "_model_module": "@jupyter-widgets/controls",
            "_model_module_version": "1.5.0",
            "_model_name": "DescriptionStyleModel",
            "_view_count": null,
            "_view_module": "@jupyter-widgets/base",
            "_view_module_version": "1.2.0",
            "_view_name": "StyleView",
            "description_width": ""
          }
        },
        "311dd888566245fdaf002b9fbb37ce27": {
          "model_module": "@jupyter-widgets/base",
          "model_name": "LayoutModel",
          "model_module_version": "1.2.0",
          "state": {
            "_model_module": "@jupyter-widgets/base",
            "_model_module_version": "1.2.0",
            "_model_name": "LayoutModel",
            "_view_count": null,
            "_view_module": "@jupyter-widgets/base",
            "_view_module_version": "1.2.0",
            "_view_name": "LayoutView",
            "align_content": null,
            "align_items": null,
            "align_self": null,
            "border": null,
            "bottom": null,
            "display": null,
            "flex": null,
            "flex_flow": null,
            "grid_area": null,
            "grid_auto_columns": null,
            "grid_auto_flow": null,
            "grid_auto_rows": null,
            "grid_column": null,
            "grid_gap": null,
            "grid_row": null,
            "grid_template_areas": null,
            "grid_template_columns": null,
            "grid_template_rows": null,
            "height": null,
            "justify_content": null,
            "justify_items": null,
            "left": null,
            "margin": null,
            "max_height": null,
            "max_width": null,
            "min_height": null,
            "min_width": null,
            "object_fit": null,
            "object_position": null,
            "order": null,
            "overflow": null,
            "overflow_x": null,
            "overflow_y": null,
            "padding": null,
            "right": null,
            "top": null,
            "visibility": null,
            "width": null
          }
        },
        "e090f43309914bb9a06f3eea345247cc": {
          "model_module": "@jupyter-widgets/controls",
          "model_name": "VBoxModel",
          "model_module_version": "1.5.0",
          "state": {
            "_dom_classes": [
              "widget-interact"
            ],
            "_model_module": "@jupyter-widgets/controls",
            "_model_module_version": "1.5.0",
            "_model_name": "VBoxModel",
            "_view_count": null,
            "_view_module": "@jupyter-widgets/controls",
            "_view_module_version": "1.5.0",
            "_view_name": "VBoxView",
            "box_style": "",
            "children": [
              "IPY_MODEL_8a921a7185b44f2e8189fa9caa815421",
              "IPY_MODEL_bd650a46d75047e5a3707b96ddf28e16",
              "IPY_MODEL_460ff7a48f314dea84a0684523f48c54"
            ],
            "layout": "IPY_MODEL_16d1eaa8d7984cdbb1c515df1bc9d19d"
          }
        },
        "8a921a7185b44f2e8189fa9caa815421": {
          "model_module": "@jupyter-widgets/controls",
          "model_name": "DropdownModel",
          "model_module_version": "1.5.0",
          "state": {
            "_dom_classes": [],
            "_model_module": "@jupyter-widgets/controls",
            "_model_module_version": "1.5.0",
            "_model_name": "DropdownModel",
            "_options_labels": [
              "claps",
              "days_since_publication",
              "fans",
              "num_responses",
              "read_ratio",
              "read_time",
              "reads",
              "title_word_count",
              "views",
              "word_count",
              "claps_per_word",
              "editing_days",
              "<tag>Education",
              "<tag>Data Science",
              "<tag>Towards Data Science",
              "<tag>Machine Learning",
              "<tag>Python"
            ],
            "_view_count": null,
            "_view_module": "@jupyter-widgets/controls",
            "_view_module_version": "1.5.0",
            "_view_name": "DropdownView",
            "description": "column",
            "description_tooltip": null,
            "disabled": false,
            "index": 0,
            "layout": "IPY_MODEL_cff17a8accf24a7a8bf1dd99fa7e2497",
            "style": "IPY_MODEL_e1c84c807bb147aba44d3d65ac55bd2a"
          }
        },
        "bd650a46d75047e5a3707b96ddf28e16": {
          "model_module": "@jupyter-widgets/controls",
          "model_name": "DatePickerModel",
          "model_module_version": "1.5.0",
          "state": {
            "_dom_classes": [],
            "_model_module": "@jupyter-widgets/controls",
            "_model_module_version": "1.5.0",
            "_model_name": "DatePickerModel",
            "_view_count": null,
            "_view_module": "@jupyter-widgets/controls",
            "_view_module_version": "1.5.0",
            "_view_name": "DatePickerView",
            "description": "date",
            "description_tooltip": null,
            "disabled": false,
            "layout": "IPY_MODEL_0df3803dccda4eea865972fcf2938ac2",
            "style": "IPY_MODEL_e16b56960e8e41aa9f7388ae2c809be5",
            "value": {
              "year": 2019,
              "month": 0,
              "date": 1
            }
          }
        },
        "460ff7a48f314dea84a0684523f48c54": {
          "model_module": "@jupyter-widgets/output",
          "model_name": "OutputModel",
          "model_module_version": "1.0.0",
          "state": {
            "_dom_classes": [],
            "_model_module": "@jupyter-widgets/output",
            "_model_module_version": "1.0.0",
            "_model_name": "OutputModel",
            "_view_count": null,
            "_view_module": "@jupyter-widgets/output",
            "_view_module_version": "1.0.0",
            "_view_name": "OutputView",
            "layout": "IPY_MODEL_6a462091ec8346268b5c4f15f47eeaaf",
            "msg_id": "",
            "outputs": [
              {
                "output_type": "display_data",
                "data": {
                  "application/vnd.plotly.v1+json": {
                    "data": [
                      {
                        "line": {
                          "color": "rgba(31, 119, 180, 1.0)",
                          "dash": "solid",
                          "shape": "linear",
                          "width": 1.3
                        },
                        "marker": {
                          "size": 12,
                          "symbol": "circle"
                        },
                        "mode": "markers+lines",
                        "name": "claps",
                        "text": "",
                        "x": [
                          "2017-06-10 14:25:00",
                          "2017-06-17 22:02:00",
                          "2017-06-30 12:55:00",
                          "2017-07-01 09:08:00",
                          "2017-07-05 08:51:00",
                          "2017-07-19 21:09:00",
                          "2017-07-25 17:54:00",
                          "2017-07-27 21:17:00",
                          "2017-07-30 17:50:00",
                          "2017-08-01 14:21:00",
                          "2017-08-07 14:24:00",
                          "2017-08-08 12:58:00",
                          "2017-08-08 12:58:00",
                          "2017-08-10 19:58:00",
                          "2017-08-12 15:17:00",
                          "2017-08-12 17:03:00",
                          "2017-08-15 14:02:00",
                          "2017-08-20 17:06:00",
                          "2017-08-22 15:09:00",
                          "2017-09-22 15:04:00",
                          "2017-12-16 10:20:00",
                          "2017-12-27 11:20:00",
                          "2017-12-27 11:22:00",
                          "2017-12-29 18:51:00",
                          "2018-01-01 13:45:00",
                          "2018-01-06 20:15:00",
                          "2018-01-07 20:37:00",
                          "2018-01-08 09:45:00",
                          "2018-01-08 16:58:00",
                          "2018-01-09 21:49:00",
                          "2018-01-12 20:48:00",
                          "2018-01-13 09:51:00",
                          "2018-01-17 15:24:00",
                          "2018-01-17 19:42:00",
                          "2018-01-18 08:55:00",
                          "2018-01-19 15:30:00",
                          "2018-01-19 20:16:00",
                          "2018-01-22 14:22:00",
                          "2018-01-24 18:27:00",
                          "2018-01-27 20:17:00",
                          "2018-01-28 08:40:00",
                          "2018-01-31 11:41:00",
                          "2018-02-02 09:26:00",
                          "2018-02-04 09:12:00",
                          "2018-02-07 09:09:00",
                          "2018-02-09 22:29:00",
                          "2018-02-11 18:57:00",
                          "2018-02-14 11:27:00",
                          "2018-02-20 12:49:00",
                          "2018-02-24 09:33:00",
                          "2018-03-03 11:10:00",
                          "2018-03-10 16:16:00",
                          "2018-03-17 10:29:00",
                          "2018-03-20 09:47:00",
                          "2018-03-23 12:44:00",
                          "2018-03-31 08:36:00",
                          "2018-04-06 14:12:00",
                          "2018-04-13 20:38:00",
                          "2018-04-20 13:31:00",
                          "2018-04-20 13:34:00",
                          "2018-04-28 15:27:00",
                          "2018-04-30 11:04:00",
                          "2018-05-16 12:33:00",
                          "2018-05-17 09:34:00",
                          "2018-05-18 09:48:00",
                          "2018-05-21 14:16:00",
                          "2018-05-28 11:39:00",
                          "2018-06-02 10:01:00",
                          "2018-06-19 20:35:00",
                          "2018-06-22 10:12:00",
                          "2018-06-24 08:26:00",
                          "2018-06-28 08:33:00",
                          "2018-07-03 11:04:00",
                          "2018-07-20 08:57:00",
                          "2018-07-26 09:35:00",
                          "2018-08-09 09:04:00",
                          "2018-08-11 05:53:00",
                          "2018-08-16 14:43:00",
                          "2018-08-18 19:49:00",
                          "2018-08-20 09:48:00",
                          "2018-08-20 09:51:00",
                          "2018-08-29 19:08:00",
                          "2018-08-30 12:44:00",
                          "2018-09-03 17:27:00",
                          "2018-09-10 09:26:00",
                          "2018-09-16 10:31:00",
                          "2018-09-16 17:55:00",
                          "2018-09-23 10:26:00",
                          "2018-09-26 13:41:00",
                          "2018-10-01 21:04:00",
                          "2018-10-04 13:10:00",
                          "2018-10-12 12:31:00",
                          "2018-10-17 10:26:00",
                          "2018-10-26 15:32:00",
                          "2018-11-01 20:44:00",
                          "2018-11-04 21:30:00",
                          "2018-11-07 10:14:00",
                          "2018-11-07 10:17:00",
                          "2018-11-12 09:00:00",
                          "2018-11-15 08:35:00",
                          "2018-11-17 21:54:00",
                          "2018-11-18 19:57:00",
                          "2018-11-26 13:25:00",
                          "2018-11-28 10:23:00",
                          "2018-12-01 11:50:00",
                          "2018-12-07 16:16:00",
                          "2018-12-08 14:41:00",
                          "2018-12-09 21:16:00",
                          "2018-12-15 12:39:00",
                          "2018-12-16 21:03:00",
                          "2018-12-17 20:04:00",
                          "2018-12-24 20:23:00",
                          "2018-12-25 15:28:00",
                          "2018-12-25 21:22:00",
                          "2018-12-25 21:24:00",
                          "2018-12-25 21:25:00",
                          "2018-12-25 21:26:00",
                          "2018-12-25 21:26:00",
                          "2018-12-25 21:27:00",
                          "2018-12-27 08:00:00",
                          "2018-12-27 12:31:00",
                          "2018-12-29 11:36:00",
                          "2018-12-31 17:53:00"
                        ],
                        "y": [
                          2,
                          20,
                          71,
                          71,
                          71,
                          71,
                          144,
                          384,
                          386,
                          386,
                          1090,
                          1148,
                          1153,
                          1160,
                          1247,
                          1270,
                          1275,
                          1442,
                          1450,
                          1467,
                          1476,
                          6376,
                          9376,
                          9448,
                          9571,
                          10436,
                          10622,
                          10633,
                          10753,
                          12853,
                          16953,
                          17012,
                          19812,
                          19894,
                          19915,
                          27215,
                          28415,
                          28700,
                          30300,
                          31900,
                          33000,
                          37300,
                          42270,
                          55170,
                          55395,
                          60495,
                          60596,
                          66596,
                          67243,
                          68220,
                          75220,
                          82220,
                          84920,
                          86020,
                          89020,
                          91620,
                          94520,
                          100020,
                          101320,
                          102320,
                          110320,
                          110683,
                          124283,
                          128383,
                          130583,
                          134483,
                          140883,
                          149383,
                          150683,
                          156183,
                          158583,
                          161383,
                          163783,
                          164498,
                          165215,
                          168515,
                          172915,
                          173759,
                          174665,
                          178465,
                          179127,
                          179785,
                          180885,
                          183785,
                          186885,
                          187682,
                          187928,
                          191328,
                          191675,
                          194275,
                          195256,
                          197356,
                          198322,
                          201622,
                          202332,
                          204832,
                          205647,
                          206402,
                          207005,
                          207945,
                          210245,
                          211645,
                          212432,
                          215232,
                          217332,
                          221132,
                          221679,
                          222535,
                          223535,
                          223740,
                          224470,
                          224591,
                          225009,
                          225040,
                          225040,
                          225064,
                          225069,
                          225069,
                          225075,
                          225075,
                          225614,
                          226344,
                          226926
                        ],
                        "type": "scatter"
                      }
                    ],
                    "layout": {
                      "legend": {
                        "bgcolor": "#F5F6F9",
                        "font": {
                          "color": "#4D5663"
                        }
                      },
                      "paper_bgcolor": "#F5F6F9",
                      "plot_bgcolor": "#F5F6F9",
                      "template": {
                        "data": {
                          "barpolar": [
                            {
                              "marker": {
                                "line": {
                                  "color": "#E5ECF6",
                                  "width": 0.5
                                },
                                "pattern": {
                                  "fillmode": "overlay",
                                  "size": 10,
                                  "solidity": 0.2
                                }
                              },
                              "type": "barpolar"
                            }
                          ],
                          "bar": [
                            {
                              "error_x": {
                                "color": "#2a3f5f"
                              },
                              "error_y": {
                                "color": "#2a3f5f"
                              },
                              "marker": {
                                "line": {
                                  "color": "#E5ECF6",
                                  "width": 0.5
                                },
                                "pattern": {
                                  "fillmode": "overlay",
                                  "size": 10,
                                  "solidity": 0.2
                                }
                              },
                              "type": "bar"
                            }
                          ],
                          "carpet": [
                            {
                              "aaxis": {
                                "endlinecolor": "#2a3f5f",
                                "gridcolor": "white",
                                "linecolor": "white",
                                "minorgridcolor": "white",
                                "startlinecolor": "#2a3f5f"
                              },
                              "baxis": {
                                "endlinecolor": "#2a3f5f",
                                "gridcolor": "white",
                                "linecolor": "white",
                                "minorgridcolor": "white",
                                "startlinecolor": "#2a3f5f"
                              },
                              "type": "carpet"
                            }
                          ],
                          "choropleth": [
                            {
                              "colorbar": {
                                "outlinewidth": 0,
                                "ticks": ""
                              },
                              "type": "choropleth"
                            }
                          ],
                          "contourcarpet": [
                            {
                              "colorbar": {
                                "outlinewidth": 0,
                                "ticks": ""
                              },
                              "type": "contourcarpet"
                            }
                          ],
                          "contour": [
                            {
                              "colorbar": {
                                "outlinewidth": 0,
                                "ticks": ""
                              },
                              "colorscale": [
                                [
                                  0,
                                  "#0d0887"
                                ],
                                [
                                  0.1111111111111111,
                                  "#46039f"
                                ],
                                [
                                  0.2222222222222222,
                                  "#7201a8"
                                ],
                                [
                                  0.3333333333333333,
                                  "#9c179e"
                                ],
                                [
                                  0.4444444444444444,
                                  "#bd3786"
                                ],
                                [
                                  0.5555555555555556,
                                  "#d8576b"
                                ],
                                [
                                  0.6666666666666666,
                                  "#ed7953"
                                ],
                                [
                                  0.7777777777777778,
                                  "#fb9f3a"
                                ],
                                [
                                  0.8888888888888888,
                                  "#fdca26"
                                ],
                                [
                                  1,
                                  "#f0f921"
                                ]
                              ],
                              "type": "contour"
                            }
                          ],
                          "heatmapgl": [
                            {
                              "colorbar": {
                                "outlinewidth": 0,
                                "ticks": ""
                              },
                              "colorscale": [
                                [
                                  0,
                                  "#0d0887"
                                ],
                                [
                                  0.1111111111111111,
                                  "#46039f"
                                ],
                                [
                                  0.2222222222222222,
                                  "#7201a8"
                                ],
                                [
                                  0.3333333333333333,
                                  "#9c179e"
                                ],
                                [
                                  0.4444444444444444,
                                  "#bd3786"
                                ],
                                [
                                  0.5555555555555556,
                                  "#d8576b"
                                ],
                                [
                                  0.6666666666666666,
                                  "#ed7953"
                                ],
                                [
                                  0.7777777777777778,
                                  "#fb9f3a"
                                ],
                                [
                                  0.8888888888888888,
                                  "#fdca26"
                                ],
                                [
                                  1,
                                  "#f0f921"
                                ]
                              ],
                              "type": "heatmapgl"
                            }
                          ],
                          "heatmap": [
                            {
                              "colorbar": {
                                "outlinewidth": 0,
                                "ticks": ""
                              },
                              "colorscale": [
                                [
                                  0,
                                  "#0d0887"
                                ],
                                [
                                  0.1111111111111111,
                                  "#46039f"
                                ],
                                [
                                  0.2222222222222222,
                                  "#7201a8"
                                ],
                                [
                                  0.3333333333333333,
                                  "#9c179e"
                                ],
                                [
                                  0.4444444444444444,
                                  "#bd3786"
                                ],
                                [
                                  0.5555555555555556,
                                  "#d8576b"
                                ],
                                [
                                  0.6666666666666666,
                                  "#ed7953"
                                ],
                                [
                                  0.7777777777777778,
                                  "#fb9f3a"
                                ],
                                [
                                  0.8888888888888888,
                                  "#fdca26"
                                ],
                                [
                                  1,
                                  "#f0f921"
                                ]
                              ],
                              "type": "heatmap"
                            }
                          ],
                          "histogram2dcontour": [
                            {
                              "colorbar": {
                                "outlinewidth": 0,
                                "ticks": ""
                              },
                              "colorscale": [
                                [
                                  0,
                                  "#0d0887"
                                ],
                                [
                                  0.1111111111111111,
                                  "#46039f"
                                ],
                                [
                                  0.2222222222222222,
                                  "#7201a8"
                                ],
                                [
                                  0.3333333333333333,
                                  "#9c179e"
                                ],
                                [
                                  0.4444444444444444,
                                  "#bd3786"
                                ],
                                [
                                  0.5555555555555556,
                                  "#d8576b"
                                ],
                                [
                                  0.6666666666666666,
                                  "#ed7953"
                                ],
                                [
                                  0.7777777777777778,
                                  "#fb9f3a"
                                ],
                                [
                                  0.8888888888888888,
                                  "#fdca26"
                                ],
                                [
                                  1,
                                  "#f0f921"
                                ]
                              ],
                              "type": "histogram2dcontour"
                            }
                          ],
                          "histogram2d": [
                            {
                              "colorbar": {
                                "outlinewidth": 0,
                                "ticks": ""
                              },
                              "colorscale": [
                                [
                                  0,
                                  "#0d0887"
                                ],
                                [
                                  0.1111111111111111,
                                  "#46039f"
                                ],
                                [
                                  0.2222222222222222,
                                  "#7201a8"
                                ],
                                [
                                  0.3333333333333333,
                                  "#9c179e"
                                ],
                                [
                                  0.4444444444444444,
                                  "#bd3786"
                                ],
                                [
                                  0.5555555555555556,
                                  "#d8576b"
                                ],
                                [
                                  0.6666666666666666,
                                  "#ed7953"
                                ],
                                [
                                  0.7777777777777778,
                                  "#fb9f3a"
                                ],
                                [
                                  0.8888888888888888,
                                  "#fdca26"
                                ],
                                [
                                  1,
                                  "#f0f921"
                                ]
                              ],
                              "type": "histogram2d"
                            }
                          ],
                          "histogram": [
                            {
                              "marker": {
                                "pattern": {
                                  "fillmode": "overlay",
                                  "size": 10,
                                  "solidity": 0.2
                                }
                              },
                              "type": "histogram"
                            }
                          ],
                          "mesh3d": [
                            {
                              "colorbar": {
                                "outlinewidth": 0,
                                "ticks": ""
                              },
                              "type": "mesh3d"
                            }
                          ],
                          "parcoords": [
                            {
                              "line": {
                                "colorbar": {
                                  "outlinewidth": 0,
                                  "ticks": ""
                                }
                              },
                              "type": "parcoords"
                            }
                          ],
                          "pie": [
                            {
                              "automargin": true,
                              "type": "pie"
                            }
                          ],
                          "scatter3d": [
                            {
                              "line": {
                                "colorbar": {
                                  "outlinewidth": 0,
                                  "ticks": ""
                                }
                              },
                              "marker": {
                                "colorbar": {
                                  "outlinewidth": 0,
                                  "ticks": ""
                                }
                              },
                              "type": "scatter3d"
                            }
                          ],
                          "scattercarpet": [
                            {
                              "marker": {
                                "colorbar": {
                                  "outlinewidth": 0,
                                  "ticks": ""
                                }
                              },
                              "type": "scattercarpet"
                            }
                          ],
                          "scattergeo": [
                            {
                              "marker": {
                                "colorbar": {
                                  "outlinewidth": 0,
                                  "ticks": ""
                                }
                              },
                              "type": "scattergeo"
                            }
                          ],
                          "scattergl": [
                            {
                              "marker": {
                                "colorbar": {
                                  "outlinewidth": 0,
                                  "ticks": ""
                                }
                              },
                              "type": "scattergl"
                            }
                          ],
                          "scattermapbox": [
                            {
                              "marker": {
                                "colorbar": {
                                  "outlinewidth": 0,
                                  "ticks": ""
                                }
                              },
                              "type": "scattermapbox"
                            }
                          ],
                          "scatterpolargl": [
                            {
                              "marker": {
                                "colorbar": {
                                  "outlinewidth": 0,
                                  "ticks": ""
                                }
                              },
                              "type": "scatterpolargl"
                            }
                          ],
                          "scatterpolar": [
                            {
                              "marker": {
                                "colorbar": {
                                  "outlinewidth": 0,
                                  "ticks": ""
                                }
                              },
                              "type": "scatterpolar"
                            }
                          ],
                          "scatter": [
                            {
                              "fillpattern": {
                                "fillmode": "overlay",
                                "size": 10,
                                "solidity": 0.2
                              },
                              "type": "scatter"
                            }
                          ],
                          "scatterternary": [
                            {
                              "marker": {
                                "colorbar": {
                                  "outlinewidth": 0,
                                  "ticks": ""
                                }
                              },
                              "type": "scatterternary"
                            }
                          ],
                          "surface": [
                            {
                              "colorbar": {
                                "outlinewidth": 0,
                                "ticks": ""
                              },
                              "colorscale": [
                                [
                                  0,
                                  "#0d0887"
                                ],
                                [
                                  0.1111111111111111,
                                  "#46039f"
                                ],
                                [
                                  0.2222222222222222,
                                  "#7201a8"
                                ],
                                [
                                  0.3333333333333333,
                                  "#9c179e"
                                ],
                                [
                                  0.4444444444444444,
                                  "#bd3786"
                                ],
                                [
                                  0.5555555555555556,
                                  "#d8576b"
                                ],
                                [
                                  0.6666666666666666,
                                  "#ed7953"
                                ],
                                [
                                  0.7777777777777778,
                                  "#fb9f3a"
                                ],
                                [
                                  0.8888888888888888,
                                  "#fdca26"
                                ],
                                [
                                  1,
                                  "#f0f921"
                                ]
                              ],
                              "type": "surface"
                            }
                          ],
                          "table": [
                            {
                              "cells": {
                                "fill": {
                                  "color": "#EBF0F8"
                                },
                                "line": {
                                  "color": "white"
                                }
                              },
                              "header": {
                                "fill": {
                                  "color": "#C8D4E3"
                                },
                                "line": {
                                  "color": "white"
                                }
                              },
                              "type": "table"
                            }
                          ]
                        },
                        "layout": {
                          "annotationdefaults": {
                            "arrowcolor": "#2a3f5f",
                            "arrowhead": 0,
                            "arrowwidth": 1
                          },
                          "autotypenumbers": "strict",
                          "coloraxis": {
                            "colorbar": {
                              "outlinewidth": 0,
                              "ticks": ""
                            }
                          },
                          "colorscale": {
                            "diverging": [
                              [
                                0,
                                "#8e0152"
                              ],
                              [
                                0.1,
                                "#c51b7d"
                              ],
                              [
                                0.2,
                                "#de77ae"
                              ],
                              [
                                0.3,
                                "#f1b6da"
                              ],
                              [
                                0.4,
                                "#fde0ef"
                              ],
                              [
                                0.5,
                                "#f7f7f7"
                              ],
                              [
                                0.6,
                                "#e6f5d0"
                              ],
                              [
                                0.7,
                                "#b8e186"
                              ],
                              [
                                0.8,
                                "#7fbc41"
                              ],
                              [
                                0.9,
                                "#4d9221"
                              ],
                              [
                                1,
                                "#276419"
                              ]
                            ],
                            "sequential": [
                              [
                                0,
                                "#0d0887"
                              ],
                              [
                                0.1111111111111111,
                                "#46039f"
                              ],
                              [
                                0.2222222222222222,
                                "#7201a8"
                              ],
                              [
                                0.3333333333333333,
                                "#9c179e"
                              ],
                              [
                                0.4444444444444444,
                                "#bd3786"
                              ],
                              [
                                0.5555555555555556,
                                "#d8576b"
                              ],
                              [
                                0.6666666666666666,
                                "#ed7953"
                              ],
                              [
                                0.7777777777777778,
                                "#fb9f3a"
                              ],
                              [
                                0.8888888888888888,
                                "#fdca26"
                              ],
                              [
                                1,
                                "#f0f921"
                              ]
                            ],
                            "sequentialminus": [
                              [
                                0,
                                "#0d0887"
                              ],
                              [
                                0.1111111111111111,
                                "#46039f"
                              ],
                              [
                                0.2222222222222222,
                                "#7201a8"
                              ],
                              [
                                0.3333333333333333,
                                "#9c179e"
                              ],
                              [
                                0.4444444444444444,
                                "#bd3786"
                              ],
                              [
                                0.5555555555555556,
                                "#d8576b"
                              ],
                              [
                                0.6666666666666666,
                                "#ed7953"
                              ],
                              [
                                0.7777777777777778,
                                "#fb9f3a"
                              ],
                              [
                                0.8888888888888888,
                                "#fdca26"
                              ],
                              [
                                1,
                                "#f0f921"
                              ]
                            ]
                          },
                          "colorway": [
                            "#636efa",
                            "#EF553B",
                            "#00cc96",
                            "#ab63fa",
                            "#FFA15A",
                            "#19d3f3",
                            "#FF6692",
                            "#B6E880",
                            "#FF97FF",
                            "#FECB52"
                          ],
                          "font": {
                            "color": "#2a3f5f"
                          },
                          "geo": {
                            "bgcolor": "white",
                            "lakecolor": "white",
                            "landcolor": "#E5ECF6",
                            "showlakes": true,
                            "showland": true,
                            "subunitcolor": "white"
                          },
                          "hoverlabel": {
                            "align": "left"
                          },
                          "hovermode": "closest",
                          "mapbox": {
                            "style": "light"
                          },
                          "paper_bgcolor": "white",
                          "plot_bgcolor": "#E5ECF6",
                          "polar": {
                            "angularaxis": {
                              "gridcolor": "white",
                              "linecolor": "white",
                              "ticks": ""
                            },
                            "bgcolor": "#E5ECF6",
                            "radialaxis": {
                              "gridcolor": "white",
                              "linecolor": "white",
                              "ticks": ""
                            }
                          },
                          "scene": {
                            "xaxis": {
                              "backgroundcolor": "#E5ECF6",
                              "gridcolor": "white",
                              "gridwidth": 2,
                              "linecolor": "white",
                              "showbackground": true,
                              "ticks": "",
                              "zerolinecolor": "white"
                            },
                            "yaxis": {
                              "backgroundcolor": "#E5ECF6",
                              "gridcolor": "white",
                              "gridwidth": 2,
                              "linecolor": "white",
                              "showbackground": true,
                              "ticks": "",
                              "zerolinecolor": "white"
                            },
                            "zaxis": {
                              "backgroundcolor": "#E5ECF6",
                              "gridcolor": "white",
                              "gridwidth": 2,
                              "linecolor": "white",
                              "showbackground": true,
                              "ticks": "",
                              "zerolinecolor": "white"
                            }
                          },
                          "shapedefaults": {
                            "line": {
                              "color": "#2a3f5f"
                            }
                          },
                          "ternary": {
                            "aaxis": {
                              "gridcolor": "white",
                              "linecolor": "white",
                              "ticks": ""
                            },
                            "baxis": {
                              "gridcolor": "white",
                              "linecolor": "white",
                              "ticks": ""
                            },
                            "bgcolor": "#E5ECF6",
                            "caxis": {
                              "gridcolor": "white",
                              "linecolor": "white",
                              "ticks": ""
                            }
                          },
                          "title": {
                            "x": 0.05
                          },
                          "xaxis": {
                            "automargin": true,
                            "gridcolor": "white",
                            "linecolor": "white",
                            "ticks": "",
                            "title": {
                              "standoff": 15
                            },
                            "zerolinecolor": "white",
                            "zerolinewidth": 2
                          },
                          "yaxis": {
                            "automargin": true,
                            "gridcolor": "white",
                            "linecolor": "white",
                            "ticks": "",
                            "title": {
                              "standoff": 15
                            },
                            "zerolinecolor": "white",
                            "zerolinewidth": 2
                          }
                        }
                      },
                      "title": {
                        "font": {
                          "color": "#4D5663"
                        },
                        "text": "Cumulative Claps Until 2019-01-01"
                      },
                      "xaxis": {
                        "gridcolor": "#E1E5ED",
                        "showgrid": true,
                        "tickfont": {
                          "color": "#4D5663"
                        },
                        "title": {
                          "font": {
                            "color": "#4D5663"
                          },
                          "text": "published date"
                        },
                        "zerolinecolor": "#E1E5ED"
                      },
                      "yaxis": {
                        "gridcolor": "#E1E5ED",
                        "showgrid": true,
                        "tickfont": {
                          "color": "#4D5663"
                        },
                        "title": {
                          "font": {
                            "color": "#4D5663"
                          },
                          "text": "claps"
                        },
                        "zerolinecolor": "#E1E5ED"
                      }
                    },
                    "config": {
                      "showLink": true,
                      "linkText": "Export to plot.ly",
                      "plotlyServerURL": "https://plot.ly"
                    }
                  },
                  "text/html": "<div>                            <div id=\"c7391527-451e-496d-88ed-6f856bfac44d\" class=\"plotly-graph-div\" style=\"height:525px; width:100%;\"></div>            <script type=\"text/javascript\">                require([\"plotly\"], function(Plotly) {                    window.PLOTLYENV=window.PLOTLYENV || {};\n                    window.PLOTLYENV.BASE_URL='https://plot.ly';                                    if (document.getElementById(\"c7391527-451e-496d-88ed-6f856bfac44d\")) {                    Plotly.newPlot(                        \"c7391527-451e-496d-88ed-6f856bfac44d\",                        [{\"line\":{\"color\":\"rgba(31, 119, 180, 1.0)\",\"dash\":\"solid\",\"shape\":\"linear\",\"width\":1.3},\"marker\":{\"size\":12,\"symbol\":\"circle\"},\"mode\":\"markers+lines\",\"name\":\"claps\",\"text\":\"\",\"x\":[\"2017-06-10 14:25:00\",\"2017-06-17 22:02:00\",\"2017-06-30 12:55:00\",\"2017-07-01 09:08:00\",\"2017-07-05 08:51:00\",\"2017-07-19 21:09:00\",\"2017-07-25 17:54:00\",\"2017-07-27 21:17:00\",\"2017-07-30 17:50:00\",\"2017-08-01 14:21:00\",\"2017-08-07 14:24:00\",\"2017-08-08 12:58:00\",\"2017-08-08 12:58:00\",\"2017-08-10 19:58:00\",\"2017-08-12 15:17:00\",\"2017-08-12 17:03:00\",\"2017-08-15 14:02:00\",\"2017-08-20 17:06:00\",\"2017-08-22 15:09:00\",\"2017-09-22 15:04:00\",\"2017-12-16 10:20:00\",\"2017-12-27 11:20:00\",\"2017-12-27 11:22:00\",\"2017-12-29 18:51:00\",\"2018-01-01 13:45:00\",\"2018-01-06 20:15:00\",\"2018-01-07 20:37:00\",\"2018-01-08 09:45:00\",\"2018-01-08 16:58:00\",\"2018-01-09 21:49:00\",\"2018-01-12 20:48:00\",\"2018-01-13 09:51:00\",\"2018-01-17 15:24:00\",\"2018-01-17 19:42:00\",\"2018-01-18 08:55:00\",\"2018-01-19 15:30:00\",\"2018-01-19 20:16:00\",\"2018-01-22 14:22:00\",\"2018-01-24 18:27:00\",\"2018-01-27 20:17:00\",\"2018-01-28 08:40:00\",\"2018-01-31 11:41:00\",\"2018-02-02 09:26:00\",\"2018-02-04 09:12:00\",\"2018-02-07 09:09:00\",\"2018-02-09 22:29:00\",\"2018-02-11 18:57:00\",\"2018-02-14 11:27:00\",\"2018-02-20 12:49:00\",\"2018-02-24 09:33:00\",\"2018-03-03 11:10:00\",\"2018-03-10 16:16:00\",\"2018-03-17 10:29:00\",\"2018-03-20 09:47:00\",\"2018-03-23 12:44:00\",\"2018-03-31 08:36:00\",\"2018-04-06 14:12:00\",\"2018-04-13 20:38:00\",\"2018-04-20 13:31:00\",\"2018-04-20 13:34:00\",\"2018-04-28 15:27:00\",\"2018-04-30 11:04:00\",\"2018-05-16 12:33:00\",\"2018-05-17 09:34:00\",\"2018-05-18 09:48:00\",\"2018-05-21 14:16:00\",\"2018-05-28 11:39:00\",\"2018-06-02 10:01:00\",\"2018-06-19 20:35:00\",\"2018-06-22 10:12:00\",\"2018-06-24 08:26:00\",\"2018-06-28 08:33:00\",\"2018-07-03 11:04:00\",\"2018-07-20 08:57:00\",\"2018-07-26 09:35:00\",\"2018-08-09 09:04:00\",\"2018-08-11 05:53:00\",\"2018-08-16 14:43:00\",\"2018-08-18 19:49:00\",\"2018-08-20 09:48:00\",\"2018-08-20 09:51:00\",\"2018-08-29 19:08:00\",\"2018-08-30 12:44:00\",\"2018-09-03 17:27:00\",\"2018-09-10 09:26:00\",\"2018-09-16 10:31:00\",\"2018-09-16 17:55:00\",\"2018-09-23 10:26:00\",\"2018-09-26 13:41:00\",\"2018-10-01 21:04:00\",\"2018-10-04 13:10:00\",\"2018-10-12 12:31:00\",\"2018-10-17 10:26:00\",\"2018-10-26 15:32:00\",\"2018-11-01 20:44:00\",\"2018-11-04 21:30:00\",\"2018-11-07 10:14:00\",\"2018-11-07 10:17:00\",\"2018-11-12 09:00:00\",\"2018-11-15 08:35:00\",\"2018-11-17 21:54:00\",\"2018-11-18 19:57:00\",\"2018-11-26 13:25:00\",\"2018-11-28 10:23:00\",\"2018-12-01 11:50:00\",\"2018-12-07 16:16:00\",\"2018-12-08 14:41:00\",\"2018-12-09 21:16:00\",\"2018-12-15 12:39:00\",\"2018-12-16 21:03:00\",\"2018-12-17 20:04:00\",\"2018-12-24 20:23:00\",\"2018-12-25 15:28:00\",\"2018-12-25 21:22:00\",\"2018-12-25 21:24:00\",\"2018-12-25 21:25:00\",\"2018-12-25 21:26:00\",\"2018-12-25 21:26:00\",\"2018-12-25 21:27:00\",\"2018-12-27 08:00:00\",\"2018-12-27 12:31:00\",\"2018-12-29 11:36:00\",\"2018-12-31 17:53:00\"],\"y\":[2,20,71,71,71,71,144,384,386,386,1090,1148,1153,1160,1247,1270,1275,1442,1450,1467,1476,6376,9376,9448,9571,10436,10622,10633,10753,12853,16953,17012,19812,19894,19915,27215,28415,28700,30300,31900,33000,37300,42270,55170,55395,60495,60596,66596,67243,68220,75220,82220,84920,86020,89020,91620,94520,100020,101320,102320,110320,110683,124283,128383,130583,134483,140883,149383,150683,156183,158583,161383,163783,164498,165215,168515,172915,173759,174665,178465,179127,179785,180885,183785,186885,187682,187928,191328,191675,194275,195256,197356,198322,201622,202332,204832,205647,206402,207005,207945,210245,211645,212432,215232,217332,221132,221679,222535,223535,223740,224470,224591,225009,225040,225040,225064,225069,225069,225075,225075,225614,226344,226926],\"type\":\"scatter\"}],                        {\"legend\":{\"bgcolor\":\"#F5F6F9\",\"font\":{\"color\":\"#4D5663\"}},\"paper_bgcolor\":\"#F5F6F9\",\"plot_bgcolor\":\"#F5F6F9\",\"template\":{\"data\":{\"barpolar\":[{\"marker\":{\"line\":{\"color\":\"#E5ECF6\",\"width\":0.5},\"pattern\":{\"fillmode\":\"overlay\",\"size\":10,\"solidity\":0.2}},\"type\":\"barpolar\"}],\"bar\":[{\"error_x\":{\"color\":\"#2a3f5f\"},\"error_y\":{\"color\":\"#2a3f5f\"},\"marker\":{\"line\":{\"color\":\"#E5ECF6\",\"width\":0.5},\"pattern\":{\"fillmode\":\"overlay\",\"size\":10,\"solidity\":0.2}},\"type\":\"bar\"}],\"carpet\":[{\"aaxis\":{\"endlinecolor\":\"#2a3f5f\",\"gridcolor\":\"white\",\"linecolor\":\"white\",\"minorgridcolor\":\"white\",\"startlinecolor\":\"#2a3f5f\"},\"baxis\":{\"endlinecolor\":\"#2a3f5f\",\"gridcolor\":\"white\",\"linecolor\":\"white\",\"minorgridcolor\":\"white\",\"startlinecolor\":\"#2a3f5f\"},\"type\":\"carpet\"}],\"choropleth\":[{\"colorbar\":{\"outlinewidth\":0,\"ticks\":\"\"},\"type\":\"choropleth\"}],\"contourcarpet\":[{\"colorbar\":{\"outlinewidth\":0,\"ticks\":\"\"},\"type\":\"contourcarpet\"}],\"contour\":[{\"colorbar\":{\"outlinewidth\":0,\"ticks\":\"\"},\"colorscale\":[[0.0,\"#0d0887\"],[0.1111111111111111,\"#46039f\"],[0.2222222222222222,\"#7201a8\"],[0.3333333333333333,\"#9c179e\"],[0.4444444444444444,\"#bd3786\"],[0.5555555555555556,\"#d8576b\"],[0.6666666666666666,\"#ed7953\"],[0.7777777777777778,\"#fb9f3a\"],[0.8888888888888888,\"#fdca26\"],[1.0,\"#f0f921\"]],\"type\":\"contour\"}],\"heatmapgl\":[{\"colorbar\":{\"outlinewidth\":0,\"ticks\":\"\"},\"colorscale\":[[0.0,\"#0d0887\"],[0.1111111111111111,\"#46039f\"],[0.2222222222222222,\"#7201a8\"],[0.3333333333333333,\"#9c179e\"],[0.4444444444444444,\"#bd3786\"],[0.5555555555555556,\"#d8576b\"],[0.6666666666666666,\"#ed7953\"],[0.7777777777777778,\"#fb9f3a\"],[0.8888888888888888,\"#fdca26\"],[1.0,\"#f0f921\"]],\"type\":\"heatmapgl\"}],\"heatmap\":[{\"colorbar\":{\"outlinewidth\":0,\"ticks\":\"\"},\"colorscale\":[[0.0,\"#0d0887\"],[0.1111111111111111,\"#46039f\"],[0.2222222222222222,\"#7201a8\"],[0.3333333333333333,\"#9c179e\"],[0.4444444444444444,\"#bd3786\"],[0.5555555555555556,\"#d8576b\"],[0.6666666666666666,\"#ed7953\"],[0.7777777777777778,\"#fb9f3a\"],[0.8888888888888888,\"#fdca26\"],[1.0,\"#f0f921\"]],\"type\":\"heatmap\"}],\"histogram2dcontour\":[{\"colorbar\":{\"outlinewidth\":0,\"ticks\":\"\"},\"colorscale\":[[0.0,\"#0d0887\"],[0.1111111111111111,\"#46039f\"],[0.2222222222222222,\"#7201a8\"],[0.3333333333333333,\"#9c179e\"],[0.4444444444444444,\"#bd3786\"],[0.5555555555555556,\"#d8576b\"],[0.6666666666666666,\"#ed7953\"],[0.7777777777777778,\"#fb9f3a\"],[0.8888888888888888,\"#fdca26\"],[1.0,\"#f0f921\"]],\"type\":\"histogram2dcontour\"}],\"histogram2d\":[{\"colorbar\":{\"outlinewidth\":0,\"ticks\":\"\"},\"colorscale\":[[0.0,\"#0d0887\"],[0.1111111111111111,\"#46039f\"],[0.2222222222222222,\"#7201a8\"],[0.3333333333333333,\"#9c179e\"],[0.4444444444444444,\"#bd3786\"],[0.5555555555555556,\"#d8576b\"],[0.6666666666666666,\"#ed7953\"],[0.7777777777777778,\"#fb9f3a\"],[0.8888888888888888,\"#fdca26\"],[1.0,\"#f0f921\"]],\"type\":\"histogram2d\"}],\"histogram\":[{\"marker\":{\"pattern\":{\"fillmode\":\"overlay\",\"size\":10,\"solidity\":0.2}},\"type\":\"histogram\"}],\"mesh3d\":[{\"colorbar\":{\"outlinewidth\":0,\"ticks\":\"\"},\"type\":\"mesh3d\"}],\"parcoords\":[{\"line\":{\"colorbar\":{\"outlinewidth\":0,\"ticks\":\"\"}},\"type\":\"parcoords\"}],\"pie\":[{\"automargin\":true,\"type\":\"pie\"}],\"scatter3d\":[{\"line\":{\"colorbar\":{\"outlinewidth\":0,\"ticks\":\"\"}},\"marker\":{\"colorbar\":{\"outlinewidth\":0,\"ticks\":\"\"}},\"type\":\"scatter3d\"}],\"scattercarpet\":[{\"marker\":{\"colorbar\":{\"outlinewidth\":0,\"ticks\":\"\"}},\"type\":\"scattercarpet\"}],\"scattergeo\":[{\"marker\":{\"colorbar\":{\"outlinewidth\":0,\"ticks\":\"\"}},\"type\":\"scattergeo\"}],\"scattergl\":[{\"marker\":{\"colorbar\":{\"outlinewidth\":0,\"ticks\":\"\"}},\"type\":\"scattergl\"}],\"scattermapbox\":[{\"marker\":{\"colorbar\":{\"outlinewidth\":0,\"ticks\":\"\"}},\"type\":\"scattermapbox\"}],\"scatterpolargl\":[{\"marker\":{\"colorbar\":{\"outlinewidth\":0,\"ticks\":\"\"}},\"type\":\"scatterpolargl\"}],\"scatterpolar\":[{\"marker\":{\"colorbar\":{\"outlinewidth\":0,\"ticks\":\"\"}},\"type\":\"scatterpolar\"}],\"scatter\":[{\"fillpattern\":{\"fillmode\":\"overlay\",\"size\":10,\"solidity\":0.2},\"type\":\"scatter\"}],\"scatterternary\":[{\"marker\":{\"colorbar\":{\"outlinewidth\":0,\"ticks\":\"\"}},\"type\":\"scatterternary\"}],\"surface\":[{\"colorbar\":{\"outlinewidth\":0,\"ticks\":\"\"},\"colorscale\":[[0.0,\"#0d0887\"],[0.1111111111111111,\"#46039f\"],[0.2222222222222222,\"#7201a8\"],[0.3333333333333333,\"#9c179e\"],[0.4444444444444444,\"#bd3786\"],[0.5555555555555556,\"#d8576b\"],[0.6666666666666666,\"#ed7953\"],[0.7777777777777778,\"#fb9f3a\"],[0.8888888888888888,\"#fdca26\"],[1.0,\"#f0f921\"]],\"type\":\"surface\"}],\"table\":[{\"cells\":{\"fill\":{\"color\":\"#EBF0F8\"},\"line\":{\"color\":\"white\"}},\"header\":{\"fill\":{\"color\":\"#C8D4E3\"},\"line\":{\"color\":\"white\"}},\"type\":\"table\"}]},\"layout\":{\"annotationdefaults\":{\"arrowcolor\":\"#2a3f5f\",\"arrowhead\":0,\"arrowwidth\":1},\"autotypenumbers\":\"strict\",\"coloraxis\":{\"colorbar\":{\"outlinewidth\":0,\"ticks\":\"\"}},\"colorscale\":{\"diverging\":[[0,\"#8e0152\"],[0.1,\"#c51b7d\"],[0.2,\"#de77ae\"],[0.3,\"#f1b6da\"],[0.4,\"#fde0ef\"],[0.5,\"#f7f7f7\"],[0.6,\"#e6f5d0\"],[0.7,\"#b8e186\"],[0.8,\"#7fbc41\"],[0.9,\"#4d9221\"],[1,\"#276419\"]],\"sequential\":[[0.0,\"#0d0887\"],[0.1111111111111111,\"#46039f\"],[0.2222222222222222,\"#7201a8\"],[0.3333333333333333,\"#9c179e\"],[0.4444444444444444,\"#bd3786\"],[0.5555555555555556,\"#d8576b\"],[0.6666666666666666,\"#ed7953\"],[0.7777777777777778,\"#fb9f3a\"],[0.8888888888888888,\"#fdca26\"],[1.0,\"#f0f921\"]],\"sequentialminus\":[[0.0,\"#0d0887\"],[0.1111111111111111,\"#46039f\"],[0.2222222222222222,\"#7201a8\"],[0.3333333333333333,\"#9c179e\"],[0.4444444444444444,\"#bd3786\"],[0.5555555555555556,\"#d8576b\"],[0.6666666666666666,\"#ed7953\"],[0.7777777777777778,\"#fb9f3a\"],[0.8888888888888888,\"#fdca26\"],[1.0,\"#f0f921\"]]},\"colorway\":[\"#636efa\",\"#EF553B\",\"#00cc96\",\"#ab63fa\",\"#FFA15A\",\"#19d3f3\",\"#FF6692\",\"#B6E880\",\"#FF97FF\",\"#FECB52\"],\"font\":{\"color\":\"#2a3f5f\"},\"geo\":{\"bgcolor\":\"white\",\"lakecolor\":\"white\",\"landcolor\":\"#E5ECF6\",\"showlakes\":true,\"showland\":true,\"subunitcolor\":\"white\"},\"hoverlabel\":{\"align\":\"left\"},\"hovermode\":\"closest\",\"mapbox\":{\"style\":\"light\"},\"paper_bgcolor\":\"white\",\"plot_bgcolor\":\"#E5ECF6\",\"polar\":{\"angularaxis\":{\"gridcolor\":\"white\",\"linecolor\":\"white\",\"ticks\":\"\"},\"bgcolor\":\"#E5ECF6\",\"radialaxis\":{\"gridcolor\":\"white\",\"linecolor\":\"white\",\"ticks\":\"\"}},\"scene\":{\"xaxis\":{\"backgroundcolor\":\"#E5ECF6\",\"gridcolor\":\"white\",\"gridwidth\":2,\"linecolor\":\"white\",\"showbackground\":true,\"ticks\":\"\",\"zerolinecolor\":\"white\"},\"yaxis\":{\"backgroundcolor\":\"#E5ECF6\",\"gridcolor\":\"white\",\"gridwidth\":2,\"linecolor\":\"white\",\"showbackground\":true,\"ticks\":\"\",\"zerolinecolor\":\"white\"},\"zaxis\":{\"backgroundcolor\":\"#E5ECF6\",\"gridcolor\":\"white\",\"gridwidth\":2,\"linecolor\":\"white\",\"showbackground\":true,\"ticks\":\"\",\"zerolinecolor\":\"white\"}},\"shapedefaults\":{\"line\":{\"color\":\"#2a3f5f\"}},\"ternary\":{\"aaxis\":{\"gridcolor\":\"white\",\"linecolor\":\"white\",\"ticks\":\"\"},\"baxis\":{\"gridcolor\":\"white\",\"linecolor\":\"white\",\"ticks\":\"\"},\"bgcolor\":\"#E5ECF6\",\"caxis\":{\"gridcolor\":\"white\",\"linecolor\":\"white\",\"ticks\":\"\"}},\"title\":{\"x\":0.05},\"xaxis\":{\"automargin\":true,\"gridcolor\":\"white\",\"linecolor\":\"white\",\"ticks\":\"\",\"title\":{\"standoff\":15},\"zerolinecolor\":\"white\",\"zerolinewidth\":2},\"yaxis\":{\"automargin\":true,\"gridcolor\":\"white\",\"linecolor\":\"white\",\"ticks\":\"\",\"title\":{\"standoff\":15},\"zerolinecolor\":\"white\",\"zerolinewidth\":2}}},\"title\":{\"font\":{\"color\":\"#4D5663\"},\"text\":\"Cumulative Claps Until 2019-01-01\"},\"xaxis\":{\"gridcolor\":\"#E1E5ED\",\"showgrid\":true,\"tickfont\":{\"color\":\"#4D5663\"},\"title\":{\"font\":{\"color\":\"#4D5663\"},\"text\":\"published date\"},\"zerolinecolor\":\"#E1E5ED\"},\"yaxis\":{\"gridcolor\":\"#E1E5ED\",\"showgrid\":true,\"tickfont\":{\"color\":\"#4D5663\"},\"title\":{\"font\":{\"color\":\"#4D5663\"},\"text\":\"claps\"},\"zerolinecolor\":\"#E1E5ED\"}},                        {\"showLink\": true, \"linkText\": \"Export to plot.ly\", \"plotlyServerURL\": \"https://plot.ly\", \"responsive\": true}                    ).then(function(){\n                            \nvar gd = document.getElementById('c7391527-451e-496d-88ed-6f856bfac44d');\nvar x = new MutationObserver(function (mutations, observer) {{\n        var display = window.getComputedStyle(gd).display;\n        if (!display || display === 'none') {{\n            console.log([gd, 'removed!']);\n            Plotly.purge(gd);\n            observer.disconnect();\n        }}\n}});\n\n// Listen for the removal of the full notebook cells\nvar notebookContainer = gd.closest('#notebook-container');\nif (notebookContainer) {{\n    x.observe(notebookContainer, {childList: true});\n}}\n\n// Listen for the clearing of the current output cell\nvar outputEl = gd.closest('.output');\nif (outputEl) {{\n    x.observe(outputEl, {childList: true});\n}}\n\n                        })                };                });            </script>        </div>"
                },
                "metadata": {}
              }
            ]
          }
        },
        "16d1eaa8d7984cdbb1c515df1bc9d19d": {
          "model_module": "@jupyter-widgets/base",
          "model_name": "LayoutModel",
          "model_module_version": "1.2.0",
          "state": {
            "_model_module": "@jupyter-widgets/base",
            "_model_module_version": "1.2.0",
            "_model_name": "LayoutModel",
            "_view_count": null,
            "_view_module": "@jupyter-widgets/base",
            "_view_module_version": "1.2.0",
            "_view_name": "LayoutView",
            "align_content": null,
            "align_items": null,
            "align_self": null,
            "border": null,
            "bottom": null,
            "display": null,
            "flex": null,
            "flex_flow": null,
            "grid_area": null,
            "grid_auto_columns": null,
            "grid_auto_flow": null,
            "grid_auto_rows": null,
            "grid_column": null,
            "grid_gap": null,
            "grid_row": null,
            "grid_template_areas": null,
            "grid_template_columns": null,
            "grid_template_rows": null,
            "height": null,
            "justify_content": null,
            "justify_items": null,
            "left": null,
            "margin": null,
            "max_height": null,
            "max_width": null,
            "min_height": null,
            "min_width": null,
            "object_fit": null,
            "object_position": null,
            "order": null,
            "overflow": null,
            "overflow_x": null,
            "overflow_y": null,
            "padding": null,
            "right": null,
            "top": null,
            "visibility": null,
            "width": null
          }
        },
        "cff17a8accf24a7a8bf1dd99fa7e2497": {
          "model_module": "@jupyter-widgets/base",
          "model_name": "LayoutModel",
          "model_module_version": "1.2.0",
          "state": {
            "_model_module": "@jupyter-widgets/base",
            "_model_module_version": "1.2.0",
            "_model_name": "LayoutModel",
            "_view_count": null,
            "_view_module": "@jupyter-widgets/base",
            "_view_module_version": "1.2.0",
            "_view_name": "LayoutView",
            "align_content": null,
            "align_items": null,
            "align_self": null,
            "border": null,
            "bottom": null,
            "display": null,
            "flex": null,
            "flex_flow": null,
            "grid_area": null,
            "grid_auto_columns": null,
            "grid_auto_flow": null,
            "grid_auto_rows": null,
            "grid_column": null,
            "grid_gap": null,
            "grid_row": null,
            "grid_template_areas": null,
            "grid_template_columns": null,
            "grid_template_rows": null,
            "height": null,
            "justify_content": null,
            "justify_items": null,
            "left": null,
            "margin": null,
            "max_height": null,
            "max_width": null,
            "min_height": null,
            "min_width": null,
            "object_fit": null,
            "object_position": null,
            "order": null,
            "overflow": null,
            "overflow_x": null,
            "overflow_y": null,
            "padding": null,
            "right": null,
            "top": null,
            "visibility": null,
            "width": null
          }
        },
        "e1c84c807bb147aba44d3d65ac55bd2a": {
          "model_module": "@jupyter-widgets/controls",
          "model_name": "DescriptionStyleModel",
          "model_module_version": "1.5.0",
          "state": {
            "_model_module": "@jupyter-widgets/controls",
            "_model_module_version": "1.5.0",
            "_model_name": "DescriptionStyleModel",
            "_view_count": null,
            "_view_module": "@jupyter-widgets/base",
            "_view_module_version": "1.2.0",
            "_view_name": "StyleView",
            "description_width": ""
          }
        },
        "0df3803dccda4eea865972fcf2938ac2": {
          "model_module": "@jupyter-widgets/base",
          "model_name": "LayoutModel",
          "model_module_version": "1.2.0",
          "state": {
            "_model_module": "@jupyter-widgets/base",
            "_model_module_version": "1.2.0",
            "_model_name": "LayoutModel",
            "_view_count": null,
            "_view_module": "@jupyter-widgets/base",
            "_view_module_version": "1.2.0",
            "_view_name": "LayoutView",
            "align_content": null,
            "align_items": null,
            "align_self": null,
            "border": null,
            "bottom": null,
            "display": null,
            "flex": null,
            "flex_flow": null,
            "grid_area": null,
            "grid_auto_columns": null,
            "grid_auto_flow": null,
            "grid_auto_rows": null,
            "grid_column": null,
            "grid_gap": null,
            "grid_row": null,
            "grid_template_areas": null,
            "grid_template_columns": null,
            "grid_template_rows": null,
            "height": null,
            "justify_content": null,
            "justify_items": null,
            "left": null,
            "margin": null,
            "max_height": null,
            "max_width": null,
            "min_height": null,
            "min_width": null,
            "object_fit": null,
            "object_position": null,
            "order": null,
            "overflow": null,
            "overflow_x": null,
            "overflow_y": null,
            "padding": null,
            "right": null,
            "top": null,
            "visibility": null,
            "width": null
          }
        },
        "e16b56960e8e41aa9f7388ae2c809be5": {
          "model_module": "@jupyter-widgets/controls",
          "model_name": "DescriptionStyleModel",
          "model_module_version": "1.5.0",
          "state": {
            "_model_module": "@jupyter-widgets/controls",
            "_model_module_version": "1.5.0",
            "_model_name": "DescriptionStyleModel",
            "_view_count": null,
            "_view_module": "@jupyter-widgets/base",
            "_view_module_version": "1.2.0",
            "_view_name": "StyleView",
            "description_width": ""
          }
        },
        "6a462091ec8346268b5c4f15f47eeaaf": {
          "model_module": "@jupyter-widgets/base",
          "model_name": "LayoutModel",
          "model_module_version": "1.2.0",
          "state": {
            "_model_module": "@jupyter-widgets/base",
            "_model_module_version": "1.2.0",
            "_model_name": "LayoutModel",
            "_view_count": null,
            "_view_module": "@jupyter-widgets/base",
            "_view_module_version": "1.2.0",
            "_view_name": "LayoutView",
            "align_content": null,
            "align_items": null,
            "align_self": null,
            "border": null,
            "bottom": null,
            "display": null,
            "flex": null,
            "flex_flow": null,
            "grid_area": null,
            "grid_auto_columns": null,
            "grid_auto_flow": null,
            "grid_auto_rows": null,
            "grid_column": null,
            "grid_gap": null,
            "grid_row": null,
            "grid_template_areas": null,
            "grid_template_columns": null,
            "grid_template_rows": null,
            "height": null,
            "justify_content": null,
            "justify_items": null,
            "left": null,
            "margin": null,
            "max_height": null,
            "max_width": null,
            "min_height": null,
            "min_width": null,
            "object_fit": null,
            "object_position": null,
            "order": null,
            "overflow": null,
            "overflow_x": null,
            "overflow_y": null,
            "padding": null,
            "right": null,
            "top": null,
            "visibility": null,
            "width": null
          }
        }
      }
    }
  },
  "cells": [
    {
      "cell_type": "markdown",
      "source": [
        "## Interactive Python Visualizations"
      ],
      "metadata": {
        "id": "gRImQt-BgWO_"
      }
    },
    {
      "cell_type": "code",
      "source": [
        "pip install scipy"
      ],
      "metadata": {
        "colab": {
          "base_uri": "https://localhost:8080/"
        },
        "id": "E_MUMh4UrGo5",
        "outputId": "6e14e65c-91a9-4022-f784-260b7285fcab"
      },
      "execution_count": null,
      "outputs": [
        {
          "output_type": "stream",
          "name": "stdout",
          "text": [
            "Requirement already satisfied: scipy in /usr/local/lib/python3.10/dist-packages (1.11.4)\n",
            "Requirement already satisfied: numpy<1.28.0,>=1.21.6 in /usr/local/lib/python3.10/dist-packages (from scipy) (1.25.2)\n"
          ]
        }
      ]
    },
    {
      "cell_type": "code",
      "source": [
        "pip install ipywidgets"
      ],
      "metadata": {
        "colab": {
          "base_uri": "https://localhost:8080/"
        },
        "id": "zclzgg8ArKdn",
        "outputId": "e1e2954d-0296-4d46-a15a-17b2fd89602b"
      },
      "execution_count": null,
      "outputs": [
        {
          "output_type": "stream",
          "name": "stdout",
          "text": [
            "Requirement already satisfied: ipywidgets in /usr/local/lib/python3.10/dist-packages (7.7.1)\n",
            "Requirement already satisfied: ipykernel>=4.5.1 in /usr/local/lib/python3.10/dist-packages (from ipywidgets) (5.5.6)\n",
            "Requirement already satisfied: ipython-genutils~=0.2.0 in /usr/local/lib/python3.10/dist-packages (from ipywidgets) (0.2.0)\n",
            "Requirement already satisfied: traitlets>=4.3.1 in /usr/local/lib/python3.10/dist-packages (from ipywidgets) (5.7.1)\n",
            "Requirement already satisfied: widgetsnbextension~=3.6.0 in /usr/local/lib/python3.10/dist-packages (from ipywidgets) (3.6.6)\n",
            "Requirement already satisfied: ipython>=4.0.0 in /usr/local/lib/python3.10/dist-packages (from ipywidgets) (7.34.0)\n",
            "Requirement already satisfied: jupyterlab-widgets>=1.0.0 in /usr/local/lib/python3.10/dist-packages (from ipywidgets) (3.0.10)\n",
            "Requirement already satisfied: jupyter-client in /usr/local/lib/python3.10/dist-packages (from ipykernel>=4.5.1->ipywidgets) (6.1.12)\n",
            "Requirement already satisfied: tornado>=4.2 in /usr/local/lib/python3.10/dist-packages (from ipykernel>=4.5.1->ipywidgets) (6.3.3)\n",
            "Requirement already satisfied: setuptools>=18.5 in /usr/local/lib/python3.10/dist-packages (from ipython>=4.0.0->ipywidgets) (67.7.2)\n",
            "Collecting jedi>=0.16 (from ipython>=4.0.0->ipywidgets)\n",
            "  Downloading jedi-0.19.1-py2.py3-none-any.whl (1.6 MB)\n",
            "\u001b[2K     \u001b[90m━━━━━━━━━━━━━━━━━━━━━━━━━━━━━━━━━━━━━━━━\u001b[0m \u001b[32m1.6/1.6 MB\u001b[0m \u001b[31m10.3 MB/s\u001b[0m eta \u001b[36m0:00:00\u001b[0m\n",
            "\u001b[?25hRequirement already satisfied: decorator in /usr/local/lib/python3.10/dist-packages (from ipython>=4.0.0->ipywidgets) (4.4.2)\n",
            "Requirement already satisfied: pickleshare in /usr/local/lib/python3.10/dist-packages (from ipython>=4.0.0->ipywidgets) (0.7.5)\n",
            "Requirement already satisfied: prompt-toolkit!=3.0.0,!=3.0.1,<3.1.0,>=2.0.0 in /usr/local/lib/python3.10/dist-packages (from ipython>=4.0.0->ipywidgets) (3.0.43)\n",
            "Requirement already satisfied: pygments in /usr/local/lib/python3.10/dist-packages (from ipython>=4.0.0->ipywidgets) (2.16.1)\n",
            "Requirement already satisfied: backcall in /usr/local/lib/python3.10/dist-packages (from ipython>=4.0.0->ipywidgets) (0.2.0)\n",
            "Requirement already satisfied: matplotlib-inline in /usr/local/lib/python3.10/dist-packages (from ipython>=4.0.0->ipywidgets) (0.1.7)\n",
            "Requirement already satisfied: pexpect>4.3 in /usr/local/lib/python3.10/dist-packages (from ipython>=4.0.0->ipywidgets) (4.9.0)\n",
            "Requirement already satisfied: notebook>=4.4.1 in /usr/local/lib/python3.10/dist-packages (from widgetsnbextension~=3.6.0->ipywidgets) (6.5.5)\n",
            "Requirement already satisfied: parso<0.9.0,>=0.8.3 in /usr/local/lib/python3.10/dist-packages (from jedi>=0.16->ipython>=4.0.0->ipywidgets) (0.8.4)\n",
            "Requirement already satisfied: jinja2 in /usr/local/lib/python3.10/dist-packages (from notebook>=4.4.1->widgetsnbextension~=3.6.0->ipywidgets) (3.1.4)\n",
            "Requirement already satisfied: pyzmq<25,>=17 in /usr/local/lib/python3.10/dist-packages (from notebook>=4.4.1->widgetsnbextension~=3.6.0->ipywidgets) (24.0.1)\n",
            "Requirement already satisfied: argon2-cffi in /usr/local/lib/python3.10/dist-packages (from notebook>=4.4.1->widgetsnbextension~=3.6.0->ipywidgets) (23.1.0)\n",
            "Requirement already satisfied: jupyter-core>=4.6.1 in /usr/local/lib/python3.10/dist-packages (from notebook>=4.4.1->widgetsnbextension~=3.6.0->ipywidgets) (5.7.2)\n",
            "Requirement already satisfied: nbformat in /usr/local/lib/python3.10/dist-packages (from notebook>=4.4.1->widgetsnbextension~=3.6.0->ipywidgets) (5.10.4)\n",
            "Requirement already satisfied: nbconvert>=5 in /usr/local/lib/python3.10/dist-packages (from notebook>=4.4.1->widgetsnbextension~=3.6.0->ipywidgets) (6.5.4)\n",
            "Requirement already satisfied: nest-asyncio>=1.5 in /usr/local/lib/python3.10/dist-packages (from notebook>=4.4.1->widgetsnbextension~=3.6.0->ipywidgets) (1.6.0)\n",
            "Requirement already satisfied: Send2Trash>=1.8.0 in /usr/local/lib/python3.10/dist-packages (from notebook>=4.4.1->widgetsnbextension~=3.6.0->ipywidgets) (1.8.3)\n",
            "Requirement already satisfied: terminado>=0.8.3 in /usr/local/lib/python3.10/dist-packages (from notebook>=4.4.1->widgetsnbextension~=3.6.0->ipywidgets) (0.18.1)\n",
            "Requirement already satisfied: prometheus-client in /usr/local/lib/python3.10/dist-packages (from notebook>=4.4.1->widgetsnbextension~=3.6.0->ipywidgets) (0.20.0)\n",
            "Requirement already satisfied: nbclassic>=0.4.7 in /usr/local/lib/python3.10/dist-packages (from notebook>=4.4.1->widgetsnbextension~=3.6.0->ipywidgets) (1.0.0)\n",
            "Requirement already satisfied: python-dateutil>=2.1 in /usr/local/lib/python3.10/dist-packages (from jupyter-client->ipykernel>=4.5.1->ipywidgets) (2.8.2)\n",
            "Requirement already satisfied: ptyprocess>=0.5 in /usr/local/lib/python3.10/dist-packages (from pexpect>4.3->ipython>=4.0.0->ipywidgets) (0.7.0)\n",
            "Requirement already satisfied: wcwidth in /usr/local/lib/python3.10/dist-packages (from prompt-toolkit!=3.0.0,!=3.0.1,<3.1.0,>=2.0.0->ipython>=4.0.0->ipywidgets) (0.2.13)\n",
            "Requirement already satisfied: platformdirs>=2.5 in /usr/local/lib/python3.10/dist-packages (from jupyter-core>=4.6.1->notebook>=4.4.1->widgetsnbextension~=3.6.0->ipywidgets) (4.2.1)\n",
            "Requirement already satisfied: jupyter-server>=1.8 in /usr/local/lib/python3.10/dist-packages (from nbclassic>=0.4.7->notebook>=4.4.1->widgetsnbextension~=3.6.0->ipywidgets) (1.24.0)\n",
            "Requirement already satisfied: notebook-shim>=0.2.3 in /usr/local/lib/python3.10/dist-packages (from nbclassic>=0.4.7->notebook>=4.4.1->widgetsnbextension~=3.6.0->ipywidgets) (0.2.4)\n",
            "Requirement already satisfied: lxml in /usr/local/lib/python3.10/dist-packages (from nbconvert>=5->notebook>=4.4.1->widgetsnbextension~=3.6.0->ipywidgets) (4.9.4)\n",
            "Requirement already satisfied: beautifulsoup4 in /usr/local/lib/python3.10/dist-packages (from nbconvert>=5->notebook>=4.4.1->widgetsnbextension~=3.6.0->ipywidgets) (4.12.3)\n",
            "Requirement already satisfied: bleach in /usr/local/lib/python3.10/dist-packages (from nbconvert>=5->notebook>=4.4.1->widgetsnbextension~=3.6.0->ipywidgets) (6.1.0)\n",
            "Requirement already satisfied: defusedxml in /usr/local/lib/python3.10/dist-packages (from nbconvert>=5->notebook>=4.4.1->widgetsnbextension~=3.6.0->ipywidgets) (0.7.1)\n",
            "Requirement already satisfied: entrypoints>=0.2.2 in /usr/local/lib/python3.10/dist-packages (from nbconvert>=5->notebook>=4.4.1->widgetsnbextension~=3.6.0->ipywidgets) (0.4)\n",
            "Requirement already satisfied: jupyterlab-pygments in /usr/local/lib/python3.10/dist-packages (from nbconvert>=5->notebook>=4.4.1->widgetsnbextension~=3.6.0->ipywidgets) (0.3.0)\n",
            "Requirement already satisfied: MarkupSafe>=2.0 in /usr/local/lib/python3.10/dist-packages (from nbconvert>=5->notebook>=4.4.1->widgetsnbextension~=3.6.0->ipywidgets) (2.1.5)\n",
            "Requirement already satisfied: mistune<2,>=0.8.1 in /usr/local/lib/python3.10/dist-packages (from nbconvert>=5->notebook>=4.4.1->widgetsnbextension~=3.6.0->ipywidgets) (0.8.4)\n",
            "Requirement already satisfied: nbclient>=0.5.0 in /usr/local/lib/python3.10/dist-packages (from nbconvert>=5->notebook>=4.4.1->widgetsnbextension~=3.6.0->ipywidgets) (0.10.0)\n",
            "Requirement already satisfied: packaging in /usr/local/lib/python3.10/dist-packages (from nbconvert>=5->notebook>=4.4.1->widgetsnbextension~=3.6.0->ipywidgets) (24.0)\n",
            "Requirement already satisfied: pandocfilters>=1.4.1 in /usr/local/lib/python3.10/dist-packages (from nbconvert>=5->notebook>=4.4.1->widgetsnbextension~=3.6.0->ipywidgets) (1.5.1)\n",
            "Requirement already satisfied: tinycss2 in /usr/local/lib/python3.10/dist-packages (from nbconvert>=5->notebook>=4.4.1->widgetsnbextension~=3.6.0->ipywidgets) (1.3.0)\n",
            "Requirement already satisfied: fastjsonschema>=2.15 in /usr/local/lib/python3.10/dist-packages (from nbformat->notebook>=4.4.1->widgetsnbextension~=3.6.0->ipywidgets) (2.19.1)\n",
            "Requirement already satisfied: jsonschema>=2.6 in /usr/local/lib/python3.10/dist-packages (from nbformat->notebook>=4.4.1->widgetsnbextension~=3.6.0->ipywidgets) (4.19.2)\n",
            "Requirement already satisfied: six>=1.5 in /usr/local/lib/python3.10/dist-packages (from python-dateutil>=2.1->jupyter-client->ipykernel>=4.5.1->ipywidgets) (1.16.0)\n",
            "Requirement already satisfied: argon2-cffi-bindings in /usr/local/lib/python3.10/dist-packages (from argon2-cffi->notebook>=4.4.1->widgetsnbextension~=3.6.0->ipywidgets) (21.2.0)\n",
            "Requirement already satisfied: attrs>=22.2.0 in /usr/local/lib/python3.10/dist-packages (from jsonschema>=2.6->nbformat->notebook>=4.4.1->widgetsnbextension~=3.6.0->ipywidgets) (23.2.0)\n",
            "Requirement already satisfied: jsonschema-specifications>=2023.03.6 in /usr/local/lib/python3.10/dist-packages (from jsonschema>=2.6->nbformat->notebook>=4.4.1->widgetsnbextension~=3.6.0->ipywidgets) (2023.12.1)\n",
            "Requirement already satisfied: referencing>=0.28.4 in /usr/local/lib/python3.10/dist-packages (from jsonschema>=2.6->nbformat->notebook>=4.4.1->widgetsnbextension~=3.6.0->ipywidgets) (0.35.1)\n",
            "Requirement already satisfied: rpds-py>=0.7.1 in /usr/local/lib/python3.10/dist-packages (from jsonschema>=2.6->nbformat->notebook>=4.4.1->widgetsnbextension~=3.6.0->ipywidgets) (0.18.1)\n",
            "Requirement already satisfied: anyio<4,>=3.1.0 in /usr/local/lib/python3.10/dist-packages (from jupyter-server>=1.8->nbclassic>=0.4.7->notebook>=4.4.1->widgetsnbextension~=3.6.0->ipywidgets) (3.7.1)\n",
            "Requirement already satisfied: websocket-client in /usr/local/lib/python3.10/dist-packages (from jupyter-server>=1.8->nbclassic>=0.4.7->notebook>=4.4.1->widgetsnbextension~=3.6.0->ipywidgets) (1.8.0)\n",
            "Requirement already satisfied: cffi>=1.0.1 in /usr/local/lib/python3.10/dist-packages (from argon2-cffi-bindings->argon2-cffi->notebook>=4.4.1->widgetsnbextension~=3.6.0->ipywidgets) (1.16.0)\n",
            "Requirement already satisfied: soupsieve>1.2 in /usr/local/lib/python3.10/dist-packages (from beautifulsoup4->nbconvert>=5->notebook>=4.4.1->widgetsnbextension~=3.6.0->ipywidgets) (2.5)\n",
            "Requirement already satisfied: webencodings in /usr/local/lib/python3.10/dist-packages (from bleach->nbconvert>=5->notebook>=4.4.1->widgetsnbextension~=3.6.0->ipywidgets) (0.5.1)\n",
            "Requirement already satisfied: idna>=2.8 in /usr/local/lib/python3.10/dist-packages (from anyio<4,>=3.1.0->jupyter-server>=1.8->nbclassic>=0.4.7->notebook>=4.4.1->widgetsnbextension~=3.6.0->ipywidgets) (3.7)\n",
            "Requirement already satisfied: sniffio>=1.1 in /usr/local/lib/python3.10/dist-packages (from anyio<4,>=3.1.0->jupyter-server>=1.8->nbclassic>=0.4.7->notebook>=4.4.1->widgetsnbextension~=3.6.0->ipywidgets) (1.3.1)\n",
            "Requirement already satisfied: exceptiongroup in /usr/local/lib/python3.10/dist-packages (from anyio<4,>=3.1.0->jupyter-server>=1.8->nbclassic>=0.4.7->notebook>=4.4.1->widgetsnbextension~=3.6.0->ipywidgets) (1.2.1)\n",
            "Requirement already satisfied: pycparser in /usr/local/lib/python3.10/dist-packages (from cffi>=1.0.1->argon2-cffi-bindings->argon2-cffi->notebook>=4.4.1->widgetsnbextension~=3.6.0->ipywidgets) (2.22)\n",
            "Installing collected packages: jedi\n",
            "Successfully installed jedi-0.19.1\n"
          ]
        }
      ]
    },
    {
      "cell_type": "code",
      "source": [
        "pip install chart-studio"
      ],
      "metadata": {
        "colab": {
          "base_uri": "https://localhost:8080/"
        },
        "id": "n6e3TSzIguie",
        "outputId": "7cb8c6d8-dcd4-4f38-d046-ac11cd1866e3"
      },
      "execution_count": null,
      "outputs": [
        {
          "output_type": "stream",
          "name": "stdout",
          "text": [
            "Collecting chart-studio\n",
            "  Downloading chart_studio-1.1.0-py3-none-any.whl (64 kB)\n",
            "\u001b[?25l     \u001b[90m━━━━━━━━━━━━━━━━━━━━━━━━━━━━━━━━━━━━━━━━\u001b[0m \u001b[32m0.0/64.4 kB\u001b[0m \u001b[31m?\u001b[0m eta \u001b[36m-:--:--\u001b[0m\r\u001b[2K     \u001b[90m━━━━━━━━━━━━━━━━━━━━━━━━━━━━━━━━━━━━━━━━\u001b[0m \u001b[32m64.4/64.4 kB\u001b[0m \u001b[31m2.3 MB/s\u001b[0m eta \u001b[36m0:00:00\u001b[0m\n",
            "\u001b[?25hRequirement already satisfied: plotly in /usr/local/lib/python3.10/dist-packages (from chart-studio) (5.15.0)\n",
            "Requirement already satisfied: requests in /usr/local/lib/python3.10/dist-packages (from chart-studio) (2.31.0)\n",
            "Collecting retrying>=1.3.3 (from chart-studio)\n",
            "  Downloading retrying-1.3.4-py3-none-any.whl (11 kB)\n",
            "Requirement already satisfied: six in /usr/local/lib/python3.10/dist-packages (from chart-studio) (1.16.0)\n",
            "Requirement already satisfied: tenacity>=6.2.0 in /usr/local/lib/python3.10/dist-packages (from plotly->chart-studio) (8.3.0)\n",
            "Requirement already satisfied: packaging in /usr/local/lib/python3.10/dist-packages (from plotly->chart-studio) (24.0)\n",
            "Requirement already satisfied: charset-normalizer<4,>=2 in /usr/local/lib/python3.10/dist-packages (from requests->chart-studio) (3.3.2)\n",
            "Requirement already satisfied: idna<4,>=2.5 in /usr/local/lib/python3.10/dist-packages (from requests->chart-studio) (3.7)\n",
            "Requirement already satisfied: urllib3<3,>=1.21.1 in /usr/local/lib/python3.10/dist-packages (from requests->chart-studio) (2.0.7)\n",
            "Requirement already satisfied: certifi>=2017.4.17 in /usr/local/lib/python3.10/dist-packages (from requests->chart-studio) (2024.2.2)\n",
            "Installing collected packages: retrying, chart-studio\n",
            "Successfully installed chart-studio-1.1.0 retrying-1.3.4\n"
          ]
        }
      ]
    },
    {
      "cell_type": "code",
      "source": [
        "pip install pyarrow"
      ],
      "metadata": {
        "colab": {
          "base_uri": "https://localhost:8080/"
        },
        "id": "u7yD0EJhrQX4",
        "outputId": "f780f1a7-acd1-45d1-eeba-926f86f249c4"
      },
      "execution_count": null,
      "outputs": [
        {
          "output_type": "stream",
          "name": "stdout",
          "text": [
            "Requirement already satisfied: pyarrow in /usr/local/lib/python3.10/dist-packages (14.0.2)\n",
            "Requirement already satisfied: numpy>=1.16.6 in /usr/local/lib/python3.10/dist-packages (from pyarrow) (1.25.2)\n"
          ]
        }
      ]
    },
    {
      "cell_type": "code",
      "source": [
        "!jupyter nbextension enable --py widgetsnbextension"
      ],
      "metadata": {
        "colab": {
          "base_uri": "https://localhost:8080/"
        },
        "id": "FLhB2aC4rZBn",
        "outputId": "017dece1-6f36-4ac1-8575-68a03f815616"
      },
      "execution_count": null,
      "outputs": [
        {
          "output_type": "stream",
          "name": "stdout",
          "text": [
            "Enabling notebook extension jupyter-js-widgets/extension...\n",
            "Paths used for configuration of notebook: \n",
            "    \t/root/.jupyter/nbconfig/notebook.json\n",
            "Paths used for configuration of notebook: \n",
            "    \t\n",
            "      - Validating: \u001b[32mOK\u001b[0m\n",
            "Paths used for configuration of notebook: \n",
            "    \t/root/.jupyter/nbconfig/notebook.json\n"
          ]
        }
      ]
    },
    {
      "cell_type": "code",
      "source": [
        "pip install cufflinks"
      ],
      "metadata": {
        "colab": {
          "base_uri": "https://localhost:8080/"
        },
        "id": "TH7iPiNtrTmY",
        "outputId": "04ce59bb-623f-4763-e9d2-e05deb5ae6be"
      },
      "execution_count": null,
      "outputs": [
        {
          "output_type": "stream",
          "name": "stdout",
          "text": [
            "Requirement already satisfied: cufflinks in /usr/local/lib/python3.10/dist-packages (0.17.3)\n",
            "Requirement already satisfied: numpy>=1.9.2 in /usr/local/lib/python3.10/dist-packages (from cufflinks) (1.25.2)\n",
            "Requirement already satisfied: pandas>=0.19.2 in /usr/local/lib/python3.10/dist-packages (from cufflinks) (2.0.3)\n",
            "Requirement already satisfied: plotly>=4.1.1 in /usr/local/lib/python3.10/dist-packages (from cufflinks) (5.15.0)\n",
            "Requirement already satisfied: six>=1.9.0 in /usr/local/lib/python3.10/dist-packages (from cufflinks) (1.16.0)\n",
            "Requirement already satisfied: colorlover>=0.2.1 in /usr/local/lib/python3.10/dist-packages (from cufflinks) (0.3.0)\n",
            "Requirement already satisfied: setuptools>=34.4.1 in /usr/local/lib/python3.10/dist-packages (from cufflinks) (67.7.2)\n",
            "Requirement already satisfied: ipython>=5.3.0 in /usr/local/lib/python3.10/dist-packages (from cufflinks) (7.34.0)\n",
            "Requirement already satisfied: ipywidgets>=7.0.0 in /usr/local/lib/python3.10/dist-packages (from cufflinks) (7.7.1)\n",
            "Requirement already satisfied: jedi>=0.16 in /usr/local/lib/python3.10/dist-packages (from ipython>=5.3.0->cufflinks) (0.19.1)\n",
            "Requirement already satisfied: decorator in /usr/local/lib/python3.10/dist-packages (from ipython>=5.3.0->cufflinks) (4.4.2)\n",
            "Requirement already satisfied: pickleshare in /usr/local/lib/python3.10/dist-packages (from ipython>=5.3.0->cufflinks) (0.7.5)\n",
            "Requirement already satisfied: traitlets>=4.2 in /usr/local/lib/python3.10/dist-packages (from ipython>=5.3.0->cufflinks) (5.7.1)\n",
            "Requirement already satisfied: prompt-toolkit!=3.0.0,!=3.0.1,<3.1.0,>=2.0.0 in /usr/local/lib/python3.10/dist-packages (from ipython>=5.3.0->cufflinks) (3.0.43)\n",
            "Requirement already satisfied: pygments in /usr/local/lib/python3.10/dist-packages (from ipython>=5.3.0->cufflinks) (2.16.1)\n",
            "Requirement already satisfied: backcall in /usr/local/lib/python3.10/dist-packages (from ipython>=5.3.0->cufflinks) (0.2.0)\n",
            "Requirement already satisfied: matplotlib-inline in /usr/local/lib/python3.10/dist-packages (from ipython>=5.3.0->cufflinks) (0.1.7)\n",
            "Requirement already satisfied: pexpect>4.3 in /usr/local/lib/python3.10/dist-packages (from ipython>=5.3.0->cufflinks) (4.9.0)\n",
            "Requirement already satisfied: ipykernel>=4.5.1 in /usr/local/lib/python3.10/dist-packages (from ipywidgets>=7.0.0->cufflinks) (5.5.6)\n",
            "Requirement already satisfied: ipython-genutils~=0.2.0 in /usr/local/lib/python3.10/dist-packages (from ipywidgets>=7.0.0->cufflinks) (0.2.0)\n",
            "Requirement already satisfied: widgetsnbextension~=3.6.0 in /usr/local/lib/python3.10/dist-packages (from ipywidgets>=7.0.0->cufflinks) (3.6.6)\n",
            "Requirement already satisfied: jupyterlab-widgets>=1.0.0 in /usr/local/lib/python3.10/dist-packages (from ipywidgets>=7.0.0->cufflinks) (3.0.10)\n",
            "Requirement already satisfied: python-dateutil>=2.8.2 in /usr/local/lib/python3.10/dist-packages (from pandas>=0.19.2->cufflinks) (2.8.2)\n",
            "Requirement already satisfied: pytz>=2020.1 in /usr/local/lib/python3.10/dist-packages (from pandas>=0.19.2->cufflinks) (2023.4)\n",
            "Requirement already satisfied: tzdata>=2022.1 in /usr/local/lib/python3.10/dist-packages (from pandas>=0.19.2->cufflinks) (2024.1)\n",
            "Requirement already satisfied: tenacity>=6.2.0 in /usr/local/lib/python3.10/dist-packages (from plotly>=4.1.1->cufflinks) (8.3.0)\n",
            "Requirement already satisfied: packaging in /usr/local/lib/python3.10/dist-packages (from plotly>=4.1.1->cufflinks) (24.0)\n",
            "Requirement already satisfied: jupyter-client in /usr/local/lib/python3.10/dist-packages (from ipykernel>=4.5.1->ipywidgets>=7.0.0->cufflinks) (6.1.12)\n",
            "Requirement already satisfied: tornado>=4.2 in /usr/local/lib/python3.10/dist-packages (from ipykernel>=4.5.1->ipywidgets>=7.0.0->cufflinks) (6.3.3)\n",
            "Requirement already satisfied: parso<0.9.0,>=0.8.3 in /usr/local/lib/python3.10/dist-packages (from jedi>=0.16->ipython>=5.3.0->cufflinks) (0.8.4)\n",
            "Requirement already satisfied: ptyprocess>=0.5 in /usr/local/lib/python3.10/dist-packages (from pexpect>4.3->ipython>=5.3.0->cufflinks) (0.7.0)\n",
            "Requirement already satisfied: wcwidth in /usr/local/lib/python3.10/dist-packages (from prompt-toolkit!=3.0.0,!=3.0.1,<3.1.0,>=2.0.0->ipython>=5.3.0->cufflinks) (0.2.13)\n",
            "Requirement already satisfied: notebook>=4.4.1 in /usr/local/lib/python3.10/dist-packages (from widgetsnbextension~=3.6.0->ipywidgets>=7.0.0->cufflinks) (6.5.5)\n",
            "Requirement already satisfied: jinja2 in /usr/local/lib/python3.10/dist-packages (from notebook>=4.4.1->widgetsnbextension~=3.6.0->ipywidgets>=7.0.0->cufflinks) (3.1.4)\n",
            "Requirement already satisfied: pyzmq<25,>=17 in /usr/local/lib/python3.10/dist-packages (from notebook>=4.4.1->widgetsnbextension~=3.6.0->ipywidgets>=7.0.0->cufflinks) (24.0.1)\n",
            "Requirement already satisfied: argon2-cffi in /usr/local/lib/python3.10/dist-packages (from notebook>=4.4.1->widgetsnbextension~=3.6.0->ipywidgets>=7.0.0->cufflinks) (23.1.0)\n",
            "Requirement already satisfied: jupyter-core>=4.6.1 in /usr/local/lib/python3.10/dist-packages (from notebook>=4.4.1->widgetsnbextension~=3.6.0->ipywidgets>=7.0.0->cufflinks) (5.7.2)\n",
            "Requirement already satisfied: nbformat in /usr/local/lib/python3.10/dist-packages (from notebook>=4.4.1->widgetsnbextension~=3.6.0->ipywidgets>=7.0.0->cufflinks) (5.10.4)\n",
            "Requirement already satisfied: nbconvert>=5 in /usr/local/lib/python3.10/dist-packages (from notebook>=4.4.1->widgetsnbextension~=3.6.0->ipywidgets>=7.0.0->cufflinks) (6.5.4)\n",
            "Requirement already satisfied: nest-asyncio>=1.5 in /usr/local/lib/python3.10/dist-packages (from notebook>=4.4.1->widgetsnbextension~=3.6.0->ipywidgets>=7.0.0->cufflinks) (1.6.0)\n",
            "Requirement already satisfied: Send2Trash>=1.8.0 in /usr/local/lib/python3.10/dist-packages (from notebook>=4.4.1->widgetsnbextension~=3.6.0->ipywidgets>=7.0.0->cufflinks) (1.8.3)\n",
            "Requirement already satisfied: terminado>=0.8.3 in /usr/local/lib/python3.10/dist-packages (from notebook>=4.4.1->widgetsnbextension~=3.6.0->ipywidgets>=7.0.0->cufflinks) (0.18.1)\n",
            "Requirement already satisfied: prometheus-client in /usr/local/lib/python3.10/dist-packages (from notebook>=4.4.1->widgetsnbextension~=3.6.0->ipywidgets>=7.0.0->cufflinks) (0.20.0)\n",
            "Requirement already satisfied: nbclassic>=0.4.7 in /usr/local/lib/python3.10/dist-packages (from notebook>=4.4.1->widgetsnbextension~=3.6.0->ipywidgets>=7.0.0->cufflinks) (1.0.0)\n",
            "Requirement already satisfied: platformdirs>=2.5 in /usr/local/lib/python3.10/dist-packages (from jupyter-core>=4.6.1->notebook>=4.4.1->widgetsnbextension~=3.6.0->ipywidgets>=7.0.0->cufflinks) (4.2.1)\n",
            "Requirement already satisfied: jupyter-server>=1.8 in /usr/local/lib/python3.10/dist-packages (from nbclassic>=0.4.7->notebook>=4.4.1->widgetsnbextension~=3.6.0->ipywidgets>=7.0.0->cufflinks) (1.24.0)\n",
            "Requirement already satisfied: notebook-shim>=0.2.3 in /usr/local/lib/python3.10/dist-packages (from nbclassic>=0.4.7->notebook>=4.4.1->widgetsnbextension~=3.6.0->ipywidgets>=7.0.0->cufflinks) (0.2.4)\n",
            "Requirement already satisfied: lxml in /usr/local/lib/python3.10/dist-packages (from nbconvert>=5->notebook>=4.4.1->widgetsnbextension~=3.6.0->ipywidgets>=7.0.0->cufflinks) (4.9.4)\n",
            "Requirement already satisfied: beautifulsoup4 in /usr/local/lib/python3.10/dist-packages (from nbconvert>=5->notebook>=4.4.1->widgetsnbextension~=3.6.0->ipywidgets>=7.0.0->cufflinks) (4.12.3)\n",
            "Requirement already satisfied: bleach in /usr/local/lib/python3.10/dist-packages (from nbconvert>=5->notebook>=4.4.1->widgetsnbextension~=3.6.0->ipywidgets>=7.0.0->cufflinks) (6.1.0)\n",
            "Requirement already satisfied: defusedxml in /usr/local/lib/python3.10/dist-packages (from nbconvert>=5->notebook>=4.4.1->widgetsnbextension~=3.6.0->ipywidgets>=7.0.0->cufflinks) (0.7.1)\n",
            "Requirement already satisfied: entrypoints>=0.2.2 in /usr/local/lib/python3.10/dist-packages (from nbconvert>=5->notebook>=4.4.1->widgetsnbextension~=3.6.0->ipywidgets>=7.0.0->cufflinks) (0.4)\n",
            "Requirement already satisfied: jupyterlab-pygments in /usr/local/lib/python3.10/dist-packages (from nbconvert>=5->notebook>=4.4.1->widgetsnbextension~=3.6.0->ipywidgets>=7.0.0->cufflinks) (0.3.0)\n",
            "Requirement already satisfied: MarkupSafe>=2.0 in /usr/local/lib/python3.10/dist-packages (from nbconvert>=5->notebook>=4.4.1->widgetsnbextension~=3.6.0->ipywidgets>=7.0.0->cufflinks) (2.1.5)\n",
            "Requirement already satisfied: mistune<2,>=0.8.1 in /usr/local/lib/python3.10/dist-packages (from nbconvert>=5->notebook>=4.4.1->widgetsnbextension~=3.6.0->ipywidgets>=7.0.0->cufflinks) (0.8.4)\n",
            "Requirement already satisfied: nbclient>=0.5.0 in /usr/local/lib/python3.10/dist-packages (from nbconvert>=5->notebook>=4.4.1->widgetsnbextension~=3.6.0->ipywidgets>=7.0.0->cufflinks) (0.10.0)\n",
            "Requirement already satisfied: pandocfilters>=1.4.1 in /usr/local/lib/python3.10/dist-packages (from nbconvert>=5->notebook>=4.4.1->widgetsnbextension~=3.6.0->ipywidgets>=7.0.0->cufflinks) (1.5.1)\n",
            "Requirement already satisfied: tinycss2 in /usr/local/lib/python3.10/dist-packages (from nbconvert>=5->notebook>=4.4.1->widgetsnbextension~=3.6.0->ipywidgets>=7.0.0->cufflinks) (1.3.0)\n",
            "Requirement already satisfied: fastjsonschema>=2.15 in /usr/local/lib/python3.10/dist-packages (from nbformat->notebook>=4.4.1->widgetsnbextension~=3.6.0->ipywidgets>=7.0.0->cufflinks) (2.19.1)\n",
            "Requirement already satisfied: jsonschema>=2.6 in /usr/local/lib/python3.10/dist-packages (from nbformat->notebook>=4.4.1->widgetsnbextension~=3.6.0->ipywidgets>=7.0.0->cufflinks) (4.19.2)\n",
            "Requirement already satisfied: argon2-cffi-bindings in /usr/local/lib/python3.10/dist-packages (from argon2-cffi->notebook>=4.4.1->widgetsnbextension~=3.6.0->ipywidgets>=7.0.0->cufflinks) (21.2.0)\n",
            "Requirement already satisfied: attrs>=22.2.0 in /usr/local/lib/python3.10/dist-packages (from jsonschema>=2.6->nbformat->notebook>=4.4.1->widgetsnbextension~=3.6.0->ipywidgets>=7.0.0->cufflinks) (23.2.0)\n",
            "Requirement already satisfied: jsonschema-specifications>=2023.03.6 in /usr/local/lib/python3.10/dist-packages (from jsonschema>=2.6->nbformat->notebook>=4.4.1->widgetsnbextension~=3.6.0->ipywidgets>=7.0.0->cufflinks) (2023.12.1)\n",
            "Requirement already satisfied: referencing>=0.28.4 in /usr/local/lib/python3.10/dist-packages (from jsonschema>=2.6->nbformat->notebook>=4.4.1->widgetsnbextension~=3.6.0->ipywidgets>=7.0.0->cufflinks) (0.35.1)\n",
            "Requirement already satisfied: rpds-py>=0.7.1 in /usr/local/lib/python3.10/dist-packages (from jsonschema>=2.6->nbformat->notebook>=4.4.1->widgetsnbextension~=3.6.0->ipywidgets>=7.0.0->cufflinks) (0.18.1)\n",
            "Requirement already satisfied: anyio<4,>=3.1.0 in /usr/local/lib/python3.10/dist-packages (from jupyter-server>=1.8->nbclassic>=0.4.7->notebook>=4.4.1->widgetsnbextension~=3.6.0->ipywidgets>=7.0.0->cufflinks) (3.7.1)\n",
            "Requirement already satisfied: websocket-client in /usr/local/lib/python3.10/dist-packages (from jupyter-server>=1.8->nbclassic>=0.4.7->notebook>=4.4.1->widgetsnbextension~=3.6.0->ipywidgets>=7.0.0->cufflinks) (1.8.0)\n",
            "Requirement already satisfied: cffi>=1.0.1 in /usr/local/lib/python3.10/dist-packages (from argon2-cffi-bindings->argon2-cffi->notebook>=4.4.1->widgetsnbextension~=3.6.0->ipywidgets>=7.0.0->cufflinks) (1.16.0)\n",
            "Requirement already satisfied: soupsieve>1.2 in /usr/local/lib/python3.10/dist-packages (from beautifulsoup4->nbconvert>=5->notebook>=4.4.1->widgetsnbextension~=3.6.0->ipywidgets>=7.0.0->cufflinks) (2.5)\n",
            "Requirement already satisfied: webencodings in /usr/local/lib/python3.10/dist-packages (from bleach->nbconvert>=5->notebook>=4.4.1->widgetsnbextension~=3.6.0->ipywidgets>=7.0.0->cufflinks) (0.5.1)\n",
            "Requirement already satisfied: idna>=2.8 in /usr/local/lib/python3.10/dist-packages (from anyio<4,>=3.1.0->jupyter-server>=1.8->nbclassic>=0.4.7->notebook>=4.4.1->widgetsnbextension~=3.6.0->ipywidgets>=7.0.0->cufflinks) (3.7)\n",
            "Requirement already satisfied: sniffio>=1.1 in /usr/local/lib/python3.10/dist-packages (from anyio<4,>=3.1.0->jupyter-server>=1.8->nbclassic>=0.4.7->notebook>=4.4.1->widgetsnbextension~=3.6.0->ipywidgets>=7.0.0->cufflinks) (1.3.1)\n",
            "Requirement already satisfied: exceptiongroup in /usr/local/lib/python3.10/dist-packages (from anyio<4,>=3.1.0->jupyter-server>=1.8->nbclassic>=0.4.7->notebook>=4.4.1->widgetsnbextension~=3.6.0->ipywidgets>=7.0.0->cufflinks) (1.2.1)\n",
            "Requirement already satisfied: pycparser in /usr/local/lib/python3.10/dist-packages (from cffi>=1.0.1->argon2-cffi-bindings->argon2-cffi->notebook>=4.4.1->widgetsnbextension~=3.6.0->ipywidgets>=7.0.0->cufflinks) (2.22)\n"
          ]
        }
      ]
    },
    {
      "cell_type": "code",
      "execution_count": null,
      "metadata": {
        "colab": {
          "base_uri": "https://localhost:8080/",
          "height": 17
        },
        "id": "pjvj6vHzgUtE",
        "outputId": "1f9e0288-8611-4f7b-f1c0-89784d137004"
      },
      "outputs": [
        {
          "output_type": "display_data",
          "data": {
            "text/html": [
              "        <script type=\"text/javascript\">\n",
              "        window.PlotlyConfig = {MathJaxConfig: 'local'};\n",
              "        if (window.MathJax && window.MathJax.Hub && window.MathJax.Hub.Config) {window.MathJax.Hub.Config({SVG: {font: \"STIX-Web\"}});}\n",
              "        if (typeof require !== 'undefined') {\n",
              "        require.undef(\"plotly\");\n",
              "        requirejs.config({\n",
              "            paths: {\n",
              "                'plotly': ['https://cdn.plot.ly/plotly-2.24.1.min']\n",
              "            }\n",
              "        });\n",
              "        require(['plotly'], function(Plotly) {\n",
              "            window._Plotly = Plotly;\n",
              "        });\n",
              "        }\n",
              "        </script>\n",
              "        "
            ]
          },
          "metadata": {}
        },
        {
          "output_type": "display_data",
          "data": {
            "text/html": [
              "        <script type=\"text/javascript\">\n",
              "        window.PlotlyConfig = {MathJaxConfig: 'local'};\n",
              "        if (window.MathJax && window.MathJax.Hub && window.MathJax.Hub.Config) {window.MathJax.Hub.Config({SVG: {font: \"STIX-Web\"}});}\n",
              "        if (typeof require !== 'undefined') {\n",
              "        require.undef(\"plotly\");\n",
              "        requirejs.config({\n",
              "            paths: {\n",
              "                'plotly': ['https://cdn.plot.ly/plotly-2.24.1.min']\n",
              "            }\n",
              "        });\n",
              "        require(['plotly'], function(Plotly) {\n",
              "            window._Plotly = Plotly;\n",
              "        });\n",
              "        }\n",
              "        </script>\n",
              "        "
            ]
          },
          "metadata": {}
        }
      ],
      "source": [
        "# Standard data science helpers\n",
        "import numpy as np\n",
        "import pandas as pd\n",
        "import scipy\n",
        "\n",
        "# Instantiate the Plotly charting library.\n",
        "import chart_studio.plotly as py\n",
        "import plotly.graph_objs as go\n",
        "import plotly.express as px\n",
        "# We use plotly.offline as this allows us to create interactive\n",
        "# visualisations without the use of an internet connection,\n",
        "# making our notebook more distributable to others.\n",
        "from plotly.offline import iplot, init_notebook_mode\n",
        "init_notebook_mode(connected=True)\n",
        "\n",
        "# The Cufflinks library allows us to directly bind\n",
        "# Pandas DataFrames to Plotly charts.\n",
        "import cufflinks as cf\n",
        "# Once again, we use the Cufflinks library in offline mode.\n",
        "cf.go_offline(connected=True)\n",
        "cf.set_config_file(colorscale='plotly', world_readable=True)\n",
        "\n",
        "# Extra options. We use these to make our interactive\n",
        "# visualisations more aesthetically appealing.\n",
        "from IPython.core.display import HTML\n",
        "pd.options.display.max_rows = 30\n",
        "pd.options.display.max_columns = 25\n",
        "\n",
        "# Show all code cells outputs.\n",
        "from IPython.core.interactiveshell import InteractiveShell\n",
        "InteractiveShell.ast_node_interactivity = 'all'"
      ]
    },
    {
      "cell_type": "code",
      "source": [
        "df = pd.read_parquet('https://github.com/WillKoehrsen/Data-Analysis/blob/master/medium/data/medium_data_2019_01_26?raw=true')\n",
        "df.head()"
      ],
      "metadata": {
        "colab": {
          "base_uri": "https://localhost:8080/",
          "height": 626
        },
        "id": "8bZRmSnkglwB",
        "outputId": "89c961ae-5691-4032-f744-60679b6665e2"
      },
      "execution_count": null,
      "outputs": [
        {
          "output_type": "execute_result",
          "data": {
            "text/plain": [
              "     claps  days_since_publication  fans  \\\n",
              "129      2              597.301123     2   \n",
              "125     18              589.983168     3   \n",
              "132     51              577.363292    20   \n",
              "126      0              576.520688     0   \n",
              "121      0              572.533035     0   \n",
              "\n",
              "                                                  link  num_responses  \\\n",
              "129  https://medium.com/p/screw-the-environment-but...              0   \n",
              "125  https://medium.com/p/the-vanquishing-of-war-pl...              0   \n",
              "132  https://medium.com/p/capstone-project-mercedes...              0   \n",
              "126  https://medium.com/p/home-of-the-scared-5af0fe...              0   \n",
              "121  https://medium.com/p/the-triumph-of-peace-f485...              0   \n",
              "\n",
              "    publication      published_date  read_ratio  read_time  reads  \\\n",
              "129        None 2017-06-10 14:25:00       42.17          7     70   \n",
              "125        None 2017-06-17 22:02:00       30.34         14     54   \n",
              "132        None 2017-06-30 12:55:00       20.02         42    222   \n",
              "126        None 2017-07-01 09:08:00       35.85          9     19   \n",
              "121        None 2017-07-05 08:51:00        8.47         14      5   \n",
              "\n",
              "           started_date                                           tags  \\\n",
              "129 2017-06-10 14:24:00                    [Climate Change, Economics]   \n",
              "125 2017-06-17 22:02:00  [Climate Change, Humanity, Optimism, History]   \n",
              "132 2017-06-30 12:00:00    [Machine Learning, Python, Udacity, Kaggle]   \n",
              "126 2017-06-30 18:21:00       [Politics, Books, News, Media Criticism]   \n",
              "121 2017-07-03 20:18:00         [Books, Psychology, History, Humanism]   \n",
              "\n",
              "                                                  text  \\\n",
              "129  Screw the Environment, but Consider Your Walle...   \n",
              "125  The Vanquishing of War, Plague and Famine Part...   \n",
              "132  Capstone Project: Mercedes-Benz Greener Manufa...   \n",
              "126  Home of the Scared A review of A Culture of Fe...   \n",
              "121  The Triumph of Peace A review of The Better An...   \n",
              "\n",
              "                                                 title  title_word_count  \\\n",
              "129    Screw the Environment, but Consider Your Wallet                 8   \n",
              "125          The Vanquishing of War, Plague and Famine                 8   \n",
              "132  Capstone Project: Mercedes-Benz Greener Manufa...                 7   \n",
              "126                                 Home of the Scared                 4   \n",
              "121                               The Triumph of Peace                 4   \n",
              "\n",
              "          type  views  word_count  claps_per_word  editing_days  \\\n",
              "129  published    166        1859        0.001076             0   \n",
              "125  published    178        3891        0.004626             0   \n",
              "132  published   1109       12025        0.004241             0   \n",
              "126  published     53        2533        0.000000             0   \n",
              "121  published     59        3892        0.000000             1   \n",
              "\n",
              "     <tag>Education  <tag>Data Science  <tag>Towards Data Science  \\\n",
              "129               0                  0                          0   \n",
              "125               0                  0                          0   \n",
              "132               0                  0                          0   \n",
              "126               0                  0                          0   \n",
              "121               0                  0                          0   \n",
              "\n",
              "     <tag>Machine Learning  <tag>Python  \n",
              "129                      0            0  \n",
              "125                      0            0  \n",
              "132                      1            1  \n",
              "126                      0            0  \n",
              "121                      0            0  "
            ],
            "text/html": [
              "\n",
              "  <div id=\"df-543284ca-4a6a-45b2-99dd-7ab3a9fcd341\" class=\"colab-df-container\">\n",
              "    <div>\n",
              "<style scoped>\n",
              "    .dataframe tbody tr th:only-of-type {\n",
              "        vertical-align: middle;\n",
              "    }\n",
              "\n",
              "    .dataframe tbody tr th {\n",
              "        vertical-align: top;\n",
              "    }\n",
              "\n",
              "    .dataframe thead th {\n",
              "        text-align: right;\n",
              "    }\n",
              "</style>\n",
              "<table border=\"1\" class=\"dataframe\">\n",
              "  <thead>\n",
              "    <tr style=\"text-align: right;\">\n",
              "      <th></th>\n",
              "      <th>claps</th>\n",
              "      <th>days_since_publication</th>\n",
              "      <th>fans</th>\n",
              "      <th>link</th>\n",
              "      <th>num_responses</th>\n",
              "      <th>publication</th>\n",
              "      <th>published_date</th>\n",
              "      <th>read_ratio</th>\n",
              "      <th>read_time</th>\n",
              "      <th>reads</th>\n",
              "      <th>started_date</th>\n",
              "      <th>tags</th>\n",
              "      <th>text</th>\n",
              "      <th>title</th>\n",
              "      <th>title_word_count</th>\n",
              "      <th>type</th>\n",
              "      <th>views</th>\n",
              "      <th>word_count</th>\n",
              "      <th>claps_per_word</th>\n",
              "      <th>editing_days</th>\n",
              "      <th>&lt;tag&gt;Education</th>\n",
              "      <th>&lt;tag&gt;Data Science</th>\n",
              "      <th>&lt;tag&gt;Towards Data Science</th>\n",
              "      <th>&lt;tag&gt;Machine Learning</th>\n",
              "      <th>&lt;tag&gt;Python</th>\n",
              "    </tr>\n",
              "  </thead>\n",
              "  <tbody>\n",
              "    <tr>\n",
              "      <th>129</th>\n",
              "      <td>2</td>\n",
              "      <td>597.301123</td>\n",
              "      <td>2</td>\n",
              "      <td>https://medium.com/p/screw-the-environment-but...</td>\n",
              "      <td>0</td>\n",
              "      <td>None</td>\n",
              "      <td>2017-06-10 14:25:00</td>\n",
              "      <td>42.17</td>\n",
              "      <td>7</td>\n",
              "      <td>70</td>\n",
              "      <td>2017-06-10 14:24:00</td>\n",
              "      <td>[Climate Change, Economics]</td>\n",
              "      <td>Screw the Environment, but Consider Your Walle...</td>\n",
              "      <td>Screw the Environment, but Consider Your Wallet</td>\n",
              "      <td>8</td>\n",
              "      <td>published</td>\n",
              "      <td>166</td>\n",
              "      <td>1859</td>\n",
              "      <td>0.001076</td>\n",
              "      <td>0</td>\n",
              "      <td>0</td>\n",
              "      <td>0</td>\n",
              "      <td>0</td>\n",
              "      <td>0</td>\n",
              "      <td>0</td>\n",
              "    </tr>\n",
              "    <tr>\n",
              "      <th>125</th>\n",
              "      <td>18</td>\n",
              "      <td>589.983168</td>\n",
              "      <td>3</td>\n",
              "      <td>https://medium.com/p/the-vanquishing-of-war-pl...</td>\n",
              "      <td>0</td>\n",
              "      <td>None</td>\n",
              "      <td>2017-06-17 22:02:00</td>\n",
              "      <td>30.34</td>\n",
              "      <td>14</td>\n",
              "      <td>54</td>\n",
              "      <td>2017-06-17 22:02:00</td>\n",
              "      <td>[Climate Change, Humanity, Optimism, History]</td>\n",
              "      <td>The Vanquishing of War, Plague and Famine Part...</td>\n",
              "      <td>The Vanquishing of War, Plague and Famine</td>\n",
              "      <td>8</td>\n",
              "      <td>published</td>\n",
              "      <td>178</td>\n",
              "      <td>3891</td>\n",
              "      <td>0.004626</td>\n",
              "      <td>0</td>\n",
              "      <td>0</td>\n",
              "      <td>0</td>\n",
              "      <td>0</td>\n",
              "      <td>0</td>\n",
              "      <td>0</td>\n",
              "    </tr>\n",
              "    <tr>\n",
              "      <th>132</th>\n",
              "      <td>51</td>\n",
              "      <td>577.363292</td>\n",
              "      <td>20</td>\n",
              "      <td>https://medium.com/p/capstone-project-mercedes...</td>\n",
              "      <td>0</td>\n",
              "      <td>None</td>\n",
              "      <td>2017-06-30 12:55:00</td>\n",
              "      <td>20.02</td>\n",
              "      <td>42</td>\n",
              "      <td>222</td>\n",
              "      <td>2017-06-30 12:00:00</td>\n",
              "      <td>[Machine Learning, Python, Udacity, Kaggle]</td>\n",
              "      <td>Capstone Project: Mercedes-Benz Greener Manufa...</td>\n",
              "      <td>Capstone Project: Mercedes-Benz Greener Manufa...</td>\n",
              "      <td>7</td>\n",
              "      <td>published</td>\n",
              "      <td>1109</td>\n",
              "      <td>12025</td>\n",
              "      <td>0.004241</td>\n",
              "      <td>0</td>\n",
              "      <td>0</td>\n",
              "      <td>0</td>\n",
              "      <td>0</td>\n",
              "      <td>1</td>\n",
              "      <td>1</td>\n",
              "    </tr>\n",
              "    <tr>\n",
              "      <th>126</th>\n",
              "      <td>0</td>\n",
              "      <td>576.520688</td>\n",
              "      <td>0</td>\n",
              "      <td>https://medium.com/p/home-of-the-scared-5af0fe...</td>\n",
              "      <td>0</td>\n",
              "      <td>None</td>\n",
              "      <td>2017-07-01 09:08:00</td>\n",
              "      <td>35.85</td>\n",
              "      <td>9</td>\n",
              "      <td>19</td>\n",
              "      <td>2017-06-30 18:21:00</td>\n",
              "      <td>[Politics, Books, News, Media Criticism]</td>\n",
              "      <td>Home of the Scared A review of A Culture of Fe...</td>\n",
              "      <td>Home of the Scared</td>\n",
              "      <td>4</td>\n",
              "      <td>published</td>\n",
              "      <td>53</td>\n",
              "      <td>2533</td>\n",
              "      <td>0.000000</td>\n",
              "      <td>0</td>\n",
              "      <td>0</td>\n",
              "      <td>0</td>\n",
              "      <td>0</td>\n",
              "      <td>0</td>\n",
              "      <td>0</td>\n",
              "    </tr>\n",
              "    <tr>\n",
              "      <th>121</th>\n",
              "      <td>0</td>\n",
              "      <td>572.533035</td>\n",
              "      <td>0</td>\n",
              "      <td>https://medium.com/p/the-triumph-of-peace-f485...</td>\n",
              "      <td>0</td>\n",
              "      <td>None</td>\n",
              "      <td>2017-07-05 08:51:00</td>\n",
              "      <td>8.47</td>\n",
              "      <td>14</td>\n",
              "      <td>5</td>\n",
              "      <td>2017-07-03 20:18:00</td>\n",
              "      <td>[Books, Psychology, History, Humanism]</td>\n",
              "      <td>The Triumph of Peace A review of The Better An...</td>\n",
              "      <td>The Triumph of Peace</td>\n",
              "      <td>4</td>\n",
              "      <td>published</td>\n",
              "      <td>59</td>\n",
              "      <td>3892</td>\n",
              "      <td>0.000000</td>\n",
              "      <td>1</td>\n",
              "      <td>0</td>\n",
              "      <td>0</td>\n",
              "      <td>0</td>\n",
              "      <td>0</td>\n",
              "      <td>0</td>\n",
              "    </tr>\n",
              "  </tbody>\n",
              "</table>\n",
              "</div>\n",
              "    <div class=\"colab-df-buttons\">\n",
              "\n",
              "  <div class=\"colab-df-container\">\n",
              "    <button class=\"colab-df-convert\" onclick=\"convertToInteractive('df-543284ca-4a6a-45b2-99dd-7ab3a9fcd341')\"\n",
              "            title=\"Convert this dataframe to an interactive table.\"\n",
              "            style=\"display:none;\">\n",
              "\n",
              "  <svg xmlns=\"http://www.w3.org/2000/svg\" height=\"24px\" viewBox=\"0 -960 960 960\">\n",
              "    <path d=\"M120-120v-720h720v720H120Zm60-500h600v-160H180v160Zm220 220h160v-160H400v160Zm0 220h160v-160H400v160ZM180-400h160v-160H180v160Zm440 0h160v-160H620v160ZM180-180h160v-160H180v160Zm440 0h160v-160H620v160Z\"/>\n",
              "  </svg>\n",
              "    </button>\n",
              "\n",
              "  <style>\n",
              "    .colab-df-container {\n",
              "      display:flex;\n",
              "      gap: 12px;\n",
              "    }\n",
              "\n",
              "    .colab-df-convert {\n",
              "      background-color: #E8F0FE;\n",
              "      border: none;\n",
              "      border-radius: 50%;\n",
              "      cursor: pointer;\n",
              "      display: none;\n",
              "      fill: #1967D2;\n",
              "      height: 32px;\n",
              "      padding: 0 0 0 0;\n",
              "      width: 32px;\n",
              "    }\n",
              "\n",
              "    .colab-df-convert:hover {\n",
              "      background-color: #E2EBFA;\n",
              "      box-shadow: 0px 1px 2px rgba(60, 64, 67, 0.3), 0px 1px 3px 1px rgba(60, 64, 67, 0.15);\n",
              "      fill: #174EA6;\n",
              "    }\n",
              "\n",
              "    .colab-df-buttons div {\n",
              "      margin-bottom: 4px;\n",
              "    }\n",
              "\n",
              "    [theme=dark] .colab-df-convert {\n",
              "      background-color: #3B4455;\n",
              "      fill: #D2E3FC;\n",
              "    }\n",
              "\n",
              "    [theme=dark] .colab-df-convert:hover {\n",
              "      background-color: #434B5C;\n",
              "      box-shadow: 0px 1px 3px 1px rgba(0, 0, 0, 0.15);\n",
              "      filter: drop-shadow(0px 1px 2px rgba(0, 0, 0, 0.3));\n",
              "      fill: #FFFFFF;\n",
              "    }\n",
              "  </style>\n",
              "\n",
              "    <script>\n",
              "      const buttonEl =\n",
              "        document.querySelector('#df-543284ca-4a6a-45b2-99dd-7ab3a9fcd341 button.colab-df-convert');\n",
              "      buttonEl.style.display =\n",
              "        google.colab.kernel.accessAllowed ? 'block' : 'none';\n",
              "\n",
              "      async function convertToInteractive(key) {\n",
              "        const element = document.querySelector('#df-543284ca-4a6a-45b2-99dd-7ab3a9fcd341');\n",
              "        const dataTable =\n",
              "          await google.colab.kernel.invokeFunction('convertToInteractive',\n",
              "                                                    [key], {});\n",
              "        if (!dataTable) return;\n",
              "\n",
              "        const docLinkHtml = 'Like what you see? Visit the ' +\n",
              "          '<a target=\"_blank\" href=https://colab.research.google.com/notebooks/data_table.ipynb>data table notebook</a>'\n",
              "          + ' to learn more about interactive tables.';\n",
              "        element.innerHTML = '';\n",
              "        dataTable['output_type'] = 'display_data';\n",
              "        await google.colab.output.renderOutput(dataTable, element);\n",
              "        const docLink = document.createElement('div');\n",
              "        docLink.innerHTML = docLinkHtml;\n",
              "        element.appendChild(docLink);\n",
              "      }\n",
              "    </script>\n",
              "  </div>\n",
              "\n",
              "\n",
              "<div id=\"df-eb57047b-afca-4d28-899f-c1bfb30d1d9c\">\n",
              "  <button class=\"colab-df-quickchart\" onclick=\"quickchart('df-eb57047b-afca-4d28-899f-c1bfb30d1d9c')\"\n",
              "            title=\"Suggest charts\"\n",
              "            style=\"display:none;\">\n",
              "\n",
              "<svg xmlns=\"http://www.w3.org/2000/svg\" height=\"24px\"viewBox=\"0 0 24 24\"\n",
              "     width=\"24px\">\n",
              "    <g>\n",
              "        <path d=\"M19 3H5c-1.1 0-2 .9-2 2v14c0 1.1.9 2 2 2h14c1.1 0 2-.9 2-2V5c0-1.1-.9-2-2-2zM9 17H7v-7h2v7zm4 0h-2V7h2v10zm4 0h-2v-4h2v4z\"/>\n",
              "    </g>\n",
              "</svg>\n",
              "  </button>\n",
              "\n",
              "<style>\n",
              "  .colab-df-quickchart {\n",
              "      --bg-color: #E8F0FE;\n",
              "      --fill-color: #1967D2;\n",
              "      --hover-bg-color: #E2EBFA;\n",
              "      --hover-fill-color: #174EA6;\n",
              "      --disabled-fill-color: #AAA;\n",
              "      --disabled-bg-color: #DDD;\n",
              "  }\n",
              "\n",
              "  [theme=dark] .colab-df-quickchart {\n",
              "      --bg-color: #3B4455;\n",
              "      --fill-color: #D2E3FC;\n",
              "      --hover-bg-color: #434B5C;\n",
              "      --hover-fill-color: #FFFFFF;\n",
              "      --disabled-bg-color: #3B4455;\n",
              "      --disabled-fill-color: #666;\n",
              "  }\n",
              "\n",
              "  .colab-df-quickchart {\n",
              "    background-color: var(--bg-color);\n",
              "    border: none;\n",
              "    border-radius: 50%;\n",
              "    cursor: pointer;\n",
              "    display: none;\n",
              "    fill: var(--fill-color);\n",
              "    height: 32px;\n",
              "    padding: 0;\n",
              "    width: 32px;\n",
              "  }\n",
              "\n",
              "  .colab-df-quickchart:hover {\n",
              "    background-color: var(--hover-bg-color);\n",
              "    box-shadow: 0 1px 2px rgba(60, 64, 67, 0.3), 0 1px 3px 1px rgba(60, 64, 67, 0.15);\n",
              "    fill: var(--button-hover-fill-color);\n",
              "  }\n",
              "\n",
              "  .colab-df-quickchart-complete:disabled,\n",
              "  .colab-df-quickchart-complete:disabled:hover {\n",
              "    background-color: var(--disabled-bg-color);\n",
              "    fill: var(--disabled-fill-color);\n",
              "    box-shadow: none;\n",
              "  }\n",
              "\n",
              "  .colab-df-spinner {\n",
              "    border: 2px solid var(--fill-color);\n",
              "    border-color: transparent;\n",
              "    border-bottom-color: var(--fill-color);\n",
              "    animation:\n",
              "      spin 1s steps(1) infinite;\n",
              "  }\n",
              "\n",
              "  @keyframes spin {\n",
              "    0% {\n",
              "      border-color: transparent;\n",
              "      border-bottom-color: var(--fill-color);\n",
              "      border-left-color: var(--fill-color);\n",
              "    }\n",
              "    20% {\n",
              "      border-color: transparent;\n",
              "      border-left-color: var(--fill-color);\n",
              "      border-top-color: var(--fill-color);\n",
              "    }\n",
              "    30% {\n",
              "      border-color: transparent;\n",
              "      border-left-color: var(--fill-color);\n",
              "      border-top-color: var(--fill-color);\n",
              "      border-right-color: var(--fill-color);\n",
              "    }\n",
              "    40% {\n",
              "      border-color: transparent;\n",
              "      border-right-color: var(--fill-color);\n",
              "      border-top-color: var(--fill-color);\n",
              "    }\n",
              "    60% {\n",
              "      border-color: transparent;\n",
              "      border-right-color: var(--fill-color);\n",
              "    }\n",
              "    80% {\n",
              "      border-color: transparent;\n",
              "      border-right-color: var(--fill-color);\n",
              "      border-bottom-color: var(--fill-color);\n",
              "    }\n",
              "    90% {\n",
              "      border-color: transparent;\n",
              "      border-bottom-color: var(--fill-color);\n",
              "    }\n",
              "  }\n",
              "</style>\n",
              "\n",
              "  <script>\n",
              "    async function quickchart(key) {\n",
              "      const quickchartButtonEl =\n",
              "        document.querySelector('#' + key + ' button');\n",
              "      quickchartButtonEl.disabled = true;  // To prevent multiple clicks.\n",
              "      quickchartButtonEl.classList.add('colab-df-spinner');\n",
              "      try {\n",
              "        const charts = await google.colab.kernel.invokeFunction(\n",
              "            'suggestCharts', [key], {});\n",
              "      } catch (error) {\n",
              "        console.error('Error during call to suggestCharts:', error);\n",
              "      }\n",
              "      quickchartButtonEl.classList.remove('colab-df-spinner');\n",
              "      quickchartButtonEl.classList.add('colab-df-quickchart-complete');\n",
              "    }\n",
              "    (() => {\n",
              "      let quickchartButtonEl =\n",
              "        document.querySelector('#df-eb57047b-afca-4d28-899f-c1bfb30d1d9c button');\n",
              "      quickchartButtonEl.style.display =\n",
              "        google.colab.kernel.accessAllowed ? 'block' : 'none';\n",
              "    })();\n",
              "  </script>\n",
              "</div>\n",
              "\n",
              "    </div>\n",
              "  </div>\n"
            ],
            "application/vnd.google.colaboratory.intrinsic+json": {
              "type": "dataframe",
              "variable_name": "df"
            }
          },
          "metadata": {},
          "execution_count": 4
        }
      ]
    },
    {
      "cell_type": "code",
      "source": [
        "df.describe()"
      ],
      "metadata": {
        "colab": {
          "base_uri": "https://localhost:8080/",
          "height": 442
        },
        "id": "_f7Ott5Xg727",
        "outputId": "47721bbd-40d1-4da2-f195-cbc31d8e6a44"
      },
      "execution_count": null,
      "outputs": [
        {
          "output_type": "execute_result",
          "data": {
            "text/plain": [
              "              claps  days_since_publication         fans  num_responses  \\\n",
              "count    133.000000              133.000000   133.000000     133.000000   \n",
              "mean    1815.263158              248.407273   352.052632       7.045113   \n",
              "min        0.000000                1.218629     0.000000       0.000000   \n",
              "25%      121.000000               74.543822    23.000000       0.000000   \n",
              "50%      815.000000              245.416130   136.000000       4.000000   \n",
              "75%     2700.000000              376.080598   528.000000      12.000000   \n",
              "max    13600.000000              597.301123  2588.000000      59.000000   \n",
              "std     2449.074661              179.370879   479.060117       9.056108   \n",
              "\n",
              "                   published_date  read_ratio   read_time         reads  \\\n",
              "count                         133  133.000000  133.000000    133.000000   \n",
              "mean   2018-05-25 11:51:41.954000   29.074662   12.917293   6336.300752   \n",
              "min           2017-06-10 14:25:00    8.110000    1.000000      1.000000   \n",
              "25%           2018-01-17 19:42:00   20.020000    8.000000    363.000000   \n",
              "50%           2018-05-28 11:39:00   27.060000   10.000000   2049.000000   \n",
              "75%           2018-11-15 08:35:00   34.910000   14.000000   7815.000000   \n",
              "max           2019-01-27 16:23:00   74.370000   54.000000  41978.000000   \n",
              "std                           NaN   12.417670    9.510795   9007.284726   \n",
              "\n",
              "                     started_date  title_word_count          views  \\\n",
              "count                         133        133.000000     133.000000   \n",
              "mean   2018-05-04 16:41:25.714000          7.127820   23404.030075   \n",
              "min           2017-06-10 14:24:00          2.000000       3.000000   \n",
              "25%           2018-01-10 08:20:00          5.000000    1375.000000   \n",
              "50%           2018-04-28 13:02:00          7.000000    7608.000000   \n",
              "75%           2018-10-14 08:24:00          8.000000   30141.000000   \n",
              "max           2019-01-27 06:26:00         16.000000  173714.000000   \n",
              "std                           NaN          3.158475   33995.636496   \n",
              "\n",
              "         word_count  claps_per_word  editing_days  <tag>Education  \\\n",
              "count    133.000000      133.000000    133.000000      133.000000   \n",
              "mean    3029.120301        0.957638     20.330827        0.729323   \n",
              "min      163.000000        0.000000    -13.000000        0.000000   \n",
              "25%     1653.000000        0.052115      0.000000        0.000000   \n",
              "50%     2456.000000        0.421525      1.000000        1.000000   \n",
              "75%     3553.000000        1.099366      5.000000        1.000000   \n",
              "max    15063.000000       17.891817    349.000000        1.000000   \n",
              "std     2393.414456        1.846756     74.111579        0.445989   \n",
              "\n",
              "       <tag>Data Science  <tag>Towards Data Science  <tag>Machine Learning  \\\n",
              "count         133.000000                 133.000000             133.000000   \n",
              "mean            0.609023                   0.436090               0.383459   \n",
              "min             0.000000                   0.000000               0.000000   \n",
              "25%             0.000000                   0.000000               0.000000   \n",
              "50%             1.000000                   0.000000               0.000000   \n",
              "75%             1.000000                   1.000000               1.000000   \n",
              "max             1.000000                   1.000000               1.000000   \n",
              "std             0.489814                   0.497774               0.488067   \n",
              "\n",
              "       <tag>Python  \n",
              "count   133.000000  \n",
              "mean      0.315789  \n",
              "min       0.000000  \n",
              "25%       0.000000  \n",
              "50%       0.000000  \n",
              "75%       1.000000  \n",
              "max       1.000000  \n",
              "std       0.466587  "
            ],
            "text/html": [
              "\n",
              "  <div id=\"df-ea8ff09b-49aa-4b85-937c-0585efb0fdc8\" class=\"colab-df-container\">\n",
              "    <div>\n",
              "<style scoped>\n",
              "    .dataframe tbody tr th:only-of-type {\n",
              "        vertical-align: middle;\n",
              "    }\n",
              "\n",
              "    .dataframe tbody tr th {\n",
              "        vertical-align: top;\n",
              "    }\n",
              "\n",
              "    .dataframe thead th {\n",
              "        text-align: right;\n",
              "    }\n",
              "</style>\n",
              "<table border=\"1\" class=\"dataframe\">\n",
              "  <thead>\n",
              "    <tr style=\"text-align: right;\">\n",
              "      <th></th>\n",
              "      <th>claps</th>\n",
              "      <th>days_since_publication</th>\n",
              "      <th>fans</th>\n",
              "      <th>num_responses</th>\n",
              "      <th>published_date</th>\n",
              "      <th>read_ratio</th>\n",
              "      <th>read_time</th>\n",
              "      <th>reads</th>\n",
              "      <th>started_date</th>\n",
              "      <th>title_word_count</th>\n",
              "      <th>views</th>\n",
              "      <th>word_count</th>\n",
              "      <th>claps_per_word</th>\n",
              "      <th>editing_days</th>\n",
              "      <th>&lt;tag&gt;Education</th>\n",
              "      <th>&lt;tag&gt;Data Science</th>\n",
              "      <th>&lt;tag&gt;Towards Data Science</th>\n",
              "      <th>&lt;tag&gt;Machine Learning</th>\n",
              "      <th>&lt;tag&gt;Python</th>\n",
              "    </tr>\n",
              "  </thead>\n",
              "  <tbody>\n",
              "    <tr>\n",
              "      <th>count</th>\n",
              "      <td>133.000000</td>\n",
              "      <td>133.000000</td>\n",
              "      <td>133.000000</td>\n",
              "      <td>133.000000</td>\n",
              "      <td>133</td>\n",
              "      <td>133.000000</td>\n",
              "      <td>133.000000</td>\n",
              "      <td>133.000000</td>\n",
              "      <td>133</td>\n",
              "      <td>133.000000</td>\n",
              "      <td>133.000000</td>\n",
              "      <td>133.000000</td>\n",
              "      <td>133.000000</td>\n",
              "      <td>133.000000</td>\n",
              "      <td>133.000000</td>\n",
              "      <td>133.000000</td>\n",
              "      <td>133.000000</td>\n",
              "      <td>133.000000</td>\n",
              "      <td>133.000000</td>\n",
              "    </tr>\n",
              "    <tr>\n",
              "      <th>mean</th>\n",
              "      <td>1815.263158</td>\n",
              "      <td>248.407273</td>\n",
              "      <td>352.052632</td>\n",
              "      <td>7.045113</td>\n",
              "      <td>2018-05-25 11:51:41.954000</td>\n",
              "      <td>29.074662</td>\n",
              "      <td>12.917293</td>\n",
              "      <td>6336.300752</td>\n",
              "      <td>2018-05-04 16:41:25.714000</td>\n",
              "      <td>7.127820</td>\n",
              "      <td>23404.030075</td>\n",
              "      <td>3029.120301</td>\n",
              "      <td>0.957638</td>\n",
              "      <td>20.330827</td>\n",
              "      <td>0.729323</td>\n",
              "      <td>0.609023</td>\n",
              "      <td>0.436090</td>\n",
              "      <td>0.383459</td>\n",
              "      <td>0.315789</td>\n",
              "    </tr>\n",
              "    <tr>\n",
              "      <th>min</th>\n",
              "      <td>0.000000</td>\n",
              "      <td>1.218629</td>\n",
              "      <td>0.000000</td>\n",
              "      <td>0.000000</td>\n",
              "      <td>2017-06-10 14:25:00</td>\n",
              "      <td>8.110000</td>\n",
              "      <td>1.000000</td>\n",
              "      <td>1.000000</td>\n",
              "      <td>2017-06-10 14:24:00</td>\n",
              "      <td>2.000000</td>\n",
              "      <td>3.000000</td>\n",
              "      <td>163.000000</td>\n",
              "      <td>0.000000</td>\n",
              "      <td>-13.000000</td>\n",
              "      <td>0.000000</td>\n",
              "      <td>0.000000</td>\n",
              "      <td>0.000000</td>\n",
              "      <td>0.000000</td>\n",
              "      <td>0.000000</td>\n",
              "    </tr>\n",
              "    <tr>\n",
              "      <th>25%</th>\n",
              "      <td>121.000000</td>\n",
              "      <td>74.543822</td>\n",
              "      <td>23.000000</td>\n",
              "      <td>0.000000</td>\n",
              "      <td>2018-01-17 19:42:00</td>\n",
              "      <td>20.020000</td>\n",
              "      <td>8.000000</td>\n",
              "      <td>363.000000</td>\n",
              "      <td>2018-01-10 08:20:00</td>\n",
              "      <td>5.000000</td>\n",
              "      <td>1375.000000</td>\n",
              "      <td>1653.000000</td>\n",
              "      <td>0.052115</td>\n",
              "      <td>0.000000</td>\n",
              "      <td>0.000000</td>\n",
              "      <td>0.000000</td>\n",
              "      <td>0.000000</td>\n",
              "      <td>0.000000</td>\n",
              "      <td>0.000000</td>\n",
              "    </tr>\n",
              "    <tr>\n",
              "      <th>50%</th>\n",
              "      <td>815.000000</td>\n",
              "      <td>245.416130</td>\n",
              "      <td>136.000000</td>\n",
              "      <td>4.000000</td>\n",
              "      <td>2018-05-28 11:39:00</td>\n",
              "      <td>27.060000</td>\n",
              "      <td>10.000000</td>\n",
              "      <td>2049.000000</td>\n",
              "      <td>2018-04-28 13:02:00</td>\n",
              "      <td>7.000000</td>\n",
              "      <td>7608.000000</td>\n",
              "      <td>2456.000000</td>\n",
              "      <td>0.421525</td>\n",
              "      <td>1.000000</td>\n",
              "      <td>1.000000</td>\n",
              "      <td>1.000000</td>\n",
              "      <td>0.000000</td>\n",
              "      <td>0.000000</td>\n",
              "      <td>0.000000</td>\n",
              "    </tr>\n",
              "    <tr>\n",
              "      <th>75%</th>\n",
              "      <td>2700.000000</td>\n",
              "      <td>376.080598</td>\n",
              "      <td>528.000000</td>\n",
              "      <td>12.000000</td>\n",
              "      <td>2018-11-15 08:35:00</td>\n",
              "      <td>34.910000</td>\n",
              "      <td>14.000000</td>\n",
              "      <td>7815.000000</td>\n",
              "      <td>2018-10-14 08:24:00</td>\n",
              "      <td>8.000000</td>\n",
              "      <td>30141.000000</td>\n",
              "      <td>3553.000000</td>\n",
              "      <td>1.099366</td>\n",
              "      <td>5.000000</td>\n",
              "      <td>1.000000</td>\n",
              "      <td>1.000000</td>\n",
              "      <td>1.000000</td>\n",
              "      <td>1.000000</td>\n",
              "      <td>1.000000</td>\n",
              "    </tr>\n",
              "    <tr>\n",
              "      <th>max</th>\n",
              "      <td>13600.000000</td>\n",
              "      <td>597.301123</td>\n",
              "      <td>2588.000000</td>\n",
              "      <td>59.000000</td>\n",
              "      <td>2019-01-27 16:23:00</td>\n",
              "      <td>74.370000</td>\n",
              "      <td>54.000000</td>\n",
              "      <td>41978.000000</td>\n",
              "      <td>2019-01-27 06:26:00</td>\n",
              "      <td>16.000000</td>\n",
              "      <td>173714.000000</td>\n",
              "      <td>15063.000000</td>\n",
              "      <td>17.891817</td>\n",
              "      <td>349.000000</td>\n",
              "      <td>1.000000</td>\n",
              "      <td>1.000000</td>\n",
              "      <td>1.000000</td>\n",
              "      <td>1.000000</td>\n",
              "      <td>1.000000</td>\n",
              "    </tr>\n",
              "    <tr>\n",
              "      <th>std</th>\n",
              "      <td>2449.074661</td>\n",
              "      <td>179.370879</td>\n",
              "      <td>479.060117</td>\n",
              "      <td>9.056108</td>\n",
              "      <td>NaN</td>\n",
              "      <td>12.417670</td>\n",
              "      <td>9.510795</td>\n",
              "      <td>9007.284726</td>\n",
              "      <td>NaN</td>\n",
              "      <td>3.158475</td>\n",
              "      <td>33995.636496</td>\n",
              "      <td>2393.414456</td>\n",
              "      <td>1.846756</td>\n",
              "      <td>74.111579</td>\n",
              "      <td>0.445989</td>\n",
              "      <td>0.489814</td>\n",
              "      <td>0.497774</td>\n",
              "      <td>0.488067</td>\n",
              "      <td>0.466587</td>\n",
              "    </tr>\n",
              "  </tbody>\n",
              "</table>\n",
              "</div>\n",
              "    <div class=\"colab-df-buttons\">\n",
              "\n",
              "  <div class=\"colab-df-container\">\n",
              "    <button class=\"colab-df-convert\" onclick=\"convertToInteractive('df-ea8ff09b-49aa-4b85-937c-0585efb0fdc8')\"\n",
              "            title=\"Convert this dataframe to an interactive table.\"\n",
              "            style=\"display:none;\">\n",
              "\n",
              "  <svg xmlns=\"http://www.w3.org/2000/svg\" height=\"24px\" viewBox=\"0 -960 960 960\">\n",
              "    <path d=\"M120-120v-720h720v720H120Zm60-500h600v-160H180v160Zm220 220h160v-160H400v160Zm0 220h160v-160H400v160ZM180-400h160v-160H180v160Zm440 0h160v-160H620v160ZM180-180h160v-160H180v160Zm440 0h160v-160H620v160Z\"/>\n",
              "  </svg>\n",
              "    </button>\n",
              "\n",
              "  <style>\n",
              "    .colab-df-container {\n",
              "      display:flex;\n",
              "      gap: 12px;\n",
              "    }\n",
              "\n",
              "    .colab-df-convert {\n",
              "      background-color: #E8F0FE;\n",
              "      border: none;\n",
              "      border-radius: 50%;\n",
              "      cursor: pointer;\n",
              "      display: none;\n",
              "      fill: #1967D2;\n",
              "      height: 32px;\n",
              "      padding: 0 0 0 0;\n",
              "      width: 32px;\n",
              "    }\n",
              "\n",
              "    .colab-df-convert:hover {\n",
              "      background-color: #E2EBFA;\n",
              "      box-shadow: 0px 1px 2px rgba(60, 64, 67, 0.3), 0px 1px 3px 1px rgba(60, 64, 67, 0.15);\n",
              "      fill: #174EA6;\n",
              "    }\n",
              "\n",
              "    .colab-df-buttons div {\n",
              "      margin-bottom: 4px;\n",
              "    }\n",
              "\n",
              "    [theme=dark] .colab-df-convert {\n",
              "      background-color: #3B4455;\n",
              "      fill: #D2E3FC;\n",
              "    }\n",
              "\n",
              "    [theme=dark] .colab-df-convert:hover {\n",
              "      background-color: #434B5C;\n",
              "      box-shadow: 0px 1px 3px 1px rgba(0, 0, 0, 0.15);\n",
              "      filter: drop-shadow(0px 1px 2px rgba(0, 0, 0, 0.3));\n",
              "      fill: #FFFFFF;\n",
              "    }\n",
              "  </style>\n",
              "\n",
              "    <script>\n",
              "      const buttonEl =\n",
              "        document.querySelector('#df-ea8ff09b-49aa-4b85-937c-0585efb0fdc8 button.colab-df-convert');\n",
              "      buttonEl.style.display =\n",
              "        google.colab.kernel.accessAllowed ? 'block' : 'none';\n",
              "\n",
              "      async function convertToInteractive(key) {\n",
              "        const element = document.querySelector('#df-ea8ff09b-49aa-4b85-937c-0585efb0fdc8');\n",
              "        const dataTable =\n",
              "          await google.colab.kernel.invokeFunction('convertToInteractive',\n",
              "                                                    [key], {});\n",
              "        if (!dataTable) return;\n",
              "\n",
              "        const docLinkHtml = 'Like what you see? Visit the ' +\n",
              "          '<a target=\"_blank\" href=https://colab.research.google.com/notebooks/data_table.ipynb>data table notebook</a>'\n",
              "          + ' to learn more about interactive tables.';\n",
              "        element.innerHTML = '';\n",
              "        dataTable['output_type'] = 'display_data';\n",
              "        await google.colab.output.renderOutput(dataTable, element);\n",
              "        const docLink = document.createElement('div');\n",
              "        docLink.innerHTML = docLinkHtml;\n",
              "        element.appendChild(docLink);\n",
              "      }\n",
              "    </script>\n",
              "  </div>\n",
              "\n",
              "\n",
              "<div id=\"df-656d3a10-d06f-4494-9174-953aa683d4fe\">\n",
              "  <button class=\"colab-df-quickchart\" onclick=\"quickchart('df-656d3a10-d06f-4494-9174-953aa683d4fe')\"\n",
              "            title=\"Suggest charts\"\n",
              "            style=\"display:none;\">\n",
              "\n",
              "<svg xmlns=\"http://www.w3.org/2000/svg\" height=\"24px\"viewBox=\"0 0 24 24\"\n",
              "     width=\"24px\">\n",
              "    <g>\n",
              "        <path d=\"M19 3H5c-1.1 0-2 .9-2 2v14c0 1.1.9 2 2 2h14c1.1 0 2-.9 2-2V5c0-1.1-.9-2-2-2zM9 17H7v-7h2v7zm4 0h-2V7h2v10zm4 0h-2v-4h2v4z\"/>\n",
              "    </g>\n",
              "</svg>\n",
              "  </button>\n",
              "\n",
              "<style>\n",
              "  .colab-df-quickchart {\n",
              "      --bg-color: #E8F0FE;\n",
              "      --fill-color: #1967D2;\n",
              "      --hover-bg-color: #E2EBFA;\n",
              "      --hover-fill-color: #174EA6;\n",
              "      --disabled-fill-color: #AAA;\n",
              "      --disabled-bg-color: #DDD;\n",
              "  }\n",
              "\n",
              "  [theme=dark] .colab-df-quickchart {\n",
              "      --bg-color: #3B4455;\n",
              "      --fill-color: #D2E3FC;\n",
              "      --hover-bg-color: #434B5C;\n",
              "      --hover-fill-color: #FFFFFF;\n",
              "      --disabled-bg-color: #3B4455;\n",
              "      --disabled-fill-color: #666;\n",
              "  }\n",
              "\n",
              "  .colab-df-quickchart {\n",
              "    background-color: var(--bg-color);\n",
              "    border: none;\n",
              "    border-radius: 50%;\n",
              "    cursor: pointer;\n",
              "    display: none;\n",
              "    fill: var(--fill-color);\n",
              "    height: 32px;\n",
              "    padding: 0;\n",
              "    width: 32px;\n",
              "  }\n",
              "\n",
              "  .colab-df-quickchart:hover {\n",
              "    background-color: var(--hover-bg-color);\n",
              "    box-shadow: 0 1px 2px rgba(60, 64, 67, 0.3), 0 1px 3px 1px rgba(60, 64, 67, 0.15);\n",
              "    fill: var(--button-hover-fill-color);\n",
              "  }\n",
              "\n",
              "  .colab-df-quickchart-complete:disabled,\n",
              "  .colab-df-quickchart-complete:disabled:hover {\n",
              "    background-color: var(--disabled-bg-color);\n",
              "    fill: var(--disabled-fill-color);\n",
              "    box-shadow: none;\n",
              "  }\n",
              "\n",
              "  .colab-df-spinner {\n",
              "    border: 2px solid var(--fill-color);\n",
              "    border-color: transparent;\n",
              "    border-bottom-color: var(--fill-color);\n",
              "    animation:\n",
              "      spin 1s steps(1) infinite;\n",
              "  }\n",
              "\n",
              "  @keyframes spin {\n",
              "    0% {\n",
              "      border-color: transparent;\n",
              "      border-bottom-color: var(--fill-color);\n",
              "      border-left-color: var(--fill-color);\n",
              "    }\n",
              "    20% {\n",
              "      border-color: transparent;\n",
              "      border-left-color: var(--fill-color);\n",
              "      border-top-color: var(--fill-color);\n",
              "    }\n",
              "    30% {\n",
              "      border-color: transparent;\n",
              "      border-left-color: var(--fill-color);\n",
              "      border-top-color: var(--fill-color);\n",
              "      border-right-color: var(--fill-color);\n",
              "    }\n",
              "    40% {\n",
              "      border-color: transparent;\n",
              "      border-right-color: var(--fill-color);\n",
              "      border-top-color: var(--fill-color);\n",
              "    }\n",
              "    60% {\n",
              "      border-color: transparent;\n",
              "      border-right-color: var(--fill-color);\n",
              "    }\n",
              "    80% {\n",
              "      border-color: transparent;\n",
              "      border-right-color: var(--fill-color);\n",
              "      border-bottom-color: var(--fill-color);\n",
              "    }\n",
              "    90% {\n",
              "      border-color: transparent;\n",
              "      border-bottom-color: var(--fill-color);\n",
              "    }\n",
              "  }\n",
              "</style>\n",
              "\n",
              "  <script>\n",
              "    async function quickchart(key) {\n",
              "      const quickchartButtonEl =\n",
              "        document.querySelector('#' + key + ' button');\n",
              "      quickchartButtonEl.disabled = true;  // To prevent multiple clicks.\n",
              "      quickchartButtonEl.classList.add('colab-df-spinner');\n",
              "      try {\n",
              "        const charts = await google.colab.kernel.invokeFunction(\n",
              "            'suggestCharts', [key], {});\n",
              "      } catch (error) {\n",
              "        console.error('Error during call to suggestCharts:', error);\n",
              "      }\n",
              "      quickchartButtonEl.classList.remove('colab-df-spinner');\n",
              "      quickchartButtonEl.classList.add('colab-df-quickchart-complete');\n",
              "    }\n",
              "    (() => {\n",
              "      let quickchartButtonEl =\n",
              "        document.querySelector('#df-656d3a10-d06f-4494-9174-953aa683d4fe button');\n",
              "      quickchartButtonEl.style.display =\n",
              "        google.colab.kernel.accessAllowed ? 'block' : 'none';\n",
              "    })();\n",
              "  </script>\n",
              "</div>\n",
              "\n",
              "    </div>\n",
              "  </div>\n"
            ],
            "application/vnd.google.colaboratory.intrinsic+json": {
              "type": "dataframe",
              "summary": "{\n  \"name\": \"df\",\n  \"rows\": 8,\n  \"fields\": [\n    {\n      \"column\": \"claps\",\n      \"properties\": {\n        \"dtype\": \"number\",\n        \"std\": 4531.4699425121335,\n        \"min\": 0.0,\n        \"max\": 13600.0,\n        \"num_unique_values\": 8,\n        \"samples\": [\n          1815.2631578947369,\n          2700.0,\n          133.0\n        ],\n        \"semantic_type\": \"\",\n        \"description\": \"\"\n      }\n    },\n    {\n      \"column\": \"days_since_publication\",\n      \"properties\": {\n        \"dtype\": \"number\",\n        \"std\": 187.1884381418161,\n        \"min\": 1.2186292689930556,\n        \"max\": 597.3011234928935,\n        \"num_unique_values\": 8,\n        \"samples\": [\n          248.407273023894,\n          376.08059837900464,\n          133.0\n        ],\n        \"semantic_type\": \"\",\n        \"description\": \"\"\n      }\n    },\n    {\n      \"column\": \"fans\",\n      \"properties\": {\n        \"dtype\": \"number\",\n        \"std\": 855.271221744208,\n        \"min\": 0.0,\n        \"max\": 2588.0,\n        \"num_unique_values\": 8,\n        \"samples\": [\n          352.05263157894734,\n          528.0,\n          133.0\n        ],\n        \"semantic_type\": \"\",\n        \"description\": \"\"\n      }\n    },\n    {\n      \"column\": \"num_responses\",\n      \"properties\": {\n        \"dtype\": \"number\",\n        \"std\": 46.574022562010924,\n        \"min\": 0.0,\n        \"max\": 133.0,\n        \"num_unique_values\": 7,\n        \"samples\": [\n          133.0,\n          7.045112781954887,\n          59.0\n        ],\n        \"semantic_type\": \"\",\n        \"description\": \"\"\n      }\n    },\n    {\n      \"column\": \"published_date\",\n      \"properties\": {\n        \"dtype\": \"date\",\n        \"min\": \"1970-01-01 00:00:00.000000133\",\n        \"max\": \"2019-01-27 16:23:00\",\n        \"num_unique_values\": 7,\n        \"samples\": [\n          \"133\",\n          \"2018-05-25 11:51:41.954000\",\n          \"2018-11-15 08:35:00\"\n        ],\n        \"semantic_type\": \"\",\n        \"description\": \"\"\n      }\n    },\n    {\n      \"column\": \"read_ratio\",\n      \"properties\": {\n        \"dtype\": \"number\",\n        \"std\": 41.87570521718193,\n        \"min\": 8.11,\n        \"max\": 133.0,\n        \"num_unique_values\": 8,\n        \"samples\": [\n          29.07466165413534,\n          34.91,\n          133.0\n        ],\n        \"semantic_type\": \"\",\n        \"description\": \"\"\n      }\n    },\n    {\n      \"column\": \"read_time\",\n      \"properties\": {\n        \"dtype\": \"number\",\n        \"std\": 44.52429420980952,\n        \"min\": 1.0,\n        \"max\": 133.0,\n        \"num_unique_values\": 8,\n        \"samples\": [\n          12.917293233082706,\n          14.0,\n          133.0\n        ],\n        \"semantic_type\": \"\",\n        \"description\": \"\"\n      }\n    },\n    {\n      \"column\": \"reads\",\n      \"properties\": {\n        \"dtype\": \"number\",\n        \"std\": 14021.605304632296,\n        \"min\": 1.0,\n        \"max\": 41978.0,\n        \"num_unique_values\": 8,\n        \"samples\": [\n          6336.300751879699,\n          7815.0,\n          133.0\n        ],\n        \"semantic_type\": \"\",\n        \"description\": \"\"\n      }\n    },\n    {\n      \"column\": \"started_date\",\n      \"properties\": {\n        \"dtype\": \"date\",\n        \"min\": \"1970-01-01 00:00:00.000000133\",\n        \"max\": \"2019-01-27 06:26:00\",\n        \"num_unique_values\": 7,\n        \"samples\": [\n          \"133\",\n          \"2018-05-04 16:41:25.714000\",\n          \"2018-10-14 08:24:00\"\n        ],\n        \"semantic_type\": \"\",\n        \"description\": \"\"\n      }\n    },\n    {\n      \"column\": \"title_word_count\",\n      \"properties\": {\n        \"dtype\": \"number\",\n        \"std\": 44.78470994241759,\n        \"min\": 2.0,\n        \"max\": 133.0,\n        \"num_unique_values\": 8,\n        \"samples\": [\n          7.12781954887218,\n          8.0,\n          133.0\n        ],\n        \"semantic_type\": \"\",\n        \"description\": \"\"\n      }\n    },\n    {\n      \"column\": \"views\",\n      \"properties\": {\n        \"dtype\": \"number\",\n        \"std\": 58199.82282942452,\n        \"min\": 3.0,\n        \"max\": 173714.0,\n        \"num_unique_values\": 8,\n        \"samples\": [\n          23404.03007518797,\n          30141.0,\n          133.0\n        ],\n        \"semantic_type\": \"\",\n        \"description\": \"\"\n      }\n    },\n    {\n      \"column\": \"word_count\",\n      \"properties\": {\n        \"dtype\": \"number\",\n        \"std\": 4812.202493547293,\n        \"min\": 133.0,\n        \"max\": 15063.0,\n        \"num_unique_values\": 8,\n        \"samples\": [\n          3029.1203007518798,\n          3553.0,\n          133.0\n        ],\n        \"semantic_type\": \"\",\n        \"description\": \"\"\n      }\n    },\n    {\n      \"column\": \"claps_per_word\",\n      \"properties\": {\n        \"dtype\": \"number\",\n        \"std\": 46.29296073107291,\n        \"min\": 0.0,\n        \"max\": 133.0,\n        \"num_unique_values\": 8,\n        \"samples\": [\n          0.957638255722965,\n          1.0993657505285412,\n          133.0\n        ],\n        \"semantic_type\": \"\",\n        \"description\": \"\"\n      }\n    },\n    {\n      \"column\": \"editing_days\",\n      \"properties\": {\n        \"dtype\": \"number\",\n        \"std\": 122.50818453152938,\n        \"min\": -13.0,\n        \"max\": 349.0,\n        \"num_unique_values\": 8,\n        \"samples\": [\n          20.330827067669173,\n          5.0,\n          133.0\n        ],\n        \"semantic_type\": \"\",\n        \"description\": \"\"\n      }\n    },\n    {\n      \"column\": \"<tag>Education\",\n      \"properties\": {\n        \"dtype\": \"number\",\n        \"std\": 46.81360840610438,\n        \"min\": 0.0,\n        \"max\": 133.0,\n        \"num_unique_values\": 5,\n        \"samples\": [\n          0.7293233082706767,\n          0.44598918910786794,\n          0.0\n        ],\n        \"semantic_type\": \"\",\n        \"description\": \"\"\n      }\n    },\n    {\n      \"column\": \"<tag>Data Science\",\n      \"properties\": {\n        \"dtype\": \"number\",\n        \"std\": 46.81742570200375,\n        \"min\": 0.0,\n        \"max\": 133.0,\n        \"num_unique_values\": 5,\n        \"samples\": [\n          0.6090225563909775,\n          0.48981422678407577,\n          0.0\n        ],\n        \"semantic_type\": \"\",\n        \"description\": \"\"\n      }\n    },\n    {\n      \"column\": \"<tag>Towards Data Science\",\n      \"properties\": {\n        \"dtype\": \"number\",\n        \"std\": 46.87625965861448,\n        \"min\": 0.0,\n        \"max\": 133.0,\n        \"num_unique_values\": 5,\n        \"samples\": [\n          0.43609022556390975,\n          0.4977735803075747,\n          0.0\n        ],\n        \"semantic_type\": \"\",\n        \"description\": \"\"\n      }\n    },\n    {\n      \"column\": \"<tag>Machine Learning\",\n      \"properties\": {\n        \"dtype\": \"number\",\n        \"std\": 46.879406570408555,\n        \"min\": 0.0,\n        \"max\": 133.0,\n        \"num_unique_values\": 5,\n        \"samples\": [\n          0.38345864661654133,\n          0.48806675697264085,\n          0.0\n        ],\n        \"semantic_type\": \"\",\n        \"description\": \"\"\n      }\n    },\n    {\n      \"column\": \"<tag>Python\",\n      \"properties\": {\n        \"dtype\": \"number\",\n        \"std\": 46.883915470812404,\n        \"min\": 0.0,\n        \"max\": 133.0,\n        \"num_unique_values\": 5,\n        \"samples\": [\n          0.3157894736842105,\n          0.4665869150354483,\n          0.0\n        ],\n        \"semantic_type\": \"\",\n        \"description\": \"\"\n      }\n    }\n  ]\n}"
            }
          },
          "metadata": {},
          "execution_count": 5
        }
      ]
    },
    {
      "cell_type": "code",
      "source": [
        "from ipywidgets import interact, interact_manual, widgets"
      ],
      "metadata": {
        "id": "OjllxB1yg_n6"
      },
      "execution_count": null,
      "outputs": []
    },
    {
      "cell_type": "code",
      "source": [
        "@interact\n",
        "def show_articles_more_than(column='claps', x=5000):\n",
        "    display(HTML(f'<h4>Showing articles with more than {x} {column}<h4>'))\n",
        "    display(df.loc[df[column] > x, ['title', 'claps', 'published_date', 'read_time', 'tags', 'views', 'reads']])"
      ],
      "metadata": {
        "colab": {
          "base_uri": "https://localhost:8080/",
          "height": 576,
          "referenced_widgets": [
            "560871fb800d4f6fb38dedd86e10b20c",
            "03b2330527284eaebb80c085322a89ab",
            "c58d6f0e3bd249ee9319922c353cb977",
            "3f6dad8bca654389bee34d1182246422",
            "2d87358b04244ca3bb9d703b58b6eb97",
            "c6df475f93a34dccb41acb1e828fd35f",
            "281f43312a114ee2956ca86d524291d3",
            "19960e51dd0c4bcaa48462af3bcd4d1c",
            "aebaf3a5d53049a29cd22a959fbd5ffb",
            "dd106b7991ef4549827278b7ff87d56e"
          ]
        },
        "id": "0kiNuWFdhDG9",
        "outputId": "b7fe175f-4e39-4e72-a8fc-1428576dfb56"
      },
      "execution_count": null,
      "outputs": [
        {
          "output_type": "display_data",
          "data": {
            "text/plain": [
              "interactive(children=(Text(value='claps', description='column'), IntSlider(value=5000, description='x', max=15…"
            ],
            "application/vnd.jupyter.widget-view+json": {
              "version_major": 2,
              "version_minor": 0,
              "model_id": "560871fb800d4f6fb38dedd86e10b20c"
            }
          },
          "metadata": {}
        }
      ]
    },
    {
      "cell_type": "code",
      "source": [
        "## A dropdown menu can be useful when we need to enforce constraints on the interaction.\n",
        "\n",
        "@interact\n",
        "def show_titles_more_than(x=(10, 50000, 10),\n",
        "                          column=['read_time', 'views', 'reads']):\n",
        "    display(HTML(f'<h4>Showing articles with more than {x} {column}<h4>'))\n",
        "    display(df.loc[df[column] > x, ['title', 'published_date', 'read_time', 'tags', 'views', 'reads']])"
      ],
      "metadata": {
        "colab": {
          "base_uri": "https://localhost:8080/",
          "height": 952,
          "referenced_widgets": [
            "57e536a5b52f4236b4102157247948a1",
            "a96d32a58a41473a828c0609e36a4925",
            "84a2924d5bfe4367bb0b3ba210f371df",
            "9864673cbfeb4fa4ac5441628615e23e",
            "f07b8979016b4871ae1689c5cb57e1f8",
            "b682f6f7209749f2b3837519d2168b1d",
            "2e9bf76bca88476985c927a306139da8",
            "1fd0aef5f41e4f0083450cfb37e195a7",
            "44314bbd7fa144edb727260e03333e30",
            "36a355c1186a405b8c6abd165548f3db"
          ]
        },
        "id": "brvoPA0MhIaM",
        "outputId": "b2fac4ff-37f6-4c3b-e7cb-47e86a02f8c9"
      },
      "execution_count": null,
      "outputs": [
        {
          "output_type": "display_data",
          "data": {
            "text/plain": [
              "interactive(children=(IntSlider(value=25000, description='x', max=50000, min=10, step=10), Dropdown(descriptio…"
            ],
            "application/vnd.jupyter.widget-view+json": {
              "version_major": 2,
              "version_minor": 0,
              "model_id": "57e536a5b52f4236b4102157247948a1"
            }
          },
          "metadata": {}
        }
      ]
    },
    {
      "cell_type": "code",
      "source": [
        "\"\"\"\n",
        "Moving on to more sophisticated data relationships that may be interactively represented,\n",
        "we construct a widget that quickly finds the correlation between two columns in the dataset.\n",
        "\"\"\"\n",
        "@interact\n",
        "def correlations(column1=list(df.select_dtypes('number').columns),\n",
        "                 column2=list(df.select_dtypes('number').columns)):\n",
        "    print(f\"Correlation: {df[column1].corr(df[column2])}\")"
      ],
      "metadata": {
        "colab": {
          "base_uri": "https://localhost:8080/",
          "height": 135,
          "referenced_widgets": [
            "c3613bd58475416b97c7e057c072e463",
            "c3f168e310544f878fb3f5d730662b8d",
            "d03de4a825a14140a318a185a19478b7",
            "a996ee7f291f40758e42095e7d3025ae",
            "624a71d0f5914d27a3b07b5d5c407dd9",
            "2cd6d701badf4020ac5015ddcecdc728",
            "a4d255c7f7214d46bc3ad627d92433f4",
            "8b746e4a1f2a4baf8a2f6601efde4544",
            "eedfec12a54c4182a33f73b98ab83fa9",
            "4d219e7cf7cd4e58859ab20c121499d5"
          ]
        },
        "id": "mJtaJp3VhTeJ",
        "outputId": "11d68811-d5e9-4913-824b-fb3bdff39730"
      },
      "execution_count": null,
      "outputs": [
        {
          "output_type": "execute_result",
          "data": {
            "text/plain": [
              "' \\nMoving on to more sophisticated data relationships that may be interactively represented,\\nwe construct a widget that quickly finds the correlation between two columns in the dataset.\\n'"
            ],
            "application/vnd.google.colaboratory.intrinsic+json": {
              "type": "string"
            }
          },
          "metadata": {},
          "execution_count": 9
        },
        {
          "output_type": "display_data",
          "data": {
            "text/plain": [
              "interactive(children=(Dropdown(description='column1', options=('claps', 'days_since_publication', 'fans', 'num…"
            ],
            "application/vnd.jupyter.widget-view+json": {
              "version_major": 2,
              "version_minor": 0,
              "model_id": "c3613bd58475416b97c7e057c072e463"
            }
          },
          "metadata": {}
        }
      ]
    },
    {
      "cell_type": "code",
      "source": [
        "@interact\n",
        "def scatter_plot(x=list(df.select_dtypes('number').columns),\n",
        "                 y=list(df.select_dtypes('number').columns)[1:]):\n",
        "    if x == y:\n",
        "        print(f\"Please select separate variables for X and Y\")\n",
        "    else:\n",
        "        fig = px.scatter(df, x=x, y=y, title=f'{y.title()} vs {x.title()}')\n",
        "        fig.show(renderer=\"colab\")"
      ],
      "metadata": {
        "colab": {
          "base_uri": "https://localhost:8080/",
          "height": 606,
          "referenced_widgets": [
            "680efd8175e54d4a8b2e9192e65d7e17",
            "c05d348b2a5e4680ad02eec3c23bf7d9",
            "ce84e590c6f941d98d7e7560a9fcc09c",
            "f8cdaa6b93f54aee8cf53ee74db77509",
            "e8eb4d7386ea46c89323a4fd5d6d95f7",
            "92c466167c87406c922d431f1cf06ba9",
            "d88647ccd057469db821fff397bba87a",
            "80071c13353541feadfe57aa037e9fd2",
            "c1f441edc2fd4688846b14531497fad3",
            "1d05dac7d86a4df0add1adb3aec9dc50"
          ]
        },
        "id": "oSoazoRmhzKe",
        "outputId": "161ed91a-e1f1-4bc0-c43d-4f229f12daa5"
      },
      "execution_count": null,
      "outputs": [
        {
          "output_type": "display_data",
          "data": {
            "text/plain": [
              "interactive(children=(Dropdown(description='x', options=('claps', 'days_since_publication', 'fans', 'num_respo…"
            ],
            "application/vnd.jupyter.widget-view+json": {
              "version_major": 2,
              "version_minor": 0,
              "model_id": "680efd8175e54d4a8b2e9192e65d7e17"
            }
          },
          "metadata": {}
        }
      ]
    },
    {
      "cell_type": "code",
      "source": [
        "cscales = ['Greys', 'YlGnBu', 'Greens', 'YlOrRd', 'Bluered', 'RdBu',\n",
        "            'Reds', 'Blues', 'Picnic', 'Rainbow', 'Portland', 'Jet',\n",
        "            'Hot', 'Blackbody', 'Earth', 'Electric', 'Viridis', 'Cividis']\n",
        "\n",
        "# We use the Figure Factory module of Plotly, which\n",
        "# defines many unique and powerful plots to be used\n",
        "# in Python.\n",
        "# For more info, see: https://plot.ly/python/figure-factory-subplots/\n",
        "import plotly.figure_factory as ff\n",
        "\n",
        "corrs = df.corr(numeric_only=True)\n",
        "\n",
        "@interact\n",
        "def plot_corrs(colorscale=cscales):\n",
        "    figure = ff.create_annotated_heatmap(z = corrs.round(2).values,\n",
        "                                     x =list(corrs.columns),\n",
        "                                     y=list(corrs.index),\n",
        "                                     colorscale=colorscale,\n",
        "                                     annotation_text=corrs.round(2).values)\n",
        "    figure.show(renderer=\"colab\")"
      ],
      "metadata": {
        "colab": {
          "base_uri": "https://localhost:8080/",
          "height": 574,
          "referenced_widgets": [
            "19722b72f37841688c89b3c148a07899",
            "477d11c0092942aeb2ed5d10ba403c3b",
            "a4f689614d954cc4bb1fe1fb92103cd3",
            "3ef893d906034198bf5eb0aa24adf4a4",
            "95e9d3a3fe744c00bb3efc484cd3137d",
            "9b15f9a77a4a42ca9e4a2f43cb27cb86",
            "46374ea0513e449db27e6ff7dfeb8e0c"
          ]
        },
        "id": "QnDmPZxljZcu",
        "outputId": "835884cb-405e-4d60-b258-d85b7a8e6f7d"
      },
      "execution_count": null,
      "outputs": [
        {
          "output_type": "display_data",
          "data": {
            "text/plain": [
              "interactive(children=(Dropdown(description='colorscale', options=('Greys', 'YlGnBu', 'Greens', 'YlOrRd', 'Blue…"
            ],
            "application/vnd.jupyter.widget-view+json": {
              "version_major": 2,
              "version_minor": 0,
              "model_id": "19722b72f37841688c89b3c148a07899"
            }
          },
          "metadata": {}
        }
      ]
    },
    {
      "cell_type": "code",
      "source": [
        "df.set_index('published_date', inplace=True)"
      ],
      "metadata": {
        "id": "r9-2sjwUjfkz"
      },
      "execution_count": null,
      "outputs": []
    },
    {
      "cell_type": "code",
      "source": [
        "def print_articles_published(start_date, end_date):\n",
        "    start_date = pd.Timestamp(start_date)\n",
        "    end_date = pd.Timestamp(end_date)\n",
        "    stat_df = df.loc[(df.index >= start_date) & (df.index <= end_date)].copy()\n",
        "    total_words = stat_df['word_count'].sum()\n",
        "    total_read_time = stat_df['read_time'].sum()\n",
        "    num_articles = len(stat_df)\n",
        "    print(f'According to our dataset, published by Medium.com, there are {num_articles} articles between {start_date.date()} and {end_date.date()}.')\n",
        "    print(f'These articles totalled {total_words:,} words and {total_read_time/60:.2f} hours to read.')\n",
        "\n",
        "_ = interact(print_articles_published,\n",
        "             start_date=widgets.DatePicker(value=pd.to_datetime('2018-01-01')),\n",
        "             end_date=widgets.DatePicker(value=pd.to_datetime('2019-01-01')))"
      ],
      "metadata": {
        "colab": {
          "base_uri": "https://localhost:8080/",
          "height": 117,
          "referenced_widgets": [
            "a5bc097195b3497ca9a6909e53f9ce04",
            "ea10396f012a470a95ad087484aeb281",
            "fd97a1b2d9c949f09053c5b0480aaf4a",
            "8c00c18d752e4afd97564e30b294ccbc",
            "eaa61e16455748c0848a583a2754c617",
            "ffb85e59c49f478aa6bfad5e79565e2e",
            "1a54e83afa714c2285388a7d8323ef6f",
            "a922932673094245acb3a3d4013213ac",
            "e3d31ac58dc7404d92569fce33f49e19",
            "311dd888566245fdaf002b9fbb37ce27"
          ]
        },
        "id": "HgCSyljOqYJt",
        "outputId": "b8016a56-d388-4106-c0c3-5e99fb279b5d"
      },
      "execution_count": null,
      "outputs": [
        {
          "output_type": "display_data",
          "data": {
            "text/plain": [
              "interactive(children=(DatePicker(value=Timestamp('2018-01-01 00:00:00'), description='start_date'), DatePicker…"
            ],
            "application/vnd.jupyter.widget-view+json": {
              "version_major": 2,
              "version_minor": 0,
              "model_id": "a5bc097195b3497ca9a6909e53f9ce04"
            }
          },
          "metadata": {}
        }
      ]
    },
    {
      "cell_type": "code",
      "source": [
        "def plot_up_to(column, date):\n",
        "    date = pd.Timestamp(date)\n",
        "    plot_df = df.loc[df.index <= date].copy()\n",
        "    plot_df[column].cumsum().iplot(mode='markers+lines',\n",
        "                                   xTitle='published date',\n",
        "                                   yTitle=column,\n",
        "                                  title=f'Cumulative {column.title()} Until {date.date()}')\n",
        "\n",
        "_ = interact(plot_up_to, column=widgets.Dropdown(options=list(df.select_dtypes('number').columns)),\n",
        "             date = widgets.DatePicker(value=pd.to_datetime('2019-01-01')))"
      ],
      "metadata": {
        "colab": {
          "base_uri": "https://localhost:8080/",
          "height": 606,
          "referenced_widgets": [
            "e090f43309914bb9a06f3eea345247cc",
            "8a921a7185b44f2e8189fa9caa815421",
            "bd650a46d75047e5a3707b96ddf28e16",
            "460ff7a48f314dea84a0684523f48c54",
            "16d1eaa8d7984cdbb1c515df1bc9d19d",
            "cff17a8accf24a7a8bf1dd99fa7e2497",
            "e1c84c807bb147aba44d3d65ac55bd2a",
            "0df3803dccda4eea865972fcf2938ac2",
            "e16b56960e8e41aa9f7388ae2c809be5",
            "6a462091ec8346268b5c4f15f47eeaaf"
          ]
        },
        "id": "09Xicd1Pqa6n",
        "outputId": "4918091b-07fc-4221-c404-61fdee74dbce"
      },
      "execution_count": null,
      "outputs": [
        {
          "output_type": "display_data",
          "data": {
            "text/plain": [
              "interactive(children=(Dropdown(description='column', options=('claps', 'days_since_publication', 'fans', 'num_…"
            ],
            "application/vnd.jupyter.widget-view+json": {
              "version_major": 2,
              "version_minor": 0,
              "model_id": "e090f43309914bb9a06f3eea345247cc"
            }
          },
          "metadata": {}
        }
      ]
    }
  ]
}